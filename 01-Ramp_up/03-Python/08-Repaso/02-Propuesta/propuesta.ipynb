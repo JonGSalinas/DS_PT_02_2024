{
 "cells": [
  {
   "cell_type": "markdown",
   "metadata": {},
   "source": [
    "Dada la lista `[4,7, -3]`, calcula su máximo, mínimo y suma."
   ]
  },
  {
   "cell_type": "code",
   "execution_count": null,
   "metadata": {},
   "outputs": [],
   "source": [
    "lista = [4,7,-3]\n",
    "print(min(lista))\n",
    "print(max(lista))\n",
    "print(sum(lista))\n"
   ]
  },
  {
   "cell_type": "markdown",
   "metadata": {},
   "source": [
    "Pon la frase \"Born to be wild\" en mayúsculas, luego en minúsculas, divídela por espacios y, por último, sustituye \"wild\" por \"Geek\"."
   ]
  },
  {
   "cell_type": "code",
   "execution_count": null,
   "metadata": {},
   "outputs": [],
   "source": [
    "\"Born to be wild\".lower()\n",
    "\"Born to be wild\".upper()\n",
    "\"Born to be wild\".split()\n",
    "\"Born to be wild\".replace(\"wild\", \"Geek\")"
   ]
  },
  {
   "cell_type": "markdown",
   "metadata": {},
   "source": [
    "Crea un programa en el que se recojan dos entradas, y la salida del programa sea un booleano que indique al usuario si esas entradas son iguales o no."
   ]
  },
  {
   "cell_type": "code",
   "execution_count": null,
   "metadata": {},
   "outputs": [],
   "source": [
    "input1 = input(\"Ingresa un número\")\n",
    "input2 = input(\"Ingresa un número\")\n",
    "print(input1 == input2)\n"
   ]
  },
  {
   "cell_type": "markdown",
   "metadata": {},
   "source": [
    "Imprime los números entre 0 y 70 que son múltiplos de 3 y 5."
   ]
  },
  {
   "cell_type": "code",
   "execution_count": null,
   "metadata": {},
   "outputs": [],
   "source": [
    "for i in range(0,-22,-7):\n",
    "    print(i)"
   ]
  },
  {
   "cell_type": "code",
   "execution_count": null,
   "metadata": {},
   "outputs": [],
   "source": [
    "for i in range(-7,-22, -1):\n",
    "    print(i)"
   ]
  },
  {
   "cell_type": "markdown",
   "metadata": {},
   "source": [
    "Obtenga la primera y la segunda mejor puntuación de la lista.\n",
    "La lista contiene duplicados."
   ]
  },
  {
   "cell_type": "code",
   "execution_count": null,
   "metadata": {},
   "outputs": [],
   "source": [
    "scores = [86,86,85,85,85,83,23,45,84,1,2,0]\n",
    "set_scores = set(scores)\n",
    "print(set_scores)\n",
    "#l_scores = list(set_scores)\n",
    "l_scores = sorted(set_scores)\n",
    "print(l_scores[-1], l_scores[-2])\n",
    "print(l_scores[-2:])"
   ]
  },
  {
   "cell_type": "code",
   "execution_count": null,
   "metadata": {},
   "outputs": [],
   "source": [
    "print(set_scores)\n",
    "sorted(set_scores)"
   ]
  },
  {
   "cell_type": "code",
   "execution_count": null,
   "metadata": {},
   "outputs": [],
   "source": [
    "scores = [86,86,85,85,85,83,23,45,84,1,2,0]\n",
    "set_scores = set(scores)\n",
    "print(set_scores)\n",
    "l_scores = list(set_scores)\n",
    "max_scores = max(l_scores)\n",
    "l_scores.remove(max_scores)\n",
    "s_max_scores = max(l_scores)\n",
    "print(max_scores)\n",
    "print(s_max_scores)"
   ]
  },
  {
   "cell_type": "code",
   "execution_count": null,
   "metadata": {},
   "outputs": [],
   "source": []
  },
  {
   "cell_type": "markdown",
   "metadata": {},
   "source": []
  },
  {
   "cell_type": "code",
   "execution_count": null,
   "metadata": {},
   "outputs": [],
   "source": []
  },
  {
   "cell_type": "markdown",
   "metadata": {},
   "source": [
    " Haz una lista de diez alienígenas, cada uno de los cuales es de un color: 'rojo', 'verde' o 'azul'.\n",
    "    - Puedes acortarlo a 'r', 'g' y 'b' si quieres, pero si eliges esta opción tienes que incluir un comentario explicando qué significan r, g y b.\n",
    "    - Los alienígenas rojos valen 5 puntos, los verdes valen 10 puntos y los azules valen 20 puntos.\n",
    "    - Utilice un bucle for para determinar el número de puntos que ganaría un jugador por destruir todos los alienígenas de su lista."
   ]
  },
  {
   "cell_type": "code",
   "execution_count": null,
   "metadata": {},
   "outputs": [],
   "source": [
    "lista = [\"rojo\", \"verde\", \"rojo\", \"azul\", \"azul\", \"verde\", \"verde\", \"azul\", \"rojo\", \"azul\"]*10_000_000\n",
    "\n",
    "puntos = 0\n",
    "for alien in lista:\n",
    "    if alien == \"rojo\":\n",
    "        puntos = puntos + 5 # puntos += 5\n",
    "    elif alien == \"verde\":\n",
    "        puntos = puntos + 10\n",
    "    else:\n",
    "        puntos = puntos + 20\n",
    "\n",
    "\n",
    "\n",
    "\n"
   ]
  },
  {
   "cell_type": "code",
   "execution_count": null,
   "metadata": {},
   "outputs": [],
   "source": [
    "lista = [\"rojo\", \"verde\", \"rojo\", \"azul\", \"azul\", \"verde\", \"verde\", \"azul\", \"rojo\", \"azul\"]*10_000_000\n",
    "\n",
    "puntos = 0\n",
    "\n",
    "rojos = 5*lista.count(\"rojo\")\n",
    "verde = 10*lista.count(\"verde\")\n",
    "azul = 20*lista.count(\"azul\")\n",
    "puntos = rojos + verde + azul\n",
    "print(puntos)"
   ]
  },
  {
   "cell_type": "markdown",
   "metadata": {},
   "source": [
    "Crea un programa que calcule la media.\n",
    "\n",
    "El programa pedirá al usuario que especifique cuántos números quiere introducir, y mostrará un aviso para incluir número a número a una lista, y luego calculará la media de esa lista."
   ]
  },
  {
   "cell_type": "code",
   "execution_count": null,
   "metadata": {},
   "outputs": [],
   "source": [
    "aviso1 = int(input(\"Introduzca de cuántos números quieres hacer la media\"))\n",
    "\n",
    "lista_num = []\n",
    "for i in range(aviso1):\n",
    "    msg = \"Introduzca número \" + str(i+1)\n",
    "    num = float(input(msg))\n",
    "    lista_num.append(num)\n",
    "\n",
    "print(sum(lista_num)/aviso1)\n",
    "\n",
    "print(sum(lista_num)/len(lista_num))\n"
   ]
  },
  {
   "cell_type": "code",
   "execution_count": null,
   "metadata": {},
   "outputs": [],
   "source": [
    "\n",
    "print(sum(lista_num)/aviso1)\n",
    "\n",
    "print(sum(lista_num)/len(lista_num))"
   ]
  },
  {
   "cell_type": "code",
   "execution_count": null,
   "metadata": {},
   "outputs": [],
   "source": [
    "len(5)"
   ]
  },
  {
   "cell_type": "markdown",
   "metadata": {},
   "source": [
    "Haga lo que se describe a continuación:\n",
    "\n",
    "- Crea una variable llamada fuerza, y fija su valor inicial en 5.\n",
    "\n",
    "- Imprime un mensaje informando de la fuerza del jugador.\n",
    "\n",
    "- Establece un bucle while que se ejecute hasta que la fuerza del jugador aumente hasta un valor como 10.\n",
    "\n",
    "- Dentro del bucle while, imprime un mensaje que informe de la fuerza actual del jugador.\n",
    "\n",
    "- Dentro del bucle while, escribe una sentencia que incremente la fuerza del jugador.\n",
    "\n",
    "- Fuera del bucle while, imprime un mensaje informando de que el jugador se ha hecho demasiado fuerte, y que ha pasado a un nuevo nivel del juego.\n",
    "\n",
    "Juega con diferentes niveles de corte para el valor de la fuerza, y juega con diferentes maneras de aumentar el valor de la fuerza dentro del bucle while."
   ]
  },
  {
   "cell_type": "code",
   "execution_count": null,
   "metadata": {},
   "outputs": [],
   "source": [
    "fuerza = 5\n",
    "print(\"La fuerza del jugardor\", fuerza)\n",
    "while fuerza < 10:\n",
    "    fuerza += 1  #fuerza = fuerza + 1 \n",
    "    print(\"Tu fuerza es de\", fuerza)\n",
    "print(\"El jugador alcazó un nuevo nivel. Eres demasiado fuerte\")"
   ]
  },
  {
   "cell_type": "code",
   "execution_count": null,
   "metadata": {},
   "outputs": [],
   "source": [
    "dni = \"0123456789\"\n",
    "\n",
    "if type(dni) != str:\n",
    "    print(\"No es una cadena\")\n",
    "if len(dni) > 9:\n",
    "    print(\"Es demasiado largo\")\n",
    "if len(dni) < 9:\n",
    "    print(\"Es demasiado corto\")\n",
    "if dni[9].isnumeric() == True: ## dni[-1].isalpha() == False\n",
    "    print(\"No termina en letra\")\n"
   ]
  },
  {
   "cell_type": "code",
   "execution_count": null,
   "metadata": {},
   "outputs": [],
   "source": [
    "fuerza = 5\n",
    "print(\"La fuerza del jugardor\", fuerza)\n",
    "while fuerza < 10:\n",
    "    fuerza += 1  #fuerza = fuerza + 1 \n",
    "  "
   ]
  },
  {
   "cell_type": "code",
   "execution_count": null,
   "metadata": {},
   "outputs": [],
   "source": [
    "fuerza = 5\n",
    "print(\"La fuerza del jugardor\", fuerza)\n",
    "while fuerza <= 10:\n",
    "    fuerza += 1  #fuerza = fuerza + 1 \n",
    "    print(\"Tu fuerza es de\", fuerza)"
   ]
  },
  {
   "cell_type": "code",
   "execution_count": null,
   "metadata": {},
   "outputs": [],
   "source": [
    "fuerza = 5\n",
    "print(\"La fuerza del jugardor\", fuerza)\n",
    "while fuerza <= 10:\n",
    "    print(\"Tu fuerza es de\", fuerza)\n",
    "    fuerza += 1  #fuerza = fuerza + 1 "
   ]
  },
  {
   "cell_type": "markdown",
   "metadata": {},
   "source": [
    "\n",
    "Escribe una función que pida un entero e imprima el cuadrado del mismo. Sigue comprobando hasta que la función obtiene un entero.\n",
    "\n"
   ]
  },
  {
   "cell_type": "code",
   "execution_count": null,
   "metadata": {},
   "outputs": [],
   "source": [
    "# Version 1\n",
    "def cuadrado(i):\n",
    "    print(i**2)\n",
    "\n",
    "entero =  3.2\n",
    "while (type(entero) != int):\n",
    "    try:\n",
    "        entero = int(input(\"introduzca un entero\"))\n",
    "        cuadrado(entero)\n",
    "    except:\n",
    "        print(\"No es un número\")\n",
    "        \n",
    "\n"
   ]
  },
  {
   "cell_type": "code",
   "execution_count": null,
   "metadata": {},
   "outputs": [],
   "source": [
    "# Version 2\n",
    "def cuadrado(i):\n",
    "    print(i**2)\n",
    "\n",
    "es_entero =  False\n",
    "while (es_entero == False):\n",
    "    try:\n",
    "\n",
    "        entero = int(input(\"introduzca un entero\"))\n",
    "        es_entero = True\n",
    "        cuadrado(entero)\n",
    "\n",
    "    except:\n",
    "        print(\"No es un número\")\n",
    "        continue\n",
    "    print(entero+1)    \n"
   ]
  },
  {
   "cell_type": "code",
   "execution_count": null,
   "metadata": {},
   "outputs": [],
   "source": [
    "# Version 3\n",
    "def cuadrado(i):\n",
    "    print(i**2)\n",
    "\n",
    "while (True):\n",
    "    try:\n",
    "\n",
    "        entero = int(input(\"introduzca un entero\"))\n",
    "        cuadrado(entero)\n",
    "        break\n",
    "\n",
    "    except:\n",
    "        print(\"No es un número\")\n"
   ]
  },
  {
   "cell_type": "code",
   "execution_count": null,
   "metadata": {},
   "outputs": [],
   "source": [
    "# Version 4. Just for fun. No es adecuada ni es necesario conocer\n",
    "def cuadrado(i):\n",
    "    print(i**2)\n",
    "lista = [1]\n",
    "for i in lista:\n",
    "    try:\n",
    "\n",
    "        entero = int(input(\"introduzca un entero\"))\n",
    "        cuadrado(entero)\n",
    "        break\n",
    "\n",
    "    except:\n",
    "        lista.append(1)\n",
    "        print(\"No es un número\")"
   ]
  },
  {
   "cell_type": "code",
   "execution_count": null,
   "metadata": {},
   "outputs": [],
   "source": [
    "# Version 5. Just for fun. No es adecuada ni es necesario conocer\n",
    "def cuadrado():\n",
    "    try: \n",
    "        entero = int(input(\"introduzca un entero\"))\n",
    "        print(entero**2)\n",
    "    except: \n",
    "        cuadrado()\n",
    "cuadrado()"
   ]
  },
  {
   "cell_type": "markdown",
   "metadata": {},
   "source": [
    "Practice_10_OOP Ejercicio 1"
   ]
  },
  {
   "cell_type": "code",
   "execution_count": null,
   "metadata": {},
   "outputs": [],
   "source": [
    "# Para terminar, todo junto, un ejercicio COMPLEJO:\n",
    "# Escribe un programa que:\n",
    "# Pida al usuario un número entero por pantalla y continua insistiendo hasta que introduce un número entero correcto\n",
    "# Si no introduce un número entero, debes imprimir un mensaje de error y volver a pedir otro número entero al usuario\n",
    "# Si introduce un número distinto de 2, imprimir: \"Tu número favorito es X\", siendo X el número elegido \n",
    "# Si introduce el número 2, escribir \"El 2 también es mi numero favorito\"\n",
    "\n",
    "# Cronométrate y envíame lo que tengas tras 30 minutos intentándolo \n",
    "# Si me lo envías tras 1 hora itentandolo nunca lo sabré, me engañas a mi pero sobre todo te engañas a ti mismo\n",
    "\n",
    "# Tras 30 minutos puedes seguir inténtandolo "
   ]
  },
  {
   "cell_type": "code",
   "execution_count": null,
   "metadata": {},
   "outputs": [],
   "source": [
    "while (True):\n",
    "    num = int(input(\"Introduce un número: \"))\n",
    "    "
   ]
  },
  {
   "cell_type": "code",
   "execution_count": null,
   "metadata": {},
   "outputs": [],
   "source": [
    "# Un último de sucesiones\n",
    "# Piensa en el ejemplo de Fibonacci\n",
    "#Las sucesiones pueden ser muy flexibles: partiendo de la lista = [5,7], intenta generar la sucesión que usa la media de los dos números previos y suma uno al resultado\n",
    "# Sigue pensando en Fibonacci! "
   ]
  },
  {
   "cell_type": "code",
   "execution_count": null,
   "metadata": {},
   "outputs": [],
   "source": []
  },
  {
   "cell_type": "code",
   "execution_count": null,
   "metadata": {},
   "outputs": [],
   "source": [
    "# Crea un programa que pida al usuario números para calcular la raíz cuadrada de los mismos. Captura la excepción de que haya introducido un número negativo \n",
    "# y haz que calcule la raíz cuadrada del valor absoluto en esa situación\n",
    "# El programa continua pidiendo al usuario números y calculando la raíz hasta que el usuario introduzce el número 0, en cuyo caso, termina el programa."
   ]
  },
  {
   "cell_type": "markdown",
   "metadata": {},
   "source": [
    "Escribe un programa en Python que genere una lista cuyos valores sean cuadrados de números entre 1 y 30 (ambos incluidos), y devuelva una lista con los 5 primeros y últimos elementos de la lista."
   ]
  },
  {
   "cell_type": "code",
   "execution_count": 4,
   "metadata": {},
   "outputs": [
    {
     "data": {
      "text/plain": [
       "[1, 4, 9, 16, 25, 676, 729, 784, 841, 900]"
      ]
     },
     "execution_count": 4,
     "metadata": {},
     "output_type": "execute_result"
    }
   ],
   "source": [
    "lista_nums = []\n",
    "\n",
    "for i in range(1,31):                               #llega hasta el 29, por eso necesito el 31\n",
    "    lista_nums.append(i**2)                         #apendamos cada elemento i\n",
    "\n",
    "lista_5 = lista_nums[0:5] + lista_nums[-5:]         #concatemos dos sublistas de la lista original, con las posiciones requeridas\n",
    "\n",
    "lista_5"
   ]
  },
  {
   "cell_type": "code",
   "execution_count": 8,
   "metadata": {},
   "outputs": [
    {
     "data": {
      "text/plain": [
       "[1, 4, 9, 16, 25, 676, 729, 784, 841, 900]"
      ]
     },
     "execution_count": 8,
     "metadata": {},
     "output_type": "execute_result"
    }
   ],
   "source": [
    "def func_cuadrado (lista):\n",
    "    lista_nums = []\n",
    "    for i in range(1,31):                               #llega hasta el 29, por eso necesito el 31\n",
    "        lista_nums.append(i**2)                         #apendamos cada elemento i\n",
    "\n",
    "    lista_5 = lista_nums[0:5] + lista_nums[-5:] \n",
    "\n",
    "    return lista_5"
   ]
  },
  {
   "cell_type": "code",
   "execution_count": 10,
   "metadata": {},
   "outputs": [
    {
     "data": {
      "text/plain": [
       "[1, 4, 9, 16, 25, 676, 729, 784, 841, 900]"
      ]
     },
     "execution_count": 10,
     "metadata": {},
     "output_type": "execute_result"
    }
   ],
   "source": [
    "lista_cuad = [x**2 for x in range(1,31)]\n",
    "lista_5_mims = lista_cuad[0:5] + lista_cuad[-5:]\n",
    "\n",
    "lista_5_mims"
   ]
  },
  {
   "cell_type": "markdown",
   "metadata": {},
   "source": [
    "Escribe un programa que cuente cuantos objetos hay de cada tipo en está lista:\n"
   ]
  },
  {
   "cell_type": "code",
   "execution_count": 29,
   "metadata": {},
   "outputs": [],
   "source": [
    "lista_x = [1, True, 2.3, ['a', 'b'], 'hola', False, False, (2,3,5), 2, 3,5, [2,3,5], \"2,3,5\", \"[2,3,5]\"]"
   ]
  },
  {
   "cell_type": "code",
   "execution_count": 26,
   "metadata": {},
   "outputs": [],
   "source": [
    "def conteo_dicto(lista):\n",
    "    dict_tipos = {}\n",
    "    for l in lista_x:\n",
    "        if type(i) in dict_tipos.keys():\n",
    "            dict_tipos[l] = dict_tipos[l] + 1 # dict_conteo[i] += 1\n",
    "        else:\n",
    "            dict_tipos[l] = 1\n",
    "    return dict_tipos\n"
   ]
  },
  {
   "cell_type": "code",
   "execution_count": 30,
   "metadata": {},
   "outputs": [
    {
     "ename": "TypeError",
     "evalue": "unhashable type: 'list'",
     "output_type": "error",
     "traceback": [
      "\u001b[1;31m---------------------------------------------------------------------------\u001b[0m",
      "\u001b[1;31mTypeError\u001b[0m                                 Traceback (most recent call last)",
      "Cell \u001b[1;32mIn[30], line 6\u001b[0m\n\u001b[0;32m      4\u001b[0m         dict_tipos[l] \u001b[38;5;241m=\u001b[39m dict_tipos[l] \u001b[38;5;241m+\u001b[39m \u001b[38;5;241m1\u001b[39m \u001b[38;5;66;03m# dict_conteo[i] += 1\u001b[39;00m\n\u001b[0;32m      5\u001b[0m     \u001b[38;5;28;01melse\u001b[39;00m:\n\u001b[1;32m----> 6\u001b[0m         \u001b[43mdict_tipos\u001b[49m\u001b[43m[\u001b[49m\u001b[43ml\u001b[49m\u001b[43m]\u001b[49m \u001b[38;5;241m=\u001b[39m \u001b[38;5;241m1\u001b[39m\n\u001b[0;32m      7\u001b[0m dict_tipos\n\u001b[0;32m     10\u001b[0m \u001b[38;5;66;03m#corregir\u001b[39;00m\n",
      "\u001b[1;31mTypeError\u001b[0m: unhashable type: 'list'"
     ]
    }
   ],
   "source": [
    "dict_tipos = {}\n",
    "for l in lista_x:\n",
    "    if type(i) in dict_tipos.keys():\n",
    "        dict_tipos[l] = dict_tipos[l] + 1 # dict_conteo[i] += 1\n",
    "    else:\n",
    "        dict_tipos[l] = 1\n",
    "dict_tipos\n",
    "\n",
    "\n",
    "#corregir"
   ]
  },
  {
   "cell_type": "markdown",
   "metadata": {},
   "source": [
    "### Con lista y con diccionario fruta/color\n",
    "\n",
    "La siguiente lista contiene algunas frutas:\n",
    "    \n",
    "`fruits = ['banana', 'orange', 'mango', 'lemon']`\n",
    "\n",
    "Si una fruta no existe en la lista añade la fruta a la lista e imprime la lista modificada. Si la fruta existe print('Esa fruta ya existe en la lista')"
   ]
  },
  {
   "cell_type": "code",
   "execution_count": 36,
   "metadata": {},
   "outputs": [
    {
     "ename": "ValueError",
     "evalue": "invalid literal for int() with base 10: ''",
     "output_type": "error",
     "traceback": [
      "\u001b[1;31m---------------------------------------------------------------------------\u001b[0m",
      "\u001b[1;31mValueError\u001b[0m                                Traceback (most recent call last)",
      "Cell \u001b[1;32mIn[36], line 3\u001b[0m\n\u001b[0;32m      1\u001b[0m fruits \u001b[38;5;241m=\u001b[39m [\u001b[38;5;124m'\u001b[39m\u001b[38;5;124mbanana\u001b[39m\u001b[38;5;124m'\u001b[39m, \u001b[38;5;124m'\u001b[39m\u001b[38;5;124morange\u001b[39m\u001b[38;5;124m'\u001b[39m, \u001b[38;5;124m'\u001b[39m\u001b[38;5;124mmango\u001b[39m\u001b[38;5;124m'\u001b[39m, \u001b[38;5;124m'\u001b[39m\u001b[38;5;124mlemon\u001b[39m\u001b[38;5;124m'\u001b[39m]\n\u001b[1;32m----> 3\u001b[0m posicion \u001b[38;5;241m=\u001b[39m \u001b[38;5;28;43mint\u001b[39;49m\u001b[43m(\u001b[49m\u001b[38;5;28;43minput\u001b[39;49m\u001b[43m(\u001b[49m\u001b[38;5;124;43m\"\u001b[39;49m\u001b[38;5;124;43mEn qué posición quieres que introduzcamos la fruta en la lista?\u001b[39;49m\u001b[38;5;124;43m\"\u001b[39;49m\u001b[43m)\u001b[49m\u001b[43m)\u001b[49m\n\u001b[0;32m      5\u001b[0m fruta \u001b[38;5;241m=\u001b[39m \u001b[38;5;28minput\u001b[39m(\u001b[38;5;124m\"\u001b[39m\u001b[38;5;124mDime una fruta\u001b[39m\u001b[38;5;124m\"\u001b[39m)\n\u001b[0;32m      7\u001b[0m \u001b[38;5;28;01mif\u001b[39;00m fruta \u001b[38;5;129;01min\u001b[39;00m fruits:\n",
      "\u001b[1;31mValueError\u001b[0m: invalid literal for int() with base 10: ''"
     ]
    }
   ],
   "source": [
    "fruits = ['banana', 'orange', 'mango', 'lemon']\n",
    "\n",
    "posicion = int(input(\"En qué posición quieres que introduzcamos la fruta en la lista?\"))\n",
    "\n",
    "fruta = input(\"Dime una fruta\")\n",
    "\n",
    "if fruta in fruits:\n",
    "    print(\"Esta fruta ya existe\")\n",
    "\n",
    "else:\n",
    "    fruits.insert(posicion, fruta)\n",
    "\n",
    "fruits\n",
    "\n",
    "#con el metodo insert lo podemos meter en la posición de la lista que queramos\n",
    "#lo de la posición no funciona tampoco con el append, porque este metodo siempre lo metemos al final"
   ]
  },
  {
   "cell_type": "markdown",
   "metadata": {},
   "source": [
    "De la lista dada:\n",
    "    \n",
    "    a) Crea listas separadas de cadenas y números.\n",
    "\n",
    "    b) Ordena la lista de cadenas en orden ascendente.\n",
    "\n",
    "    c) Ordena la lista de cadenas en orden descendente\n",
    "\n",
    "    d) Ordenar la lista de números de menor a mayor\n",
    "\n",
    "    e) Ordenar la lista de números de mayor a menor"
   ]
  },
  {
   "cell_type": "code",
   "execution_count": 64,
   "metadata": {},
   "outputs": [
    {
     "name": "stdout",
     "output_type": "stream",
     "text": [
      "['Mobile', 'Laptop', 'Camera', 'Speakers', 'Television', 'Laptop Case', 'Camera Lens']\n"
     ]
    }
   ],
   "source": [
    "gadgets = [\"Mobile\", \"Laptop\", 100, \"Camera\", 310.28, \"Speakers\", 27.00, \n",
    "           \"Television\", 1000, \"Laptop Case\", \"Camera Lens\"]\n",
    "\n",
    "list_str = []\n",
    "list_num = []\n",
    "\n",
    "for i in gadgets:\n",
    "    if type(i) == int or type(i) == float:\n",
    "        list_num.append(i)\n",
    "    else:\n",
    "        list_str.append(i)\n",
    "\n",
    "print(list_str)"
   ]
  },
  {
   "cell_type": "code",
   "execution_count": 65,
   "metadata": {},
   "outputs": [
    {
     "data": {
      "text/plain": [
       "[100, 310.28, 27.0, 1000]"
      ]
     },
     "execution_count": 65,
     "metadata": {},
     "output_type": "execute_result"
    }
   ],
   "source": [
    "list_num"
   ]
  },
  {
   "cell_type": "code",
   "execution_count": 54,
   "metadata": {},
   "outputs": [
    {
     "name": "stdout",
     "output_type": "stream",
     "text": [
      "[27.0, 100, 310.28, 1000]\n",
      "['Camera', 'Camera Lens', 'Laptop', 'Laptop Case', 'Mobile', 'Speakers', 'Television']\n"
     ]
    }
   ],
   "source": [
    "print(sorted(list_num))\n",
    "print(sorted(list_str))\n"
   ]
  },
  {
   "cell_type": "code",
   "execution_count": 67,
   "metadata": {},
   "outputs": [
    {
     "name": "stdout",
     "output_type": "stream",
     "text": [
      "[27.0, 100, 310.28, 1000]\n"
     ]
    }
   ],
   "source": [
    "list_num.sort()\n",
    "print(list_num)"
   ]
  },
  {
   "cell_type": "markdown",
   "metadata": {},
   "source": [
    "Una empresa va a abrir un banco, diseñemos la clase usuario\n",
    "\n",
    "Debes incluir lo siguiente:\n",
    "\n",
    "**Un método de retirada**\n",
    "- Resta dinero del saldo\n",
    "- Un parámetro, dinero a retirar\n",
    "- Imprimer un mensaje de error por pantalla si no hay saldo para retirar\n",
    "- Devuelve una cadena con nombre y saldo\n",
    "\n",
    "**Un método add_cash**\n",
    "- Añade dinero al saldo\n",
    "- Un parámetro, dinero a añadir\n",
    "- Devuelve una cadena con nombre y saldo\n",
    "\n",
    "**Un método historial**\n",
    "- LLeva la cuenta de cuatas retiradas ya add_cash se han producido\n",
    "- Registra toda operación realizada por el usuario: tipo de operación (add_cash, retirada) y el saldo antes y después de la operación \n",
    "\n",
    "**Método comisiones**\n",
    "- Resta 10 euros del saldo al cliente\n",
    "\n",
    "\n",
    "**Notas adicionales:**\n",
    "\n",
    "- Todos los usuarios tienen nombre, apellidos y un número de cuenta que siempre será distinto\n",
    "- Ningún número de entrada será negativo\n",
    "\n"
   ]
  },
  {
   "cell_type": "code",
   "execution_count": 6,
   "metadata": {},
   "outputs": [],
   "source": [
    "class Usuario():\n",
    "\n",
    "    def __init__(self, nombre, apellido1, apellido2, n_cuenta, saldo = 0):\n",
    "        self.nombre = nombre\n",
    "        self.apellido1 = apellido1\n",
    "        self.apellido2 = apellido2\n",
    "        self.n_cuenta = n_cuenta\n",
    "        self.saldo = saldo\n",
    "        self.registro = []\n",
    "\n",
    "    def retirada(self, dinero):\n",
    "        self.historial(-dinero)\n",
    "        if dinero > self.saldo:\n",
    "            return \"La cantidad de dinero a retirar es mayor que el saldo\"\n",
    "        else:\n",
    "            self.saldo -= dinero\n",
    "            return f'{self.nombre} : {self.saldo}'\n",
    "\n",
    "    def add_cash(self, dinero):\n",
    "        self.historial(-dinero)\n",
    "        self.saldo += dinero\n",
    "        return f'{self.nombre}:{self.saldo}'\n",
    "\n",
    "    def comision(self, saldo):\n",
    "        self.historial(-dinero)\n",
    "        self.saldo = self.saldo - 10\n",
    "    \n",
    "    def historial(self, dinero):\n",
    "        if dinero >= 0:\n",
    "            tipo = 'add_cash'\n",
    "        else:\n",
    "            tipo = 'retirada'\n",
    "\n",
    "        registro = {'Saldo anterior': self.saldo, 'Saldo después': self.saldo - dinero, 'tipo': tipo}\n",
    "        self.registro.append(registro)\n"
   ]
  },
  {
   "cell_type": "code",
   "execution_count": 7,
   "metadata": {},
   "outputs": [
    {
     "data": {
      "text/plain": [
       "'Alvaro:25'"
      ]
     },
     "execution_count": 7,
     "metadata": {},
     "output_type": "execute_result"
    }
   ],
   "source": [
    "user1 = Usuario('Alvaro', 'Martin', 'Martin','123')\n",
    "\n",
    "user1.add_cash(25)"
   ]
  },
  {
   "cell_type": "code",
   "execution_count": 8,
   "metadata": {},
   "outputs": [],
   "source": [
    "user1.historial(25)"
   ]
  },
  {
   "cell_type": "markdown",
   "metadata": {},
   "source": [
    "Ahora la clase Banco:\n",
    "\n",
    "**Método añadir cliente**\n",
    "Añade un nuevo cliente al banco. (lista, diccionario, tupla?)\n",
    "No pueden existir dos números de cuenta iguales: se sobreescribe dicho cliente\n",
    "\n",
    "**Método eliminar cliente**\n",
    "Se elimina un cliente si existe. \n",
    "Si no existe imprimer mensaje de que no existe dicho cliente\n",
    "\n",
    "**Saldo total del banco**\n",
    "Devuelve la totalidad del saldo sumado para todos los clientes\n",
    "\n",
    "**Metodo fin de mes**\n",
    "Cobra la comisión mensual a los clientes\n",
    "Calcula las comisiones totales cobradas\n",
    "Calcula el saldo total de los clientes del banco tras el pago de comisiones\n"
   ]
  },
  {
   "cell_type": "code",
   "execution_count": 18,
   "metadata": {},
   "outputs": [],
   "source": [
    "class Banco():\n",
    "\n",
    "    dicc_clientes = {}\n",
    "\n",
    "    def añadir_cliente(self, usuario):\n",
    "        \n",
    "        self.dicc_clientes[usuario.n_cuenta] = usuario        #vars enseña los valores de una clase\n",
    "    \n",
    "\n",
    "    def eliminar_clientes(self, usuario):\n",
    "        if usuario.n_cuenta in self.dicc_clientes.keys():\n",
    "            self.dicc_clientes.pop(usuario.n_cuenta)\n",
    "\n",
    "        else:\n",
    "            print(\"No existe dicho cliente\")\n",
    "\n",
    "    def saldo_total(self):\n",
    "        saldo = 0\n",
    "        for c in self.dicc_clientes.keys():\n",
    "            saldo += self.dicc_clientes[c].saldo\n",
    "\n",
    "    \n",
    "    def fin_mes(self, comision):\n",
    "        for c in self.dicc_clientes.keys():\n",
    "            self.dicc_clientes[c].comisiones()"
   ]
  },
  {
   "cell_type": "code",
   "execution_count": 15,
   "metadata": {},
   "outputs": [],
   "source": [
    "banco = Banco()\n",
    "\n",
    "banco.añadir_cliente(user1)"
   ]
  },
  {
   "cell_type": "code",
   "execution_count": 17,
   "metadata": {},
   "outputs": [
    {
     "ename": "KeyError",
     "evalue": "123",
     "output_type": "error",
     "traceback": [
      "\u001b[1;31m---------------------------------------------------------------------------\u001b[0m",
      "\u001b[1;31mKeyError\u001b[0m                                  Traceback (most recent call last)",
      "Cell \u001b[1;32mIn[17], line 1\u001b[0m\n\u001b[1;32m----> 1\u001b[0m \u001b[43mbanco\u001b[49m\u001b[38;5;241;43m.\u001b[39;49m\u001b[43mdicc_clientes\u001b[49m\u001b[43m[\u001b[49m\u001b[38;5;241;43m123\u001b[39;49m\u001b[43m]\u001b[49m\u001b[38;5;241m.\u001b[39msaldo\n",
      "\u001b[1;31mKeyError\u001b[0m: 123"
     ]
    }
   ],
   "source": [
    "banco.dicc_clientes[123].saldo"
   ]
  },
  {
   "cell_type": "markdown",
   "metadata": {},
   "source": [
    "Dada una lista con 3 números del 1 al 20, escribe un programar que pida al usuario 5 números del 1 al 20 y lleve la cuenta del total de aciertos y fallos y los números introducidos\n",
    "Si se aciertan los 3 números antes de finalizar las 5 rondas el programa debe parar\n",
    "Si no se han acertado los 3 números, al final deben imprimirse los números que no fueron acertados.\n"
   ]
  },
  {
   "cell_type": "code",
   "execution_count": 95,
   "metadata": {},
   "outputs": [
    {
     "name": "stdout",
     "output_type": "stream",
     "text": [
      "Has ganado\n",
      "Has ganado\n",
      "Has ganado\n",
      "{2, 4}\n"
     ]
    }
   ],
   "source": [
    "lista_obj = [8,9,10]\n",
    "\n",
    "acierto = 0 \n",
    "fallo = 0\n",
    "\n",
    "lista_usuario = []\n",
    "\n",
    "for i in range(5):\n",
    "    nums = int(input(\"Introduzca 5 nums del 1 al 20\"))\n",
    "    if nums in lista_obj:\n",
    "        acierto += 1\n",
    "\n",
    "    else:\n",
    "        fallo += 1\n",
    "    \n",
    "    lista_usuario.append(nums)\n",
    "\n",
    "    if acierto == 3:\n",
    "        print('Has ganado')\n",
    "        print\n",
    "\n",
    "print(set(lista_usuario) - set(lista_obj))"
   ]
  },
  {
   "cell_type": "markdown",
   "metadata": {},
   "source": [
    "Los ejercicios hechos sin OOP, usar OOP y los de OOP, pasar a funciones"
   ]
  }
 ],
 "metadata": {
  "kernelspec": {
   "display_name": "Python 3",
   "language": "python",
   "name": "python3"
  },
  "language_info": {
   "codemirror_mode": {
    "name": "ipython",
    "version": 3
   },
   "file_extension": ".py",
   "mimetype": "text/x-python",
   "name": "python",
   "nbconvert_exporter": "python",
   "pygments_lexer": "ipython3",
   "version": "3.11.6"
  }
 },
 "nbformat": 4,
 "nbformat_minor": 2
}
