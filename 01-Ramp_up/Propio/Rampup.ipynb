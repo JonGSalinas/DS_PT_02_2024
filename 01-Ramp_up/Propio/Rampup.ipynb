{
 "cells": [
  {
   "cell_type": "markdown",
   "metadata": {},
   "source": [
    "## 1. if/elif/else"
   ]
  },
  {
   "cell_type": "markdown",
   "metadata": {},
   "source": [
    "Debemos añadir siempre una expresión de comparación.\n",
    "Responde a la estructura: si X se cumple: entonces haz esto."
   ]
  },
  {
   "cell_type": "code",
   "execution_count": 3,
   "metadata": {},
   "outputs": [
    {
     "name": "stdout",
     "output_type": "stream",
     "text": [
      "Aviso por alta temperatura\n"
     ]
    }
   ],
   "source": [
    "temperatura = 40            #Declaramos que temp = 35\n",
    "\n",
    "if temperatura > 35:                            # Si temperatura es mayor que 35,\n",
    "    print(\"Aviso por alta temperatura\")         # imprime el mensaje.\n",
    "\n",
    "else:                                           # Si no cumple la condición del if,\n",
    "    print(\"Temperatura normal\")                 # imprime el mensaje siguiente."
   ]
  },
  {
   "cell_type": "markdown",
   "metadata": {},
   "source": [
    "Podríamos tener incluso condiciones dentro de condiciones, lo que se viene a llamar\n",
    "técnicamente condiciones anidadas3\n",
    ". Veamos un ejemplo ampliando el caso anterior:\n"
   ]
  },
  {
   "cell_type": "code",
   "execution_count": 4,
   "metadata": {},
   "outputs": [
    {
     "name": "stdout",
     "output_type": "stream",
     "text": [
      "Nivel naranja\n"
     ]
    }
   ],
   "source": [
    "temperature = 28\n",
    "if temperature < 20:\n",
    "    if temperature < 10:\n",
    "        print(\"Nivel azul\")\n",
    "    else:\n",
    "        print(\"Nivel verde\")\n",
    "else:\n",
    "    if temperature < 30:\n",
    "        print(\"Nivel naranja\")\n",
    "    else:\n",
    "        print(\"Nivel rojo\")"
   ]
  },
  {
   "cell_type": "markdown",
   "metadata": {},
   "source": [
    "Con elif"
   ]
  },
  {
   "cell_type": "code",
   "execution_count": 9,
   "metadata": {},
   "outputs": [
    {
     "name": "stdout",
     "output_type": "stream",
     "text": [
      "Nivel rojo\n"
     ]
    }
   ],
   "source": [
    "temperature = 280\n",
    "if temperature < 20:\n",
    "    if temperature < 10:\n",
    "        print(\"Nivel azul\")\n",
    "    else:\n",
    "        print(\"Nivel verde\")\n",
    "elif temperature < 30:\n",
    "    print(\"Nivel naranja\")\n",
    "else:\n",
    "    print(\"Nivel rojo\")"
   ]
  },
  {
   "cell_type": "code",
   "execution_count": 22,
   "metadata": {},
   "outputs": [
    {
     "name": "stdout",
     "output_type": "stream",
     "text": [
      "1.0\n"
     ]
    }
   ],
   "source": [
    "num1 = float(input(\"Introduce un número 1\"))\n",
    "num2 = float(input(\"Introduce un número 2\"))\n",
    "op = input(\"Introduce un operador\")\n",
    "\n",
    "\n",
    "match op:\n",
    "    case '+':\n",
    "        print(num1+num2)\n",
    "    case '-':\n",
    "        print(num1-num2)\n",
    "    case '*':\n",
    "        print(num1*num2)\n",
    "    case '/':\n",
    "        print(num1/num2)\n",
    "    case _:\n",
    "        print(\"No es una operación admitida\")\n"
   ]
  },
  {
   "cell_type": "code",
   "execution_count": 27,
   "metadata": {},
   "outputs": [
    {
     "name": "stdout",
     "output_type": "stream",
     "text": [
      "Pide dos cervezas\n"
     ]
    }
   ],
   "source": [
    "edad = 4213\n",
    "match edad:\n",
    "    case 0 | None:\n",
    "        print(\"No es una persona\")\n",
    "    case n if n < 17:\n",
    "        print('eres menor')\n",
    "    case n if n < 22:\n",
    "        print('Eres mayor de edad, salvo en eEUU')\n",
    "    case _:\n",
    "        print('Pide dos cervezas')"
   ]
  },
  {
   "cell_type": "markdown",
   "metadata": {},
   "source": [
    "Con operador morsa"
   ]
  },
  {
   "cell_type": "code",
   "execution_count": 37,
   "metadata": {},
   "outputs": [
    {
     "name": "stdout",
     "output_type": "stream",
     "text": [
      "No es una persona\n"
     ]
    }
   ],
   "source": [
    "edad = 0\n",
    "match edad:\n",
    "    case 0 | None: print(\"No es una persona\")\n",
    "    case n if n < 17: print('eres menor')\n",
    "    case n if n < 22: print('Eres mayor de edad, salvo en eEUU')\n",
    "    case _: print('Pide dos cervezas')\n",
    "\n"
   ]
  },
  {
   "cell_type": "code",
   "execution_count": 45,
   "metadata": {},
   "outputs": [
    {
     "name": "stdout",
     "output_type": "stream",
     "text": [
      "{'username': 'sdelquin', 'password': '1234'}\n",
      "Authenticating with username and password\n",
      "sdelquin: 1234\n",
      "---\n",
      "{'email': 'sdelquin@gmail.com', 'token': '4321'}\n",
      "Authenticating with email and token\n",
      "sdelquin@gmail.com: 4321\n",
      "---\n",
      "{'email': 'test@test.com', 'password': 'ABCD'}\n",
      "Authenticating method not valid!\n",
      "---\n",
      "{'username': 'sdelquin', 'password': 1234}\n",
      "Authenticating method not valid!\n",
      "---\n"
     ]
    },
    {
     "data": {
      "text/plain": [
       "{'username': 'sdelquin', 'password': 1234}"
      ]
     },
     "execution_count": 45,
     "metadata": {},
     "output_type": "execute_result"
    }
   ],
   "source": [
    "# Lista de diccionarios\n",
    "auths = [\n",
    "    {'username': 'sdelquin', 'password': '1234'},\n",
    "    {'email': 'sdelquin@gmail.com', 'token': '4321'},\n",
    "    {'email': 'test@test.com', 'password': 'ABCD'},\n",
    "    {'username': 'sdelquin', 'password': 1234}\n",
    "]\n",
    "\n",
    "for auth in auths:\n",
    "    print(auth)\n",
    "    match auth:\n",
    "        case {'username': str(username), 'password': str(password)}:\n",
    "            print('Authenticating with username and password')\n",
    "            print(f'{username}: {password}')\n",
    "        case {'email': str(email), 'token': str(token)}:\n",
    "            print('Authenticating with email and token')\n",
    "            print(f'{email}: {token}')\n",
    "        case _:\n",
    "            print('Authenticating method not valid!')\n",
    "    print('---')\n",
    "\n",
    "{'username': 'sdelquin', 'password': '1234'}\n",
    "{'email': 'sdelquin@gmail.com', 'token': '4321'}\n",
    "{'email': 'test@test.com', 'password': 'ABCD'}\n",
    "{'username': 'sdelquin', 'password': 1234}"
   ]
  },
  {
   "cell_type": "code",
   "execution_count": 32,
   "metadata": {},
   "outputs": [
    {
     "name": "stdout",
     "output_type": "stream",
     "text": [
      "Uno\n"
     ]
    }
   ],
   "source": [
    "valor = 1\n",
    "\n",
    "match valor:\n",
    "    case 0:  resultado = \"Cero\"\n",
    "    case 1: resultado = \"Uno\"\n",
    "    case _: resultado = \"Otro valor\"\n",
    "\n",
    "print(resultado)"
   ]
  },
  {
   "cell_type": "markdown",
   "metadata": {},
   "source": [
    "Propuestos\n",
    "\n",
    "1. Escriba un programa en Python que acepte la opción de dos jugadoras en\n",
    "Piedra-Papel-Tijera y decida el resultado (solución).\n",
    "Entrada: persona1=piedra; persona2=papel\n",
    "Salida: Gana persona2: El papel envuelve a la piedra\n",
    "2. Escriba un programa en Python que acepte 3 números y calcule el mínimo (solución).\n",
    "Entrada: 7, 4, 9\n",
    "Salida: 4\n",
    "3. Escriba un programa en Python que acepte un país (como «string») y muestre por\n",
    "pantalla su bandera (como «emoji»). Puede restringirlo a un conjunto limitado de\n",
    "países (solución).\n",
    "Entrada: Italia\n",
    "Salida: ��\n",
    "4. Escriba un programa en Python que acepte 3 códigos de teclas y muestre por pantalla\n",
    "la acción que se lleva a cabo en sistemas Ubuntu Linux (solución).\n",
    "Entrada: tecla1=Ctrl; tecla2=Alt; tecla3=Del;\n",
    "Salida: Log out\n",
    "5. Escriba un programa en Python que acepte edad, peso, pulso y plaquetas, y determine\n",
    "si una persona cumple con estos requisitos para donar sangre.\n",
    "Entrada: edad=34; peso=81; heartbeat=70; plaquetas=150000\n",
    "Salida: Apto para donar sangre"
   ]
  },
  {
   "cell_type": "markdown",
   "metadata": {},
   "source": [
    "## 4. Bucle while\n",
    "Se trata de otra manera de implementar un bucle en programación. \n",
    "\n",
    "\"Mientras se cumpla la condición....\"\n",
    "\n",
    "La manera más habitual de implementar estos bucles es:\n",
    "1. Declaro la **variable de ejecución fuera del bucle**  quiere_otra == 0\n",
    "2. Establezco una **condición de ejecución** para determinar cuándo queremos que se pare el bucle.  if quiere_otra == \n",
    "3. **Actualizo la variable de ejecución** en cada iteración del bucle.\n",
    "\n",
    "\n",
    "Los bucles tienen que ir siempre limitados. En el caso del `for`, le poníamos un número concreto de ejecuciones, según el iterable que estuviésemos recorriendo. Para el `while` es algo diferente. Tiene una **condición de ejecución**, que mientras que se cumpla (`True`), seguirá ejecutando una y otra vez. Por otro lado, el bucle tiene una **variable de ejecucón**, al igual que en el `for`, que se irá actualizando con cada vuelta, y es esa variable la que determina cuándo acaba el bucle.\n",
    "\n",
    "![imagen](./img/while-loop.png)"
   ]
  },
  {
   "cell_type": "code",
   "execution_count": 4,
   "metadata": {},
   "outputs": [
    {
     "name": "stdout",
     "output_type": "stream",
     "text": [
      "Aquí tiene otra\n",
      "Aquí tiene otra\n",
      "Aquí tiene otra\n",
      "Aquí tiene otra\n",
      "Aquí tiene otra\n",
      "Aquí tiene otra\n",
      "Aquí tiene otra\n",
      "Aquí tiene su cuenta 7\n"
     ]
    }
   ],
   "source": [
    "quiere_otra = 'S'\n",
    "cuenta = 0\n",
    "\n",
    "while quiere_otra == 'S':\n",
    "    print('Aquí tiene otra')\n",
    "    quiere_otra = input(\"¿Quiere otra? [S/N]\")\n",
    "    if quiere_otra == 'S':\n",
    "        cuenta += 1\n",
    "print('Aquí tiene su cuenta', cuenta+1)"
   ]
  },
  {
   "cell_type": "code",
   "execution_count": 12,
   "metadata": {},
   "outputs": [
    {
     "name": "stdout",
     "output_type": "stream",
     "text": [
      "1 * 1 = 1\n",
      "1 * 2 = 2\n",
      "1 * 3 = 3\n",
      "1 * 4 = 4\n",
      "1 * 5 = 5\n",
      "1 * 6 = 6\n",
      "1 * 7 = 7\n",
      "1 * 8 = 8\n",
      "1 * 9 = 9\n",
      "2 * 1 = 2\n",
      "2 * 2 = 4\n",
      "2 * 3 = 6\n",
      "2 * 4 = 8\n",
      "2 * 5 = 10\n",
      "2 * 6 = 12\n",
      "2 * 7 = 14\n",
      "2 * 8 = 16\n",
      "2 * 9 = 18\n",
      "3 * 1 = 3\n",
      "3 * 2 = 6\n",
      "3 * 3 = 9\n",
      "3 * 4 = 12\n",
      "3 * 5 = 15\n",
      "3 * 6 = 18\n",
      "3 * 7 = 21\n",
      "3 * 8 = 24\n",
      "3 * 9 = 27\n",
      "4 * 1 = 4\n",
      "4 * 2 = 8\n",
      "4 * 3 = 12\n",
      "4 * 4 = 16\n",
      "4 * 5 = 20\n",
      "4 * 6 = 24\n",
      "4 * 7 = 28\n",
      "4 * 8 = 32\n",
      "4 * 9 = 36\n",
      "5 * 1 = 5\n",
      "5 * 2 = 10\n",
      "5 * 3 = 15\n",
      "5 * 4 = 20\n",
      "5 * 5 = 25\n",
      "5 * 6 = 30\n",
      "5 * 7 = 35\n",
      "5 * 8 = 40\n",
      "5 * 9 = 45\n",
      "6 * 1 = 6\n",
      "6 * 2 = 12\n",
      "6 * 3 = 18\n",
      "6 * 4 = 24\n",
      "6 * 5 = 30\n",
      "6 * 6 = 36\n",
      "6 * 7 = 42\n",
      "6 * 8 = 48\n",
      "6 * 9 = 54\n",
      "7 * 1 = 7\n",
      "7 * 2 = 14\n",
      "7 * 3 = 21\n",
      "7 * 4 = 28\n",
      "7 * 5 = 35\n",
      "7 * 6 = 42\n",
      "7 * 7 = 49\n",
      "7 * 8 = 56\n",
      "7 * 9 = 63\n",
      "8 * 1 = 8\n",
      "8 * 2 = 16\n",
      "8 * 3 = 24\n",
      "8 * 4 = 32\n",
      "8 * 5 = 40\n",
      "8 * 6 = 48\n",
      "8 * 7 = 56\n",
      "8 * 8 = 64\n",
      "8 * 9 = 72\n",
      "9 * 1 = 9\n",
      "9 * 2 = 18\n",
      "9 * 3 = 27\n",
      "9 * 4 = 36\n",
      "9 * 5 = 45\n",
      "9 * 6 = 54\n",
      "9 * 7 = 63\n",
      "9 * 8 = 72\n",
      "9 * 9 = 81\n"
     ]
    }
   ],
   "source": [
    "\n",
    "for i in range(1,10):\n",
    "    for j in range(1,10):\n",
    "        resultado = i * j\n",
    "        print(f'{i} * {j} = {resultado}')"
   ]
  },
  {
   "cell_type": "code",
   "execution_count": 16,
   "metadata": {},
   "outputs": [
    {
     "name": "stdout",
     "output_type": "stream",
     "text": [
      "1 * 1\n"
     ]
    }
   ],
   "source": [
    "for i in range(1,2):\n",
    "    resultado = i ** 2\n",
    "    print(f'{i} * {i}' = resultado)"
   ]
  },
  {
   "cell_type": "code",
   "execution_count": 20,
   "metadata": {},
   "outputs": [
    {
     "name": "stdout",
     "output_type": "stream",
     "text": [
      "X U U U U \n",
      "D X U U U \n",
      "D D X U U \n",
      "D D D X U \n",
      "D D D D X \n"
     ]
    }
   ],
   "source": [
    "tamanio = 5\n",
    "\n",
    "for fila in range(tamanio):\n",
    "    for col in range(tamanio):\n",
    "        if fila < col:\n",
    "            symbol = 'U'\n",
    "        elif fila > col:\n",
    "            symbol = 'D'\n",
    "        else:\n",
    "            symbol = 'X'\n",
    "        print(symbol, end=' ')\n",
    "    print()"
   ]
  },
  {
   "cell_type": "code",
   "execution_count": 22,
   "metadata": {},
   "outputs": [
    {
     "data": {
      "text/plain": [
       "[0, 2, 4, 6, 8, 10, 12, 14, 16, 18]"
      ]
     },
     "execution_count": 22,
     "metadata": {},
     "output_type": "execute_result"
    }
   ],
   "source": [
    "even_numbers = []\n",
    "for i in range(20):\n",
    "    if i % 2 == 0:\n",
    "        even_numbers.append(i)\n",
    "\n",
    "even_numbers"
   ]
  },
  {
   "cell_type": "markdown",
   "metadata": {},
   "source": []
  },
  {
   "cell_type": "markdown",
   "metadata": {},
   "source": []
  },
  {
   "cell_type": "markdown",
   "metadata": {},
   "source": []
  },
  {
   "cell_type": "markdown",
   "metadata": {},
   "source": []
  },
  {
   "cell_type": "markdown",
   "metadata": {},
   "source": [
    "## Listas       [ _ , _ , ...]\n",
    "\n",
    "range --> da la posición del elemento en la lista\n",
    "enumerate --> da el índice y el elemento (1, 'almendras')\n",
    "\n"
   ]
  },
  {
   "cell_type": "code",
   "execution_count": 1,
   "metadata": {},
   "outputs": [
    {
     "data": {
      "text/plain": [
       "3.0"
      ]
     },
     "execution_count": 1,
     "metadata": {},
     "output_type": "execute_result"
    }
   ],
   "source": [
    "sum([1, 1.0, True])"
   ]
  },
  {
   "cell_type": "markdown",
   "metadata": {},
   "source": []
  },
  {
   "cell_type": "code",
   "execution_count": 5,
   "metadata": {},
   "outputs": [
    {
     "data": {
      "text/plain": [
       "1"
      ]
     },
     "execution_count": 5,
     "metadata": {},
     "output_type": "execute_result"
    }
   ],
   "source": [
    "def divide_numbers(x,y):\n",
    "    resultado = x // y\n",
    "\n",
    "    return resultado\n",
    "\n",
    "divide_numbers(3,2)"
   ]
  },
  {
   "cell_type": "code",
   "execution_count": 6,
   "metadata": {},
   "outputs": [
    {
     "data": {
      "text/plain": [
       "1"
      ]
     },
     "execution_count": 6,
     "metadata": {},
     "output_type": "execute_result"
    }
   ],
   "source": [
    "3 // 2"
   ]
  },
  {
   "cell_type": "code",
   "execution_count": 14,
   "metadata": {},
   "outputs": [
    {
     "data": {
      "text/plain": [
       "-12"
      ]
     },
     "execution_count": 14,
     "metadata": {},
     "output_type": "execute_result"
    }
   ],
   "source": [
    "def divide_numbers(x,y):\n",
    "#    resultado = (x // y)\n",
    "    resto = x % y\n",
    "    \n",
    "    return resto\n",
    "\n",
    "divide_numbers(330, -18)"
   ]
  }
 ],
 "metadata": {
  "kernelspec": {
   "display_name": "Python 3",
   "language": "python",
   "name": "python3"
  },
  "language_info": {
   "codemirror_mode": {
    "name": "ipython",
    "version": 3
   },
   "file_extension": ".py",
   "mimetype": "text/x-python",
   "name": "python",
   "nbconvert_exporter": "python",
   "pygments_lexer": "ipython3",
   "version": "3.11.6"
  }
 },
 "nbformat": 4,
 "nbformat_minor": 2
}
