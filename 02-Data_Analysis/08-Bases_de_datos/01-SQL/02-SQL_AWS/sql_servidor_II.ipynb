{
 "cells": [
  {
   "cell_type": "markdown",
   "metadata": {},
   "source": [
    "![imagen](./img/hr.png)"
   ]
  },
  {
   "cell_type": "code",
   "execution_count": null,
   "metadata": {},
   "outputs": [],
   "source": [
    "# https://www.sqltutorial.org/\n",
    "# Ejemply pymsql + aws + pandas\n",
    "import pymysql\n",
    "import pandas as pd\n",
    "ENDPOINT=\"hrdb.cn2cwau8envf.eu-north-1.rds.amazonaws.com\"\n",
    "PORT=3306\n",
    "USER=\"admin\"\n",
    "REGION=\"eu-north-1b\"\n",
    "DBNAME=\"hrdb\"\n",
    "conn =  pymysql.connect(host=ENDPOINT, user=USER, passwd=\"BootcampDSPT24$\", port=PORT)\n",
    "# Obtenemos un cursor que utilizaremos para hacer las queries\n",
    "crsr = conn.cursor()"
   ]
  },
  {
   "cell_type": "code",
   "execution_count": null,
   "metadata": {},
   "outputs": [],
   "source": [
    "# Con esta función leemos los datos y lo pasamos a un DataFrame de Pandas\n",
    "def sql_query(query):\n",
    "\n",
    "    # Ejecuta la query\n",
    "    crsr.execute(query)\n",
    "\n",
    "    # Almacena los datos de la query \n",
    "    ans = crsr.fetchall()\n",
    "\n",
    "    # Obtenemos los nombres de las columnas de la tabla\n",
    "    names = [description[0] for description in crsr.description]\n",
    "\n",
    "    return pd.DataFrame(ans,columns=names)"
   ]
  },
  {
   "cell_type": "code",
   "execution_count": null,
   "metadata": {},
   "outputs": [],
   "source": [
    "# Determinar que schema (colección de tablas) queremos usar\n",
    "crsr.execute(\"USE HHRR_Jony;\")"
   ]
  },
  {
   "cell_type": "markdown",
   "metadata": {},
   "source": [
    "Selecciona la personas con salario enre 10.000 y 20.000"
   ]
  },
  {
   "cell_type": "code",
   "execution_count": null,
   "metadata": {},
   "outputs": [],
   "source": []
  },
  {
   "cell_type": "markdown",
   "metadata": {},
   "source": [
    "Usa CASE-WHEN-THEN-END para crear la columna \"nivel_salario\" que sea bajo para menos de 3000, medio si es entre 3000 y 5000 y alto para más de 5000"
   ]
  },
  {
   "cell_type": "code",
   "execution_count": null,
   "metadata": {},
   "outputs": [],
   "source": []
  },
  {
   "cell_type": "markdown",
   "metadata": {},
   "source": [
    "Usa CASE-WHEN-THEN-ELSE-END para crear la columna \"nivel_salario\" que sea bajo para menos de 3000, medio si es entre 3000 y 5000 y alto en otro caso"
   ]
  },
  {
   "cell_type": "markdown",
   "metadata": {},
   "source": [
    "Cuenta el número de employees por cada departamento (incluyendo el nombre en texto del departamento, no solo el código) de mayor número de employees a menor"
   ]
  },
  {
   "cell_type": "code",
   "execution_count": null,
   "metadata": {},
   "outputs": [],
   "source": []
  },
  {
   "cell_type": "markdown",
   "metadata": {},
   "source": [
    "Selecciona la persona con mayor salario en el departamento 2"
   ]
  },
  {
   "cell_type": "code",
   "execution_count": null,
   "metadata": {},
   "outputs": [],
   "source": []
  },
  {
   "cell_type": "markdown",
   "metadata": {},
   "source": [
    "Cálcula los costes de salario por cada departamento con su nombre de departamento"
   ]
  },
  {
   "cell_type": "code",
   "execution_count": null,
   "metadata": {},
   "outputs": [],
   "source": []
  },
  {
   "cell_type": "markdown",
   "metadata": {},
   "source": [
    "Cuenta el número de employees por cada departamento y puesto de trabajo (incluyendo el nombre en texto del departamento y puesto, no solo el código)"
   ]
  },
  {
   "cell_type": "code",
   "execution_count": null,
   "metadata": {},
   "outputs": [],
   "source": []
  },
  {
   "cell_type": "markdown",
   "metadata": {},
   "source": [
    "Calcula el salario máximo, mínimo y medio por cada departamento"
   ]
  },
  {
   "cell_type": "code",
   "execution_count": null,
   "metadata": {},
   "outputs": [],
   "source": []
  },
  {
   "cell_type": "markdown",
   "metadata": {},
   "source": [
    "Cuenta el número de employees por cada departamento (incluyendo el nombre en texto del departamento, no solo el código) con más de 4 empleoyees (probar WHERE y HAVING)"
   ]
  },
  {
   "cell_type": "code",
   "execution_count": null,
   "metadata": {},
   "outputs": [],
   "source": []
  },
  {
   "cell_type": "markdown",
   "metadata": {},
   "source": [
    "Cuenta el número de employees por cada departamento y job (incluyendo el nombre en texto del departamento y job, no solo el código)"
   ]
  },
  {
   "cell_type": "code",
   "execution_count": null,
   "metadata": {},
   "outputs": [],
   "source": []
  },
  {
   "cell_type": "markdown",
   "metadata": {},
   "source": [
    "Actualiza el apellido de employee_id 192 a \"López\""
   ]
  },
  {
   "cell_type": "code",
   "execution_count": null,
   "metadata": {},
   "outputs": [],
   "source": []
  },
  {
   "cell_type": "markdown",
   "metadata": {},
   "source": [
    "Incrementa el salario en un 2% de todo el departamento 2"
   ]
  },
  {
   "cell_type": "code",
   "execution_count": null,
   "metadata": {},
   "outputs": [],
   "source": []
  },
  {
   "cell_type": "markdown",
   "metadata": {},
   "source": [
    "Crea la tabla \n",
    "\n",
    "CREATE TABLE courses (\n",
    "    course_id INT AUTO_INCREMENT PRIMARY KEY,\n",
    "    course_name VARCHAR(20) NOT NULL\n",
    ");"
   ]
  },
  {
   "cell_type": "code",
   "execution_count": null,
   "metadata": {},
   "outputs": [],
   "source": [
    "query ='''CREATE TABLE courses (\n",
    "    course_id INT AUTO_INCREMENT PRIMARY KEY,\n",
    "    course_name VARCHAR(20) NOT NULL\n",
    ");'''\n",
    "crsr.execute(query)"
   ]
  },
  {
   "cell_type": "markdown",
   "metadata": {},
   "source": [
    "Añade a la tabla courses:\n",
    "\n",
    "INSERT INTO courses(course_name) VALUES ('Python');\n",
    "INSERT INTO courses(course_name) VALUES ('SQL');\n",
    "INSERT INTO courses(course_name) VALUES ('Introducción a la Fenomenología del Espíritu de Hegel para no hegelianos');\n",
    "\n",
    "Selecciona la tabla courses tras los INSERT"
   ]
  },
  {
   "cell_type": "code",
   "execution_count": null,
   "metadata": {},
   "outputs": [],
   "source": []
  },
  {
   "cell_type": "markdown",
   "metadata": {},
   "source": [
    "Prueba: INSERT INTO courses(course_name) VALUES (3, 'Hegel');"
   ]
  },
  {
   "cell_type": "code",
   "execution_count": null,
   "metadata": {},
   "outputs": [],
   "source": []
  },
  {
   "cell_type": "markdown",
   "metadata": {},
   "source": [
    "Leer Pearson.txt y usa .to_sql() para guardar la tabla\n",
    "Usa select para ver el contenido"
   ]
  },
  {
   "cell_type": "code",
   "execution_count": null,
   "metadata": {},
   "outputs": [],
   "source": []
  },
  {
   "cell_type": "code",
   "execution_count": null,
   "metadata": {},
   "outputs": [],
   "source": []
  },
  {
   "cell_type": "markdown",
   "metadata": {},
   "source": [
    "Puedes hacer tus queries dinámicas!"
   ]
  },
  {
   "cell_type": "code",
   "execution_count": null,
   "metadata": {},
   "outputs": [],
   "source": [
    "city = input(\"Introduzca ciudad\")\n",
    "query = f'''\n",
    "SELECT * \n",
    "FROM locations\n",
    "WHERE city = \"{city}\" ''' \n",
    "\n",
    "sql_query(query)"
   ]
  },
  {
   "cell_type": "code",
   "execution_count": null,
   "metadata": {},
   "outputs": [],
   "source": [
    "dept = input(\"Introduzca un departamento\")\n",
    "query = f'''\n",
    "SELECT * \n",
    "FROM employees\n",
    "WHERE department_id = {dept} ''' \n",
    "\n",
    "sql_query(query)"
   ]
  },
  {
   "cell_type": "code",
   "execution_count": null,
   "metadata": {},
   "outputs": [],
   "source": [
    "## Indroduce to nombre y password inventado\n",
    "crsr.execute(\"INSERT INTO HHRR_Jony.users(user_name, user_pass) VALUES ('XXX', 'YYY');\")"
   ]
  },
  {
   "cell_type": "code",
   "execution_count": null,
   "metadata": {},
   "outputs": [],
   "source": [
    "dept = input(\"Introduzca un departamento\")\n",
    "query = f'''\n",
    "SELECT department_id, department_name \n",
    "FROM HHRR_Jony.departments\n",
    "WHERE department_id = {dept} ''' \n",
    "\n",
    "sql_query(query)"
   ]
  },
  {
   "cell_type": "markdown",
   "metadata": {},
   "source": []
  }
 ],
 "metadata": {
  "kernelspec": {
   "display_name": "Python 3",
   "language": "python",
   "name": "python3"
  },
  "language_info": {
   "codemirror_mode": {
    "name": "ipython",
    "version": 3
   },
   "file_extension": ".py",
   "mimetype": "text/x-python",
   "name": "python",
   "nbconvert_exporter": "python",
   "pygments_lexer": "ipython3",
   "version": "3.12.2"
  }
 },
 "nbformat": 4,
 "nbformat_minor": 2
}
