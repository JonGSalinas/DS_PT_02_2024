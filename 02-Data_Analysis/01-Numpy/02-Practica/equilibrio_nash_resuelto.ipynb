{
 "cells": [
  {
   "cell_type": "markdown",
   "metadata": {},
   "source": [
    "# El Dilema del Prisionero\n",
    "\n",
    "![imagen](img/prisionero.png)"
   ]
  },
  {
   "cell_type": "markdown",
   "metadata": {},
   "source": [
    "El Dilema del Prisionero es un problema clásico que mezcla matemáticas, economía, psicología y optimización.\n",
    "\n",
    "Consiste en dos prisioneros que tienen dos opciones: delatar a su compinche o no hacerlo. \n",
    "\n",
    "Están siendo interrogados por separado y cada uno no sabe lo que hará el otro, pero ambos saben que cada uno hará lo posible para minimizar su condena. \n",
    "Así pues, si:\n",
    "\n",
    "1. Ambos eligen no deltarse, serán condenados a 2 años de cárcel cada uno\n",
    "2. Si ambos eligen delaterse, serán condenados a 6 años de cárcel cada uno.\n",
    "3. Si el primero delata al segundo pero el segundo no delata al primero, el primer prisionero será condeado a solo 1 año de carcel y el segundo a 10 años.\n",
    "4. De forma reciproca, si el segundo delata al primero pero el primero no delata al segundo, el segundo prisionero será condeado a solo 1 año de carcel y el primero a 10 años. \n",
    "\n",
    "Implementa un algoritmo que reproduzca la forma de pensar de los prisioneros ante este dilema, suponiendo que empiezan en una situación aleatoria. Ejemplo:\n",
    "\n",
    "Empiezan en la situación aletoria de que el primer prisionero delata y el segundo no.\n",
    "\n",
    "* El primer prisionero será condenado a 1 año de carcel y no le interesa cambiar de opinión\n",
    "* El segundo prisionero será condenado a 10 años de carcel y le interesa cambiar de opinión: si delata \"solo\" irá por 6 años a la carcel\n",
    "* El primer prisionero sabe que el segundo va a cambiar de opinión, porque ambos quieren ir el menor tiempo posible a la cárcel. Ahora sabe que ambos van a delatar pero no quiere cambiar de opinión ya que si no delata, irá 10 años a la carcel. \n",
    "* Aquí se acaba el algoritmo porque ya ninguno cambiará de opinión.\n",
    "\n",
    "¿Empieces por la opción que empieces siempre terminas en la misma situación?"
   ]
  },
  {
   "cell_type": "code",
   "execution_count": 2,
   "metadata": {},
   "outputs": [],
   "source": [
    "import numpy as np"
   ]
  },
  {
   "cell_type": "code",
   "execution_count": null,
   "metadata": {},
   "outputs": [],
   "source": [
    "# La representación de los datos ha de ser coherente\n",
    "# Dos matrices\n",
    "# Una matriz de tres dimensiones\n",
    "# Una matriz con tuplas"
   ]
  },
  {
   "cell_type": "code",
   "execution_count": 3,
   "metadata": {},
   "outputs": [
    {
     "name": "stdout",
     "output_type": "stream",
     "text": [
      "[[ -2 -10]\n",
      " [ -1  -6]]\n"
     ]
    }
   ],
   "source": [
    "prisionero_2 = [[-2, -10], [-1, -6]]\n",
    "prisionero_2 = np.array(prisionero_2)\n",
    "print(prisionero_2)"
   ]
  },
  {
   "cell_type": "code",
   "execution_count": 4,
   "metadata": {},
   "outputs": [
    {
     "name": "stdout",
     "output_type": "stream",
     "text": [
      "[[ -2 -10]\n",
      " [ -1  -6]]\n"
     ]
    }
   ],
   "source": [
    "prisionero_1 = [[-2, -10], [-1, -6]]\n",
    "prisionero_1 = np.array(prisionero_1)\n",
    "print(prisionero_1)"
   ]
  },
  {
   "cell_type": "code",
   "execution_count": 5,
   "metadata": {},
   "outputs": [],
   "source": [
    "def indice(decision):\n",
    "    if decision == \"no delatar\":\n",
    "        return 0\n",
    "    elif decision == \"delatar\":\n",
    "        return 1\n",
    "    return -1"
   ]
  },
  {
   "cell_type": "code",
   "execution_count": 6,
   "metadata": {},
   "outputs": [],
   "source": [
    "def inv_indice(ind):\n",
    "    if ind == 0:\n",
    "        return \"no delatar\"\n",
    "    elif ind == 1:\n",
    "        return \"delatar\"\n",
    "    return -1"
   ]
  },
  {
   "cell_type": "code",
   "execution_count": 7,
   "metadata": {},
   "outputs": [
    {
     "name": "stdout",
     "output_type": "stream",
     "text": [
      "-10\n",
      "-10\n"
     ]
    }
   ],
   "source": [
    "print(prisionero_2[(indice(\"no delatar\"), indice( \"delatar\") )])\n",
    "print(prisionero_1[(indice(\"no delatar\"), indice(\"delatar\") )])"
   ]
  },
  {
   "cell_type": "code",
   "execution_count": 8,
   "metadata": {},
   "outputs": [],
   "source": [
    "def maximiza(decision, matrix):\n",
    "    ind = indice(decision)\n",
    "    mejor_opcion = np.max(matrix[:,ind])\n",
    "    ind_mejor_opcion = np.where(matrix == mejor_opcion)[0]\n",
    "    decision = inv_indice(ind_mejor_opcion)                              \n",
    "    return decision\n",
    "    "
   ]
  },
  {
   "cell_type": "code",
   "execution_count": 10,
   "metadata": {},
   "outputs": [
    {
     "data": {
      "text/plain": [
       "'delatar'"
      ]
     },
     "execution_count": 10,
     "metadata": {},
     "output_type": "execute_result"
    }
   ],
   "source": [
    "maximiza(\"no delatar\", prisionero_2)"
   ]
  },
  {
   "cell_type": "code",
   "execution_count": 81,
   "metadata": {},
   "outputs": [
    {
     "data": {
      "text/plain": [
       "-1"
      ]
     },
     "execution_count": 81,
     "metadata": {},
     "output_type": "execute_result"
    }
   ],
   "source": []
  }
 ],
 "metadata": {
  "kernelspec": {
   "display_name": "Python 3",
   "language": "python",
   "name": "python3"
  },
  "language_info": {
   "codemirror_mode": {
    "name": "ipython",
    "version": 3
   },
   "file_extension": ".py",
   "mimetype": "text/x-python",
   "name": "python",
   "nbconvert_exporter": "python",
   "pygments_lexer": "ipython3",
   "version": "3.12.0"
  }
 },
 "nbformat": 4,
 "nbformat_minor": 2
}
