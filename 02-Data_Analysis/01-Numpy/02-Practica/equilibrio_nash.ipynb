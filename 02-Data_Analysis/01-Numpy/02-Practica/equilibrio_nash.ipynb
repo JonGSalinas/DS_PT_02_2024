{
 "cells": [
  {
   "cell_type": "markdown",
   "metadata": {},
   "source": [
    "# El Dilema del Prisionero\n",
    "\n",
    "![imagen](img/prisionero.png)"
   ]
  },
  {
   "cell_type": "code",
   "execution_count": null,
   "metadata": {},
   "outputs": [],
   "source": []
  },
  {
   "cell_type": "markdown",
   "metadata": {},
   "source": [
    "El Dilema del Prisionero es un problema clásico que mezcla matemáticas, economía, psicología y optimización.\n",
    "\n",
    "Consiste en dos prisioneros que tienen dos opciones: delatar a su compinche o no hacerlo. \n",
    "\n",
    "Están siendo interrogados por separado y cada uno no sabe lo que hará el otro, pero ambos saben que cada uno hará lo posible para minimizar su condena. \n",
    "Así pues, si:\n",
    "\n",
    "1. Ambos eligen no deltarse, serán condenados a 2 años de cárcel cada uno\n",
    "2. Si ambos eligen delaterse, serán condenados a 6 años de cárcel cada uno.\n",
    "3. Si el primero delata al segundo pero el segundo no delata al primero, el primer prisionero será condeado a solo 1 año de carcel y el segundo a 10 años.\n",
    "4. De forma reciproca, si el segundo delata al primero pero el primero no delata al segundo, el segundo prisionero será condeado a solo 1 año de carcel y el primero a 10 años. \n",
    "\n",
    "Implementa un algoritmo que reproduzca la forma de pensar de los prisioneros ante este dilema, suponiendo que empiezan en una situación aleatoria. Ejemplo:\n",
    "\n",
    "Empiezan en la situación aletoria de que el primer prisionero delata y el segundo no.\n",
    "\n",
    "* El primer prisionero será condenado a 1 año de carcel y no le interesa cambiar de opinión\n",
    "* El segundo prisionero será condenado a 10 años de carcel y le interesa cambiar de opinión: si delata \"solo\" irá por 6 años a la carcel\n",
    "* El primer prisionero sabe que el segundo va a cambiar de opinión, porque ambos quieren ir el menor tiempo posible a la cárcel. Ahora sabe que ambos van a delatar pero no quiere cambiar de opinión ya que si no delata, irá 10 años a la carcel. \n",
    "* Aquí se acaba el algoritmo porque ya ninguno cambiará de opinión.\n",
    "\n",
    "¿Empieces por la opción que empieces siempre terminas en la misma situación?"
   ]
  },
  {
   "cell_type": "code",
   "execution_count": 3,
   "metadata": {},
   "outputs": [],
   "source": [
    "import numpy as np"
   ]
  },
  {
   "cell_type": "code",
   "execution_count": 22,
   "metadata": {},
   "outputs": [
    {
     "name": "stdout",
     "output_type": "stream",
     "text": [
      "(0, 0)\n",
      "(0, 1)\n",
      "(1, 0)\n",
      "(1, 1)\n"
     ]
    }
   ],
   "source": [
    "#decisiones = ['Callar-Callar', 'Delatar-Callar']['Callar - Delatar', 'Delatar - Delatar']\n",
    "\n",
    "\n",
    "decisiones = []\n",
    "valor = 0\n",
    "\n",
    "for i in range (0,2):\n",
    "    for a in range(0,2):\n",
    "\n",
    "        print(f'({i}, {a})')        "
   ]
  },
  {
   "cell_type": "code",
   "execution_count": 35,
   "metadata": {},
   "outputs": [
    {
     "name": "stdout",
     "output_type": "stream",
     "text": [
      "[[[1 1]\n",
      "  [1 0]]\n",
      "\n",
      " [[0 1]\n",
      "  [0 0]]]\n"
     ]
    }
   ],
   "source": [
    "decisiones_2 = np.array([[(1, 1), (1, 0)],      [(0, 1), (0, 0)]])\n",
    "\n",
    "print(decisiones_2)"
   ]
  },
  {
   "cell_type": "code",
   "execution_count": 36,
   "metadata": {},
   "outputs": [
    {
     "name": "stdout",
     "output_type": "stream",
     "text": [
      "Empiezan en la situación aleatoria de que el primer prisionero delata: True y el segundo no: False\n",
      "El primer prisionero será condenado a 1 año de cárcel y no le interesa cambiar de opinión.\n",
      "El segundo prisionero será condenado a 10 años de cárcel y le interesa cambiar de opinión.\n",
      "Ambos delatan, serán condenados a 6 años de cárcel cada uno.\n"
     ]
    },
    {
     "ename": "",
     "evalue": "",
     "output_type": "error",
     "traceback": [
      "\u001b[1;31mEl kernel se bloqueó al ejecutar código en la celda actual o en una celda anterior. \n",
      "\u001b[1;31mRevise el código de las celdas para identificar una posible causa del error. \n",
      "\u001b[1;31mHaga clic <a href='https://aka.ms/vscodeJupyterKernelCrash'>aquí</a> para obtener más información. \n",
      "\u001b[1;31mVea Jupyter <a href='command:jupyter.viewOutput'>log</a> para obtener más detalles."
     ]
    }
   ],
   "source": [
    "import random\n",
    "\n",
    "def dilema_prisionero():\n",
    "    prisionero_1_delata = random.choice([True, False])\n",
    "    prisionero_2_delata = random.choice([True, False])\n",
    "    \n",
    "    print(\"Empiezan en la situación aleatoria de que el primer prisionero delata:\", prisionero_1_delata, \"y el segundo no:\", prisionero_2_delata)\n",
    "    \n",
    "    if prisionero_1_delata and not prisionero_2_delata:\n",
    "        print(\"El primer prisionero será condenado a 1 año de cárcel y no le interesa cambiar de opinión.\")\n",
    "        print(\"El segundo prisionero será condenado a 10 años de cárcel y le interesa cambiar de opinión.\")\n",
    "        prisionero_2_delata = True\n",
    "    elif not prisionero_1_delata and prisionero_2_delata:\n",
    "        print(\"El segundo prisionero será condenado a 1 año de cárcel y no le interesa cambiar de opinión.\")\n",
    "        print(\"El primer prisionero será condenado a 10 años de cárcel y le interesa cambiar de opinión.\")\n",
    "        prisionero_1_delata = True\n",
    "    \n",
    "    while True:\n",
    "        if prisionero_1_delata and prisionero_2_delata:\n",
    "            print(\"Ambos delatan, serán condenados a 6 años de cárcel cada uno.\")\n",
    "            break\n",
    "        elif not prisionero_1_delata and not prisionero_2_delata:\n",
    "            print(\"Ambos deciden no delatar, serán condenados a 2 años de cárcel cada uno.\")\n",
    "            break\n",
    "        elif prisionero_1_delata and not prisionero_2_delata:\n",
    "            print(\"El primer prisionero delata al segundo y el segundo no delata al primero.\")\n",
    "            print(\"El primer prisionero será condenado a 1 año de cárcel y el segundo a 10 años.\")\n",
    "            break\n",
    "        elif not prisionero_1_delata and prisionero_2_delata:\n",
    "            print(\"El segundo prisionero delata al primero y el primero no delata al segundo.\")\n",
    "            print(\"El segundo prisionero será condenado a 1 año de cárcel y el primero a 10 años.\")\n",
    "            break\n",
    "\n",
    "# Ejecutar el algoritmo\n",
    "dilema_prisionero()\n"
   ]
  }
 ],
 "metadata": {
  "kernelspec": {
   "display_name": "Python 3",
   "language": "python",
   "name": "python3"
  },
  "language_info": {
   "codemirror_mode": {
    "name": "ipython",
    "version": 3
   },
   "file_extension": ".py",
   "mimetype": "text/x-python",
   "name": "python",
   "nbconvert_exporter": "python",
   "pygments_lexer": "ipython3",
   "version": "3.11.6"
  }
 },
 "nbformat": 4,
 "nbformat_minor": 2
}
