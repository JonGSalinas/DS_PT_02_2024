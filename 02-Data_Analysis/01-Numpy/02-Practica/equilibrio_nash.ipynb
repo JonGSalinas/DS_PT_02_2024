{
 "cells": [
  {
   "cell_type": "markdown",
   "metadata": {},
   "source": [
    "# El Dilema del Prisionero\n",
    "\n",
    "![imagen](img/prisionero.png)"
   ]
  },
  {
   "cell_type": "markdown",
   "metadata": {},
   "source": [
    "El Dilema del Prisionero es un problema clásico que mezcla matemáticas, economía, psicología y optimización.\n",
    "\n",
    "Consiste en dos prisioneros que tienen dos opciones: delatar a su compinche o no hacerlo. \n",
    "\n",
    "Están siendo interrogados por separado y cada uno no sabe lo que hará el otro, pero ambos saben que cada uno hará lo posible para minimizar su condena. \n",
    "Así pues, si:\n",
    "\n",
    "1. Ambos eligen no deltarse, serán condenados a 2 años de cárcel cada uno\n",
    "2. Si ambos eligen delaterse, serán condenados a 6 años de cárcel cada uno.\n",
    "3. Si el primero delata al segundo pero el segundo no delata al primero, el primer prisionero será condeado a solo 1 año de carcel y el segundo a 10 años.\n",
    "4. De forma reciproca, si el segundo delata al primero pero el primero no delata al segundo, el segundo prisionero será condeado a solo 1 año de carcel y el primero a 10 años. \n",
    "\n",
    "Implementa un algoritmo que reproduzca la forma de pensar de los prisioneros ante este dilema, suponiendo que empiezan en una situación aleatoria. Ejemplo:\n",
    "\n",
    "Empiezan en la situación aletoria de que el primer prisionero delata y el segundo no.\n",
    "\n",
    "* El primer prisionero será condenado a 1 año de carcel y no le interesa cambiar de opinión\n",
    "* El segundo prisionero será condenado a 10 años de carcel y le interesa cambiar de opinión: si delata \"solo\" irá por 6 años a la carcel\n",
    "* El primer prisionero sabe que el segundo va a cambiar de opinión, porque ambos quieren ir el menor tiempo posible a la cárcel. Ahora sabe que ambos van a delatar pero no quiere cambiar de opinión ya que si no delata, irá 10 años a la carcel. \n",
    "* Aquí se acaba el algoritmo porque ya ninguno cambiará de opinión.\n",
    "\n",
    "¿Empieces por la opción que empieces siempre terminas en la misma situación?"
   ]
  }
 ],
 "metadata": {
  "language_info": {
   "name": "python"
  }
 },
 "nbformat": 4,
 "nbformat_minor": 2
}
