{
 "cells": [
  {
   "cell_type": "markdown",
   "metadata": {},
   "source": [
    "# Ejercicios\n",
    "\n",
    "Utilizando los archivos CSV de la carpeta ejercicios/ y lo que hemos aprendido hasta ahora, completa los siguientes ejercicios:\n",
    "\n",
    "1. Con el fichero earthquakes.csv, selecciona todos los terremotos de Japón con una magnitud de 4,9 o superior utilizando el tipo de magnitud mb.\n"
   ]
  },
  {
   "cell_type": "code",
   "execution_count": null,
   "metadata": {},
   "outputs": [],
   "source": []
  },
  {
   "cell_type": "markdown",
   "metadata": {},
   "source": [
    "2. Cree contenedores para cada número completo de magnitud de terremoto (por ejemplo, el primer contenedor es (0, 1], el segundo es (1, 2], etc.) con el tipo de magnitud ml y cuente cuántos hay en cada contenedor.\n"
   ]
  },
  {
   "cell_type": "code",
   "execution_count": null,
   "metadata": {},
   "outputs": [],
   "source": []
  },
  {
   "cell_type": "markdown",
   "metadata": {},
   "source": [
    "3.0. Utilizando el archivo faang.csv. Realice las siguientes agregaciones:\n",
    "- a) Media del precio de apertura\n",
    "- b) Máximo del precio máximo\n",
    "- c) Mínimo del precio mínimo\n",
    "- d) Media del precio de cierre\n",
    "- e) Suma del volumen negociado\n"
   ]
  },
  {
   "cell_type": "code",
   "execution_count": null,
   "metadata": {},
   "outputs": [],
   "source": []
  },
  {
   "cell_type": "markdown",
   "metadata": {},
   "source": [
    "3.1. Utilizando el archivo faang.csv, agrupe por el ticker. Realice las siguientes agregaciones:\n",
    "- a) Media del precio de apertura\n",
    "- b) Máximo del precio máximo\n",
    "- c) Mínimo del precio mínimo\n",
    "- d) Media del precio de cierre\n",
    "- e) Suma del volumen negociado\n"
   ]
  },
  {
   "cell_type": "code",
   "execution_count": null,
   "metadata": {},
   "outputs": [],
   "source": []
  },
  {
   "cell_type": "markdown",
   "metadata": {},
   "source": [
    "3.2. Utilizando el archivo faang.csv, agrupe por el ticker y remuestree a frecuencia mensual. Realice las siguientes agregaciones:\n",
    "- a) Media del precio de apertura\n",
    "- b) Máximo del precio máximo\n",
    "- c) Mínimo del precio mínimo\n",
    "- d) Media del precio de cierre\n",
    "- e) Suma del volumen negociado"
   ]
  },
  {
   "cell_type": "code",
   "execution_count": null,
   "metadata": {},
   "outputs": [],
   "source": []
  },
  {
   "cell_type": "markdown",
   "metadata": {},
   "source": [
    "4. Construye una crosstab con los datos del terremoto entre la columna tsunami y la columna magType. En lugar de mostrar el recuento de frecuencias, muestra la magnitud máxima que se observó para cada combinación. Coloca el tipo de magnitud a lo largo de las columnas.\n"
   ]
  },
  {
   "cell_type": "code",
   "execution_count": null,
   "metadata": {},
   "outputs": [],
   "source": []
  },
  {
   "cell_type": "markdown",
   "metadata": {},
   "source": [
    "5. Calcule las agregaciones móviles de 60 días de los datos OHLC por ticker para los datos FAANG. Utilice las mismas agregaciones del ejercicio 3.\n"
   ]
  },
  {
   "cell_type": "code",
   "execution_count": null,
   "metadata": {},
   "outputs": [],
   "source": [
    "# pd.Grouper(freq='1M')"
   ]
  },
  {
   "cell_type": "code",
   "execution_count": null,
   "metadata": {},
   "outputs": [],
   "source": [
    "#.resample('M')"
   ]
  },
  {
   "cell_type": "markdown",
   "metadata": {},
   "source": [
    "6. Cree una tabla dinámica de los datos FAANG que compare las acciones. Ponga el ticker en las filas y muestre los promedios de los datos OHLC y volumen negociado.\n"
   ]
  },
  {
   "cell_type": "code",
   "execution_count": null,
   "metadata": {},
   "outputs": [],
   "source": []
  },
  {
   "cell_type": "markdown",
   "metadata": {},
   "source": [
    "7. Calcule las Z-score para cada columna numérica de los datos de Amazon (el ticker es AMZN) en el cuarto trimestre de 2018 utilizando apply().\n"
   ]
  },
  {
   "cell_type": "code",
   "execution_count": null,
   "metadata": {},
   "outputs": [],
   "source": []
  },
  {
   "cell_type": "markdown",
   "metadata": {},
   "source": [
    "8. Añade descripciones de eventos:\n",
    "- a) Cree un dataframe con las tres columnas siguientes: ticker, fecha y evento. Las columnas deben tener los siguientes valores:\n",
    "- i) ticker: \"FB\n",
    "- ii) date: ['2018-07-25', '2018-03-19', '2018-03-20'].\n",
    "- iii) event: ['Decepcionante crecimiento de usuarios anunciado tras el cierre.', 'Cambridge Analytica story', 'FTC investigation']\n",
    "    "
   ]
  },
  {
   "cell_type": "code",
   "execution_count": null,
   "metadata": {},
   "outputs": [],
   "source": []
  },
  {
   "cell_type": "markdown",
   "metadata": {},
   "source": [
    "    - b) Establece el índice en ['date', 'ticker'].\n"
   ]
  },
  {
   "cell_type": "code",
   "execution_count": null,
   "metadata": {},
   "outputs": [],
   "source": []
  },
  {
   "cell_type": "markdown",
   "metadata": {},
   "source": [
    "    - c) Combina estos datos con los datos de FAANG mediante una unión externa."
   ]
  }
 ],
 "metadata": {
  "kernelspec": {
   "display_name": "Python 3",
   "language": "python",
   "name": "python3"
  },
  "language_info": {
   "codemirror_mode": {
    "name": "ipython",
    "version": 3
   },
   "file_extension": ".py",
   "mimetype": "text/x-python",
   "name": "python",
   "nbconvert_exporter": "python",
   "pygments_lexer": "ipython3",
   "version": "3.12.2"
  }
 },
 "nbformat": 4,
 "nbformat_minor": 2
}
