{
 "cells": [
  {
   "cell_type": "markdown",
   "metadata": {},
   "source": [
    "# Ejercicios\n",
    "\n",
    "Usando el archivo data/parsed.csv y el material de este capítulo, complete los siguientes ejercicios para practicar sus habilidades con pandas:\n",
    "https://earthquake.usgs.gov/data/comcat/index.php#mag\n",
    "1. Encuentre el percentil 95 de la magnitud del terremoto en Japón usando el mb tipo de magnitud.\n"
   ]
  },
  {
   "cell_type": "code",
   "execution_count": 1,
   "metadata": {},
   "outputs": [],
   "source": [
    "import pandas as pd\n",
    "quakes = pd.read_csv(\"data/parsed.csv\")"
   ]
  },
  {
   "cell_type": "code",
   "execution_count": 7,
   "metadata": {},
   "outputs": [
    {
     "data": {
      "text/plain": [
       "4.9"
      ]
     },
     "execution_count": 7,
     "metadata": {},
     "output_type": "execute_result"
    }
   ],
   "source": [
    "quakes[(quakes[\"parsed_place\"]==\"Japan\") & (quakes[\"magType\"]==\"mb\")][\"mag\"].quantile(0.95)\n"
   ]
  },
  {
   "cell_type": "code",
   "execution_count": 11,
   "metadata": {},
   "outputs": [],
   "source": [
    "# sintaxis alternativa\n",
    "#quakes[(quakes[\"parsed_place\"]==\"Japan\")][(quakes[\"magType\"]==\"mb\")]"
   ]
  },
  {
   "cell_type": "markdown",
   "metadata": {},
   "source": [
    "2. Encuentra el porcentaje de terremotos en Indonesia que fueron acompañados de tsunamis.\n"
   ]
  },
  {
   "cell_type": "code",
   "execution_count": 18,
   "metadata": {},
   "outputs": [
    {
     "data": {
      "text/plain": [
       "0.23129251700680273"
      ]
     },
     "execution_count": 18,
     "metadata": {},
     "output_type": "execute_result"
    }
   ],
   "source": [
    "quakes[(quakes[\"parsed_place\"]==\"Indonesia\")][\"tsunami\"].mean()"
   ]
  },
  {
   "cell_type": "markdown",
   "metadata": {},
   "source": [
    "3. Calcular las estadísticas resumidas de los terremotos en Nevada.\n"
   ]
  },
  {
   "cell_type": "code",
   "execution_count": 25,
   "metadata": {},
   "outputs": [
    {
     "data": {
      "text/html": [
       "<div>\n",
       "<style scoped>\n",
       "    .dataframe tbody tr th:only-of-type {\n",
       "        vertical-align: middle;\n",
       "    }\n",
       "\n",
       "    .dataframe tbody tr th {\n",
       "        vertical-align: top;\n",
       "    }\n",
       "\n",
       "    .dataframe thead th {\n",
       "        text-align: right;\n",
       "    }\n",
       "</style>\n",
       "<table border=\"1\" class=\"dataframe\">\n",
       "  <thead>\n",
       "    <tr style=\"text-align: right;\">\n",
       "      <th></th>\n",
       "      <th>cdi</th>\n",
       "      <th>dmin</th>\n",
       "      <th>felt</th>\n",
       "      <th>gap</th>\n",
       "      <th>mag</th>\n",
       "      <th>mmi</th>\n",
       "      <th>nst</th>\n",
       "      <th>rms</th>\n",
       "      <th>sig</th>\n",
       "      <th>time</th>\n",
       "      <th>tsunami</th>\n",
       "      <th>tz</th>\n",
       "      <th>updated</th>\n",
       "    </tr>\n",
       "  </thead>\n",
       "  <tbody>\n",
       "    <tr>\n",
       "      <th>count</th>\n",
       "      <td>15.000000</td>\n",
       "      <td>681.000000</td>\n",
       "      <td>15.000000</td>\n",
       "      <td>681.000000</td>\n",
       "      <td>681.000000</td>\n",
       "      <td>1.00</td>\n",
       "      <td>681.000000</td>\n",
       "      <td>681.000000</td>\n",
       "      <td>681.000000</td>\n",
       "      <td>6.810000e+02</td>\n",
       "      <td>681.0</td>\n",
       "      <td>681.0</td>\n",
       "      <td>6.810000e+02</td>\n",
       "    </tr>\n",
       "    <tr>\n",
       "      <th>mean</th>\n",
       "      <td>2.440000</td>\n",
       "      <td>0.166199</td>\n",
       "      <td>2.400000</td>\n",
       "      <td>153.668120</td>\n",
       "      <td>0.500073</td>\n",
       "      <td>2.84</td>\n",
       "      <td>12.618209</td>\n",
       "      <td>0.151986</td>\n",
       "      <td>10.970631</td>\n",
       "      <td>1.538314e+12</td>\n",
       "      <td>0.0</td>\n",
       "      <td>-480.0</td>\n",
       "      <td>1.538402e+12</td>\n",
       "    </tr>\n",
       "    <tr>\n",
       "      <th>std</th>\n",
       "      <td>0.501142</td>\n",
       "      <td>0.166228</td>\n",
       "      <td>4.626013</td>\n",
       "      <td>68.735302</td>\n",
       "      <td>0.696710</td>\n",
       "      <td>NaN</td>\n",
       "      <td>9.866963</td>\n",
       "      <td>0.084662</td>\n",
       "      <td>19.607150</td>\n",
       "      <td>5.965637e+08</td>\n",
       "      <td>0.0</td>\n",
       "      <td>0.0</td>\n",
       "      <td>6.010951e+08</td>\n",
       "    </tr>\n",
       "    <tr>\n",
       "      <th>min</th>\n",
       "      <td>2.000000</td>\n",
       "      <td>0.001000</td>\n",
       "      <td>1.000000</td>\n",
       "      <td>29.140000</td>\n",
       "      <td>-0.500000</td>\n",
       "      <td>2.84</td>\n",
       "      <td>3.000000</td>\n",
       "      <td>0.000500</td>\n",
       "      <td>0.000000</td>\n",
       "      <td>1.537247e+12</td>\n",
       "      <td>0.0</td>\n",
       "      <td>-480.0</td>\n",
       "      <td>1.537307e+12</td>\n",
       "    </tr>\n",
       "    <tr>\n",
       "      <th>25%</th>\n",
       "      <td>2.000000</td>\n",
       "      <td>0.053000</td>\n",
       "      <td>1.000000</td>\n",
       "      <td>97.380000</td>\n",
       "      <td>-0.100000</td>\n",
       "      <td>2.84</td>\n",
       "      <td>6.000000</td>\n",
       "      <td>0.106900</td>\n",
       "      <td>0.000000</td>\n",
       "      <td>1.537854e+12</td>\n",
       "      <td>0.0</td>\n",
       "      <td>-480.0</td>\n",
       "      <td>1.537928e+12</td>\n",
       "    </tr>\n",
       "    <tr>\n",
       "      <th>50%</th>\n",
       "      <td>2.200000</td>\n",
       "      <td>0.112000</td>\n",
       "      <td>1.000000</td>\n",
       "      <td>149.140000</td>\n",
       "      <td>0.400000</td>\n",
       "      <td>2.84</td>\n",
       "      <td>10.000000</td>\n",
       "      <td>0.146300</td>\n",
       "      <td>2.000000</td>\n",
       "      <td>1.538280e+12</td>\n",
       "      <td>0.0</td>\n",
       "      <td>-480.0</td>\n",
       "      <td>1.538428e+12</td>\n",
       "    </tr>\n",
       "    <tr>\n",
       "      <th>75%</th>\n",
       "      <td>2.900000</td>\n",
       "      <td>0.233000</td>\n",
       "      <td>1.000000</td>\n",
       "      <td>199.720000</td>\n",
       "      <td>0.900000</td>\n",
       "      <td>2.84</td>\n",
       "      <td>16.000000</td>\n",
       "      <td>0.187100</td>\n",
       "      <td>12.000000</td>\n",
       "      <td>1.538821e+12</td>\n",
       "      <td>0.0</td>\n",
       "      <td>-480.0</td>\n",
       "      <td>1.538878e+12</td>\n",
       "    </tr>\n",
       "    <tr>\n",
       "      <th>max</th>\n",
       "      <td>3.300000</td>\n",
       "      <td>1.414000</td>\n",
       "      <td>19.000000</td>\n",
       "      <td>355.910000</td>\n",
       "      <td>2.900000</td>\n",
       "      <td>2.84</td>\n",
       "      <td>61.000000</td>\n",
       "      <td>0.863400</td>\n",
       "      <td>129.000000</td>\n",
       "      <td>1.539461e+12</td>\n",
       "      <td>0.0</td>\n",
       "      <td>-480.0</td>\n",
       "      <td>1.539483e+12</td>\n",
       "    </tr>\n",
       "  </tbody>\n",
       "</table>\n",
       "</div>"
      ],
      "text/plain": [
       "             cdi        dmin       felt         gap         mag   mmi  \\\n",
       "count  15.000000  681.000000  15.000000  681.000000  681.000000  1.00   \n",
       "mean    2.440000    0.166199   2.400000  153.668120    0.500073  2.84   \n",
       "std     0.501142    0.166228   4.626013   68.735302    0.696710   NaN   \n",
       "min     2.000000    0.001000   1.000000   29.140000   -0.500000  2.84   \n",
       "25%     2.000000    0.053000   1.000000   97.380000   -0.100000  2.84   \n",
       "50%     2.200000    0.112000   1.000000  149.140000    0.400000  2.84   \n",
       "75%     2.900000    0.233000   1.000000  199.720000    0.900000  2.84   \n",
       "max     3.300000    1.414000  19.000000  355.910000    2.900000  2.84   \n",
       "\n",
       "              nst         rms         sig          time  tsunami     tz  \\\n",
       "count  681.000000  681.000000  681.000000  6.810000e+02    681.0  681.0   \n",
       "mean    12.618209    0.151986   10.970631  1.538314e+12      0.0 -480.0   \n",
       "std      9.866963    0.084662   19.607150  5.965637e+08      0.0    0.0   \n",
       "min      3.000000    0.000500    0.000000  1.537247e+12      0.0 -480.0   \n",
       "25%      6.000000    0.106900    0.000000  1.537854e+12      0.0 -480.0   \n",
       "50%     10.000000    0.146300    2.000000  1.538280e+12      0.0 -480.0   \n",
       "75%     16.000000    0.187100   12.000000  1.538821e+12      0.0 -480.0   \n",
       "max     61.000000    0.863400  129.000000  1.539461e+12      0.0 -480.0   \n",
       "\n",
       "            updated  \n",
       "count  6.810000e+02  \n",
       "mean   1.538402e+12  \n",
       "std    6.010951e+08  \n",
       "min    1.537307e+12  \n",
       "25%    1.537928e+12  \n",
       "50%    1.538428e+12  \n",
       "75%    1.538878e+12  \n",
       "max    1.539483e+12  "
      ]
     },
     "execution_count": 25,
     "metadata": {},
     "output_type": "execute_result"
    }
   ],
   "source": [
    "quakes[(quakes[\"parsed_place\"]==\"Nevada\")].describe()"
   ]
  },
  {
   "cell_type": "code",
   "execution_count": 26,
   "metadata": {},
   "outputs": [
    {
     "data": {
      "text/plain": [
       "array(['California', 'Dominican Republic', 'Alaska', 'Indonesia',\n",
       "       'Canada', 'Puerto Rico', 'Montana', 'Nevada', 'Christmas Island',\n",
       "       'Hawaii', 'Northern Mariana Islands', 'Japan', 'Ecuador',\n",
       "       'Vanuatu', 'Mexico', 'Russia', 'British Virgin Islands',\n",
       "       'Washington', 'Papua New Guinea', 'Fiji', 'U.S. Virgin Islands',\n",
       "       'Chile', 'Peru', 'Yemen', 'Guatemala', 'Kansas', 'Australia',\n",
       "       'Wyoming', 'Kuril Islands', 'Oklahoma', 'Tennessee',\n",
       "       'Pacific-Antarctic Ridge', 'Utah', 'Colombia', 'Argentina',\n",
       "       'Oregon', 'Greece', 'Missouri', 'Tajikistan',\n",
       "       'Northern Mid-Atlantic Ridge', 'Sumatra', 'Solomon Islands',\n",
       "       'Burma', 'Taiwan', 'Nicaragua',\n",
       "       'South Georgia and South Sandwich Islands', 'Idaho', 'Kyrgyzstan',\n",
       "       'Arizona', 'Tonga', 'Northern East Pacific Rise', 'South Africa',\n",
       "       'Southern Mid-Atlantic Ridge', 'Costa Rica', 'China',\n",
       "       'Philippines', 'Haiti', 'Jamaica', 'Kentucky', 'New Zealand',\n",
       "       'Iran', 'Afghanistan', 'Southwest Indian Ridge', 'Saint Helena',\n",
       "       'Texas', 'New Caledonia', 'El Salvador',\n",
       "       'Central Mid-Atlantic Ridge', 'Western Xizang', 'Italy',\n",
       "       'Mid-Indian Ridge', 'Ascension Island', 'North Carolina',\n",
       "       'South Sandwich Islands', 'Saint Eustatius and Saba', 'Pakistan',\n",
       "       'Bolivia', 'Turkey', 'Indian Ocean Triple Junction', 'Mayotte',\n",
       "       'Queen Charlotte Islands', 'India', 'Arkansas', 'Guam',\n",
       "       'Uzbekistan', 'Prince Edward Islands', 'Martinique', 'Honduras',\n",
       "       'Southern East Pacific Rise', 'East Timor', 'Barbuda', 'Mauritius',\n",
       "       'Carlsberg Ridge', 'Greenland', 'Balleny Islands',\n",
       "       'Western Indian-Antarctic Ridge', 'South Carolina', 'Vermont',\n",
       "       'Romania', 'New Hampshire', 'Central East Pacific Rise',\n",
       "       'Southeast Indian Ridge', 'Kermadec Islands', 'Colorado',\n",
       "       'Illinois', 'Socotra', 'Azerbaijan', 'Iraq', 'Somalia',\n",
       "       'New Mexico'], dtype=object)"
      ]
     },
     "execution_count": 26,
     "metadata": {},
     "output_type": "execute_result"
    }
   ],
   "source": [
    "quakes[\"parsed_place\"].unique()"
   ]
  },
  {
   "cell_type": "markdown",
   "metadata": {},
   "source": [
    "4. Añade una columna indicando si el terremoto ocurrió en un país o estado de EEUU que se encuentre en el Cinturón de Fuego. Utiliza Alaska, Antártida (busca Antarctic), Bolivia, California, Canadá, Chile, Costa Rica, Ecuador, Fiyi, Guatemala, Indonesia, Japón, Islas Kermadec, México (tenga cuidado de no seleccionar Nuevo México), Nueva Zelanda, Perú, Filipinas, Rusia, Taiwán, Tonga y Washington.\n"
   ]
  },
  {
   "cell_type": "code",
   "execution_count": 55,
   "metadata": {},
   "outputs": [
    {
     "data": {
      "text/html": [
       "<div>\n",
       "<style scoped>\n",
       "    .dataframe tbody tr th:only-of-type {\n",
       "        vertical-align: middle;\n",
       "    }\n",
       "\n",
       "    .dataframe tbody tr th {\n",
       "        vertical-align: top;\n",
       "    }\n",
       "\n",
       "    .dataframe thead th {\n",
       "        text-align: right;\n",
       "    }\n",
       "</style>\n",
       "<table border=\"1\" class=\"dataframe\">\n",
       "  <thead>\n",
       "    <tr style=\"text-align: right;\">\n",
       "      <th></th>\n",
       "      <th>alert</th>\n",
       "      <th>cdi</th>\n",
       "      <th>code</th>\n",
       "      <th>detail</th>\n",
       "      <th>dmin</th>\n",
       "      <th>felt</th>\n",
       "      <th>gap</th>\n",
       "      <th>ids</th>\n",
       "      <th>mag</th>\n",
       "      <th>magType</th>\n",
       "      <th>...</th>\n",
       "      <th>tsunami</th>\n",
       "      <th>type</th>\n",
       "      <th>types</th>\n",
       "      <th>tz</th>\n",
       "      <th>updated</th>\n",
       "      <th>url</th>\n",
       "      <th>parsed_place</th>\n",
       "      <th>Cinturon_Fuego</th>\n",
       "      <th>Cinturon_Fuego_2</th>\n",
       "      <th>Cinturon_Fuego_3</th>\n",
       "    </tr>\n",
       "  </thead>\n",
       "  <tbody>\n",
       "    <tr>\n",
       "      <th>0</th>\n",
       "      <td>NaN</td>\n",
       "      <td>NaN</td>\n",
       "      <td>37389218</td>\n",
       "      <td>https://earthquake.usgs.gov/fdsnws/event/1/que...</td>\n",
       "      <td>0.008693</td>\n",
       "      <td>NaN</td>\n",
       "      <td>85.0</td>\n",
       "      <td>,ci37389218,</td>\n",
       "      <td>1.35</td>\n",
       "      <td>ml</td>\n",
       "      <td>...</td>\n",
       "      <td>0</td>\n",
       "      <td>earthquake</td>\n",
       "      <td>,geoserve,nearby-cities,origin,phase-data,</td>\n",
       "      <td>-480.0</td>\n",
       "      <td>1539475395144</td>\n",
       "      <td>https://earthquake.usgs.gov/earthquakes/eventp...</td>\n",
       "      <td>California</td>\n",
       "      <td>True</td>\n",
       "      <td>True</td>\n",
       "      <td>True</td>\n",
       "    </tr>\n",
       "    <tr>\n",
       "      <th>1</th>\n",
       "      <td>NaN</td>\n",
       "      <td>NaN</td>\n",
       "      <td>37389202</td>\n",
       "      <td>https://earthquake.usgs.gov/fdsnws/event/1/que...</td>\n",
       "      <td>0.020030</td>\n",
       "      <td>NaN</td>\n",
       "      <td>79.0</td>\n",
       "      <td>,ci37389202,</td>\n",
       "      <td>1.29</td>\n",
       "      <td>ml</td>\n",
       "      <td>...</td>\n",
       "      <td>0</td>\n",
       "      <td>earthquake</td>\n",
       "      <td>,geoserve,nearby-cities,origin,phase-data,</td>\n",
       "      <td>-480.0</td>\n",
       "      <td>1539475253925</td>\n",
       "      <td>https://earthquake.usgs.gov/earthquakes/eventp...</td>\n",
       "      <td>California</td>\n",
       "      <td>True</td>\n",
       "      <td>True</td>\n",
       "      <td>True</td>\n",
       "    </tr>\n",
       "    <tr>\n",
       "      <th>2</th>\n",
       "      <td>NaN</td>\n",
       "      <td>4.4</td>\n",
       "      <td>37389194</td>\n",
       "      <td>https://earthquake.usgs.gov/fdsnws/event/1/que...</td>\n",
       "      <td>0.021370</td>\n",
       "      <td>28.0</td>\n",
       "      <td>21.0</td>\n",
       "      <td>,ci37389194,</td>\n",
       "      <td>3.42</td>\n",
       "      <td>ml</td>\n",
       "      <td>...</td>\n",
       "      <td>0</td>\n",
       "      <td>earthquake</td>\n",
       "      <td>,dyfi,focal-mechanism,geoserve,nearby-cities,o...</td>\n",
       "      <td>-480.0</td>\n",
       "      <td>1539536756176</td>\n",
       "      <td>https://earthquake.usgs.gov/earthquakes/eventp...</td>\n",
       "      <td>California</td>\n",
       "      <td>True</td>\n",
       "      <td>True</td>\n",
       "      <td>True</td>\n",
       "    </tr>\n",
       "    <tr>\n",
       "      <th>3</th>\n",
       "      <td>NaN</td>\n",
       "      <td>NaN</td>\n",
       "      <td>37389186</td>\n",
       "      <td>https://earthquake.usgs.gov/fdsnws/event/1/que...</td>\n",
       "      <td>0.026180</td>\n",
       "      <td>NaN</td>\n",
       "      <td>39.0</td>\n",
       "      <td>,ci37389186,</td>\n",
       "      <td>0.44</td>\n",
       "      <td>ml</td>\n",
       "      <td>...</td>\n",
       "      <td>0</td>\n",
       "      <td>earthquake</td>\n",
       "      <td>,geoserve,nearby-cities,origin,phase-data,</td>\n",
       "      <td>-480.0</td>\n",
       "      <td>1539475196167</td>\n",
       "      <td>https://earthquake.usgs.gov/earthquakes/eventp...</td>\n",
       "      <td>California</td>\n",
       "      <td>True</td>\n",
       "      <td>True</td>\n",
       "      <td>True</td>\n",
       "    </tr>\n",
       "    <tr>\n",
       "      <th>4</th>\n",
       "      <td>NaN</td>\n",
       "      <td>NaN</td>\n",
       "      <td>73096941</td>\n",
       "      <td>https://earthquake.usgs.gov/fdsnws/event/1/que...</td>\n",
       "      <td>0.077990</td>\n",
       "      <td>NaN</td>\n",
       "      <td>192.0</td>\n",
       "      <td>,nc73096941,</td>\n",
       "      <td>2.16</td>\n",
       "      <td>md</td>\n",
       "      <td>...</td>\n",
       "      <td>0</td>\n",
       "      <td>earthquake</td>\n",
       "      <td>,geoserve,nearby-cities,origin,phase-data,scit...</td>\n",
       "      <td>-480.0</td>\n",
       "      <td>1539477547926</td>\n",
       "      <td>https://earthquake.usgs.gov/earthquakes/eventp...</td>\n",
       "      <td>California</td>\n",
       "      <td>True</td>\n",
       "      <td>True</td>\n",
       "      <td>True</td>\n",
       "    </tr>\n",
       "    <tr>\n",
       "      <th>...</th>\n",
       "      <td>...</td>\n",
       "      <td>...</td>\n",
       "      <td>...</td>\n",
       "      <td>...</td>\n",
       "      <td>...</td>\n",
       "      <td>...</td>\n",
       "      <td>...</td>\n",
       "      <td>...</td>\n",
       "      <td>...</td>\n",
       "      <td>...</td>\n",
       "      <td>...</td>\n",
       "      <td>...</td>\n",
       "      <td>...</td>\n",
       "      <td>...</td>\n",
       "      <td>...</td>\n",
       "      <td>...</td>\n",
       "      <td>...</td>\n",
       "      <td>...</td>\n",
       "      <td>...</td>\n",
       "      <td>...</td>\n",
       "      <td>...</td>\n",
       "    </tr>\n",
       "    <tr>\n",
       "      <th>9326</th>\n",
       "      <td>NaN</td>\n",
       "      <td>NaN</td>\n",
       "      <td>38063975</td>\n",
       "      <td>https://earthquake.usgs.gov/fdsnws/event/1/que...</td>\n",
       "      <td>0.036520</td>\n",
       "      <td>NaN</td>\n",
       "      <td>26.0</td>\n",
       "      <td>,ci38063975,</td>\n",
       "      <td>1.82</td>\n",
       "      <td>ml</td>\n",
       "      <td>...</td>\n",
       "      <td>0</td>\n",
       "      <td>earthquake</td>\n",
       "      <td>,focal-mechanism,geoserve,nearby-cities,origin...</td>\n",
       "      <td>-480.0</td>\n",
       "      <td>1537276829920</td>\n",
       "      <td>https://earthquake.usgs.gov/earthquakes/eventp...</td>\n",
       "      <td>California</td>\n",
       "      <td>True</td>\n",
       "      <td>True</td>\n",
       "      <td>True</td>\n",
       "    </tr>\n",
       "    <tr>\n",
       "      <th>9327</th>\n",
       "      <td>NaN</td>\n",
       "      <td>NaN</td>\n",
       "      <td>73086771</td>\n",
       "      <td>https://earthquake.usgs.gov/fdsnws/event/1/que...</td>\n",
       "      <td>0.018060</td>\n",
       "      <td>NaN</td>\n",
       "      <td>185.0</td>\n",
       "      <td>,nc73086771,</td>\n",
       "      <td>0.62</td>\n",
       "      <td>md</td>\n",
       "      <td>...</td>\n",
       "      <td>0</td>\n",
       "      <td>earthquake</td>\n",
       "      <td>,geoserve,nearby-cities,origin,phase-data,</td>\n",
       "      <td>-480.0</td>\n",
       "      <td>1537285598315</td>\n",
       "      <td>https://earthquake.usgs.gov/earthquakes/eventp...</td>\n",
       "      <td>California</td>\n",
       "      <td>True</td>\n",
       "      <td>True</td>\n",
       "      <td>True</td>\n",
       "    </tr>\n",
       "    <tr>\n",
       "      <th>9328</th>\n",
       "      <td>NaN</td>\n",
       "      <td>NaN</td>\n",
       "      <td>38063967</td>\n",
       "      <td>https://earthquake.usgs.gov/fdsnws/event/1/que...</td>\n",
       "      <td>0.030410</td>\n",
       "      <td>NaN</td>\n",
       "      <td>50.0</td>\n",
       "      <td>,ci38063967,</td>\n",
       "      <td>1.00</td>\n",
       "      <td>ml</td>\n",
       "      <td>...</td>\n",
       "      <td>0</td>\n",
       "      <td>earthquake</td>\n",
       "      <td>,geoserve,nearby-cities,origin,phase-data,scit...</td>\n",
       "      <td>-480.0</td>\n",
       "      <td>1537276800970</td>\n",
       "      <td>https://earthquake.usgs.gov/earthquakes/eventp...</td>\n",
       "      <td>California</td>\n",
       "      <td>True</td>\n",
       "      <td>True</td>\n",
       "      <td>True</td>\n",
       "    </tr>\n",
       "    <tr>\n",
       "      <th>9330</th>\n",
       "      <td>NaN</td>\n",
       "      <td>NaN</td>\n",
       "      <td>38063959</td>\n",
       "      <td>https://earthquake.usgs.gov/fdsnws/event/1/que...</td>\n",
       "      <td>0.018650</td>\n",
       "      <td>NaN</td>\n",
       "      <td>61.0</td>\n",
       "      <td>,ci38063959,</td>\n",
       "      <td>1.10</td>\n",
       "      <td>ml</td>\n",
       "      <td>...</td>\n",
       "      <td>0</td>\n",
       "      <td>earthquake</td>\n",
       "      <td>,focal-mechanism,geoserve,nearby-cities,origin...</td>\n",
       "      <td>-480.0</td>\n",
       "      <td>1537230211640</td>\n",
       "      <td>https://earthquake.usgs.gov/earthquakes/eventp...</td>\n",
       "      <td>California</td>\n",
       "      <td>True</td>\n",
       "      <td>True</td>\n",
       "      <td>True</td>\n",
       "    </tr>\n",
       "    <tr>\n",
       "      <th>9331</th>\n",
       "      <td>NaN</td>\n",
       "      <td>NaN</td>\n",
       "      <td>38063935</td>\n",
       "      <td>https://earthquake.usgs.gov/fdsnws/event/1/que...</td>\n",
       "      <td>0.016980</td>\n",
       "      <td>NaN</td>\n",
       "      <td>39.0</td>\n",
       "      <td>,ci38063935,</td>\n",
       "      <td>0.66</td>\n",
       "      <td>ml</td>\n",
       "      <td>...</td>\n",
       "      <td>0</td>\n",
       "      <td>earthquake</td>\n",
       "      <td>,focal-mechanism,geoserve,nearby-cities,origin...</td>\n",
       "      <td>-480.0</td>\n",
       "      <td>1537305830770</td>\n",
       "      <td>https://earthquake.usgs.gov/earthquakes/eventp...</td>\n",
       "      <td>California</td>\n",
       "      <td>True</td>\n",
       "      <td>True</td>\n",
       "      <td>True</td>\n",
       "    </tr>\n",
       "  </tbody>\n",
       "</table>\n",
       "<p>7161 rows × 30 columns</p>\n",
       "</div>"
      ],
      "text/plain": [
       "     alert  cdi      code                                             detail  \\\n",
       "0      NaN  NaN  37389218  https://earthquake.usgs.gov/fdsnws/event/1/que...   \n",
       "1      NaN  NaN  37389202  https://earthquake.usgs.gov/fdsnws/event/1/que...   \n",
       "2      NaN  4.4  37389194  https://earthquake.usgs.gov/fdsnws/event/1/que...   \n",
       "3      NaN  NaN  37389186  https://earthquake.usgs.gov/fdsnws/event/1/que...   \n",
       "4      NaN  NaN  73096941  https://earthquake.usgs.gov/fdsnws/event/1/que...   \n",
       "...    ...  ...       ...                                                ...   \n",
       "9326   NaN  NaN  38063975  https://earthquake.usgs.gov/fdsnws/event/1/que...   \n",
       "9327   NaN  NaN  73086771  https://earthquake.usgs.gov/fdsnws/event/1/que...   \n",
       "9328   NaN  NaN  38063967  https://earthquake.usgs.gov/fdsnws/event/1/que...   \n",
       "9330   NaN  NaN  38063959  https://earthquake.usgs.gov/fdsnws/event/1/que...   \n",
       "9331   NaN  NaN  38063935  https://earthquake.usgs.gov/fdsnws/event/1/que...   \n",
       "\n",
       "          dmin  felt    gap           ids   mag magType  ...  tsunami  \\\n",
       "0     0.008693   NaN   85.0  ,ci37389218,  1.35      ml  ...        0   \n",
       "1     0.020030   NaN   79.0  ,ci37389202,  1.29      ml  ...        0   \n",
       "2     0.021370  28.0   21.0  ,ci37389194,  3.42      ml  ...        0   \n",
       "3     0.026180   NaN   39.0  ,ci37389186,  0.44      ml  ...        0   \n",
       "4     0.077990   NaN  192.0  ,nc73096941,  2.16      md  ...        0   \n",
       "...        ...   ...    ...           ...   ...     ...  ...      ...   \n",
       "9326  0.036520   NaN   26.0  ,ci38063975,  1.82      ml  ...        0   \n",
       "9327  0.018060   NaN  185.0  ,nc73086771,  0.62      md  ...        0   \n",
       "9328  0.030410   NaN   50.0  ,ci38063967,  1.00      ml  ...        0   \n",
       "9330  0.018650   NaN   61.0  ,ci38063959,  1.10      ml  ...        0   \n",
       "9331  0.016980   NaN   39.0  ,ci38063935,  0.66      ml  ...        0   \n",
       "\n",
       "            type                                              types     tz  \\\n",
       "0     earthquake         ,geoserve,nearby-cities,origin,phase-data, -480.0   \n",
       "1     earthquake         ,geoserve,nearby-cities,origin,phase-data, -480.0   \n",
       "2     earthquake  ,dyfi,focal-mechanism,geoserve,nearby-cities,o... -480.0   \n",
       "3     earthquake         ,geoserve,nearby-cities,origin,phase-data, -480.0   \n",
       "4     earthquake  ,geoserve,nearby-cities,origin,phase-data,scit... -480.0   \n",
       "...          ...                                                ...    ...   \n",
       "9326  earthquake  ,focal-mechanism,geoserve,nearby-cities,origin... -480.0   \n",
       "9327  earthquake         ,geoserve,nearby-cities,origin,phase-data, -480.0   \n",
       "9328  earthquake  ,geoserve,nearby-cities,origin,phase-data,scit... -480.0   \n",
       "9330  earthquake  ,focal-mechanism,geoserve,nearby-cities,origin... -480.0   \n",
       "9331  earthquake  ,focal-mechanism,geoserve,nearby-cities,origin... -480.0   \n",
       "\n",
       "            updated                                                url  \\\n",
       "0     1539475395144  https://earthquake.usgs.gov/earthquakes/eventp...   \n",
       "1     1539475253925  https://earthquake.usgs.gov/earthquakes/eventp...   \n",
       "2     1539536756176  https://earthquake.usgs.gov/earthquakes/eventp...   \n",
       "3     1539475196167  https://earthquake.usgs.gov/earthquakes/eventp...   \n",
       "4     1539477547926  https://earthquake.usgs.gov/earthquakes/eventp...   \n",
       "...             ...                                                ...   \n",
       "9326  1537276829920  https://earthquake.usgs.gov/earthquakes/eventp...   \n",
       "9327  1537285598315  https://earthquake.usgs.gov/earthquakes/eventp...   \n",
       "9328  1537276800970  https://earthquake.usgs.gov/earthquakes/eventp...   \n",
       "9330  1537230211640  https://earthquake.usgs.gov/earthquakes/eventp...   \n",
       "9331  1537305830770  https://earthquake.usgs.gov/earthquakes/eventp...   \n",
       "\n",
       "     parsed_place Cinturon_Fuego  Cinturon_Fuego_2 Cinturon_Fuego_3  \n",
       "0      California           True              True             True  \n",
       "1      California           True              True             True  \n",
       "2      California           True              True             True  \n",
       "3      California           True              True             True  \n",
       "4      California           True              True             True  \n",
       "...           ...            ...               ...              ...  \n",
       "9326   California           True              True             True  \n",
       "9327   California           True              True             True  \n",
       "9328   California           True              True             True  \n",
       "9330   California           True              True             True  \n",
       "9331   California           True              True             True  \n",
       "\n",
       "[7161 rows x 30 columns]"
      ]
     },
     "execution_count": 55,
     "metadata": {},
     "output_type": "execute_result"
    }
   ],
   "source": [
    "lista = \"Alaska, Antarctic, Bolivia, California, Canada, Chile, Costa Rica, Ecuador, Fiji, Guatemala, Indonesia, Japan, Islas Kermadec, Mexico, New Zealand, Peru, Filipinas, Russia, Taiwan, Tonga, Washington\"\n",
    "lista = lista.split(\", \")\n",
    "quakes[quakes[\"parsed_place\"].isin(lista)]"
   ]
  },
  {
   "cell_type": "code",
   "execution_count": 56,
   "metadata": {},
   "outputs": [],
   "source": [
    "quakes[\"Cinturon_Fuego\"] = quakes[\"parsed_place\"].isin(lista)"
   ]
  },
  {
   "cell_type": "code",
   "execution_count": 35,
   "metadata": {},
   "outputs": [],
   "source": [
    "quakes[\"Cinturon_Fuego_2\"] = quakes[\"parsed_place\"].apply(lambda x: x in lista)"
   ]
  },
  {
   "cell_type": "code",
   "execution_count": 45,
   "metadata": {},
   "outputs": [],
   "source": [
    "quakes[\"Cinturon_Fuego_3\"] = False\n",
    "quakes.loc[quakes[\"parsed_place\"].isin(lista), \"Cinturon_Fuego_3\"] = True"
   ]
  },
  {
   "cell_type": "code",
   "execution_count": 47,
   "metadata": {},
   "outputs": [
    {
     "name": "stderr",
     "output_type": "stream",
     "text": [
      "C:\\Users\\Jonatan\\AppData\\Local\\Temp\\ipykernel_16712\\2654121600.py:1: SettingWithCopyWarning: \n",
      "A value is trying to be set on a copy of a slice from a DataFrame.\n",
      "Try using .loc[row_indexer,col_indexer] = value instead\n",
      "\n",
      "See the caveats in the documentation: https://pandas.pydata.org/pandas-docs/stable/user_guide/indexing.html#returning-a-view-versus-a-copy\n",
      "  quakes[quakes[\"parsed_place\"].isin(lista)][\"Cinturon_Fuego_4\"] = True\n"
     ]
    }
   ],
   "source": [
    "# No lo cambia!!\n",
    "#quakes[quakes[\"parsed_place\"].isin(lista)][\"Cinturon_Fuego_4\"] = True"
   ]
  },
  {
   "cell_type": "code",
   "execution_count": 48,
   "metadata": {},
   "outputs": [
    {
     "data": {
      "text/html": [
       "<div>\n",
       "<style scoped>\n",
       "    .dataframe tbody tr th:only-of-type {\n",
       "        vertical-align: middle;\n",
       "    }\n",
       "\n",
       "    .dataframe tbody tr th {\n",
       "        vertical-align: top;\n",
       "    }\n",
       "\n",
       "    .dataframe thead th {\n",
       "        text-align: right;\n",
       "    }\n",
       "</style>\n",
       "<table border=\"1\" class=\"dataframe\">\n",
       "  <thead>\n",
       "    <tr style=\"text-align: right;\">\n",
       "      <th></th>\n",
       "      <th>alert</th>\n",
       "      <th>cdi</th>\n",
       "      <th>code</th>\n",
       "      <th>detail</th>\n",
       "      <th>dmin</th>\n",
       "      <th>felt</th>\n",
       "      <th>gap</th>\n",
       "      <th>ids</th>\n",
       "      <th>mag</th>\n",
       "      <th>magType</th>\n",
       "      <th>...</th>\n",
       "      <th>tsunami</th>\n",
       "      <th>type</th>\n",
       "      <th>types</th>\n",
       "      <th>tz</th>\n",
       "      <th>updated</th>\n",
       "      <th>url</th>\n",
       "      <th>parsed_place</th>\n",
       "      <th>Cinturon_Fuego</th>\n",
       "      <th>Cinturon_Fuego_2</th>\n",
       "      <th>Cinturon_Fuego_3</th>\n",
       "    </tr>\n",
       "  </thead>\n",
       "  <tbody>\n",
       "    <tr>\n",
       "      <th>0</th>\n",
       "      <td>NaN</td>\n",
       "      <td>NaN</td>\n",
       "      <td>37389218</td>\n",
       "      <td>https://earthquake.usgs.gov/fdsnws/event/1/que...</td>\n",
       "      <td>0.008693</td>\n",
       "      <td>NaN</td>\n",
       "      <td>85.0</td>\n",
       "      <td>,ci37389218,</td>\n",
       "      <td>1.35</td>\n",
       "      <td>ml</td>\n",
       "      <td>...</td>\n",
       "      <td>0</td>\n",
       "      <td>earthquake</td>\n",
       "      <td>,geoserve,nearby-cities,origin,phase-data,</td>\n",
       "      <td>-480.0</td>\n",
       "      <td>1539475395144</td>\n",
       "      <td>https://earthquake.usgs.gov/earthquakes/eventp...</td>\n",
       "      <td>California</td>\n",
       "      <td>True</td>\n",
       "      <td>True</td>\n",
       "      <td>True</td>\n",
       "    </tr>\n",
       "    <tr>\n",
       "      <th>1</th>\n",
       "      <td>NaN</td>\n",
       "      <td>NaN</td>\n",
       "      <td>37389202</td>\n",
       "      <td>https://earthquake.usgs.gov/fdsnws/event/1/que...</td>\n",
       "      <td>0.020030</td>\n",
       "      <td>NaN</td>\n",
       "      <td>79.0</td>\n",
       "      <td>,ci37389202,</td>\n",
       "      <td>1.29</td>\n",
       "      <td>ml</td>\n",
       "      <td>...</td>\n",
       "      <td>0</td>\n",
       "      <td>earthquake</td>\n",
       "      <td>,geoserve,nearby-cities,origin,phase-data,</td>\n",
       "      <td>-480.0</td>\n",
       "      <td>1539475253925</td>\n",
       "      <td>https://earthquake.usgs.gov/earthquakes/eventp...</td>\n",
       "      <td>California</td>\n",
       "      <td>True</td>\n",
       "      <td>True</td>\n",
       "      <td>True</td>\n",
       "    </tr>\n",
       "    <tr>\n",
       "      <th>2</th>\n",
       "      <td>NaN</td>\n",
       "      <td>4.4</td>\n",
       "      <td>37389194</td>\n",
       "      <td>https://earthquake.usgs.gov/fdsnws/event/1/que...</td>\n",
       "      <td>0.021370</td>\n",
       "      <td>28.0</td>\n",
       "      <td>21.0</td>\n",
       "      <td>,ci37389194,</td>\n",
       "      <td>3.42</td>\n",
       "      <td>ml</td>\n",
       "      <td>...</td>\n",
       "      <td>0</td>\n",
       "      <td>earthquake</td>\n",
       "      <td>,dyfi,focal-mechanism,geoserve,nearby-cities,o...</td>\n",
       "      <td>-480.0</td>\n",
       "      <td>1539536756176</td>\n",
       "      <td>https://earthquake.usgs.gov/earthquakes/eventp...</td>\n",
       "      <td>California</td>\n",
       "      <td>True</td>\n",
       "      <td>True</td>\n",
       "      <td>True</td>\n",
       "    </tr>\n",
       "    <tr>\n",
       "      <th>3</th>\n",
       "      <td>NaN</td>\n",
       "      <td>NaN</td>\n",
       "      <td>37389186</td>\n",
       "      <td>https://earthquake.usgs.gov/fdsnws/event/1/que...</td>\n",
       "      <td>0.026180</td>\n",
       "      <td>NaN</td>\n",
       "      <td>39.0</td>\n",
       "      <td>,ci37389186,</td>\n",
       "      <td>0.44</td>\n",
       "      <td>ml</td>\n",
       "      <td>...</td>\n",
       "      <td>0</td>\n",
       "      <td>earthquake</td>\n",
       "      <td>,geoserve,nearby-cities,origin,phase-data,</td>\n",
       "      <td>-480.0</td>\n",
       "      <td>1539475196167</td>\n",
       "      <td>https://earthquake.usgs.gov/earthquakes/eventp...</td>\n",
       "      <td>California</td>\n",
       "      <td>True</td>\n",
       "      <td>True</td>\n",
       "      <td>True</td>\n",
       "    </tr>\n",
       "    <tr>\n",
       "      <th>4</th>\n",
       "      <td>NaN</td>\n",
       "      <td>NaN</td>\n",
       "      <td>73096941</td>\n",
       "      <td>https://earthquake.usgs.gov/fdsnws/event/1/que...</td>\n",
       "      <td>0.077990</td>\n",
       "      <td>NaN</td>\n",
       "      <td>192.0</td>\n",
       "      <td>,nc73096941,</td>\n",
       "      <td>2.16</td>\n",
       "      <td>md</td>\n",
       "      <td>...</td>\n",
       "      <td>0</td>\n",
       "      <td>earthquake</td>\n",
       "      <td>,geoserve,nearby-cities,origin,phase-data,scit...</td>\n",
       "      <td>-480.0</td>\n",
       "      <td>1539477547926</td>\n",
       "      <td>https://earthquake.usgs.gov/earthquakes/eventp...</td>\n",
       "      <td>California</td>\n",
       "      <td>True</td>\n",
       "      <td>True</td>\n",
       "      <td>True</td>\n",
       "    </tr>\n",
       "    <tr>\n",
       "      <th>...</th>\n",
       "      <td>...</td>\n",
       "      <td>...</td>\n",
       "      <td>...</td>\n",
       "      <td>...</td>\n",
       "      <td>...</td>\n",
       "      <td>...</td>\n",
       "      <td>...</td>\n",
       "      <td>...</td>\n",
       "      <td>...</td>\n",
       "      <td>...</td>\n",
       "      <td>...</td>\n",
       "      <td>...</td>\n",
       "      <td>...</td>\n",
       "      <td>...</td>\n",
       "      <td>...</td>\n",
       "      <td>...</td>\n",
       "      <td>...</td>\n",
       "      <td>...</td>\n",
       "      <td>...</td>\n",
       "      <td>...</td>\n",
       "      <td>...</td>\n",
       "    </tr>\n",
       "    <tr>\n",
       "      <th>9327</th>\n",
       "      <td>NaN</td>\n",
       "      <td>NaN</td>\n",
       "      <td>73086771</td>\n",
       "      <td>https://earthquake.usgs.gov/fdsnws/event/1/que...</td>\n",
       "      <td>0.018060</td>\n",
       "      <td>NaN</td>\n",
       "      <td>185.0</td>\n",
       "      <td>,nc73086771,</td>\n",
       "      <td>0.62</td>\n",
       "      <td>md</td>\n",
       "      <td>...</td>\n",
       "      <td>0</td>\n",
       "      <td>earthquake</td>\n",
       "      <td>,geoserve,nearby-cities,origin,phase-data,</td>\n",
       "      <td>-480.0</td>\n",
       "      <td>1537285598315</td>\n",
       "      <td>https://earthquake.usgs.gov/earthquakes/eventp...</td>\n",
       "      <td>California</td>\n",
       "      <td>True</td>\n",
       "      <td>True</td>\n",
       "      <td>True</td>\n",
       "    </tr>\n",
       "    <tr>\n",
       "      <th>9328</th>\n",
       "      <td>NaN</td>\n",
       "      <td>NaN</td>\n",
       "      <td>38063967</td>\n",
       "      <td>https://earthquake.usgs.gov/fdsnws/event/1/que...</td>\n",
       "      <td>0.030410</td>\n",
       "      <td>NaN</td>\n",
       "      <td>50.0</td>\n",
       "      <td>,ci38063967,</td>\n",
       "      <td>1.00</td>\n",
       "      <td>ml</td>\n",
       "      <td>...</td>\n",
       "      <td>0</td>\n",
       "      <td>earthquake</td>\n",
       "      <td>,geoserve,nearby-cities,origin,phase-data,scit...</td>\n",
       "      <td>-480.0</td>\n",
       "      <td>1537276800970</td>\n",
       "      <td>https://earthquake.usgs.gov/earthquakes/eventp...</td>\n",
       "      <td>California</td>\n",
       "      <td>True</td>\n",
       "      <td>True</td>\n",
       "      <td>True</td>\n",
       "    </tr>\n",
       "    <tr>\n",
       "      <th>9329</th>\n",
       "      <td>NaN</td>\n",
       "      <td>NaN</td>\n",
       "      <td>2018261000</td>\n",
       "      <td>https://earthquake.usgs.gov/fdsnws/event/1/que...</td>\n",
       "      <td>0.452600</td>\n",
       "      <td>NaN</td>\n",
       "      <td>276.0</td>\n",
       "      <td>,pr2018261000,</td>\n",
       "      <td>2.40</td>\n",
       "      <td>md</td>\n",
       "      <td>...</td>\n",
       "      <td>0</td>\n",
       "      <td>earthquake</td>\n",
       "      <td>,geoserve,origin,phase-data,</td>\n",
       "      <td>-240.0</td>\n",
       "      <td>1537243777410</td>\n",
       "      <td>https://earthquake.usgs.gov/earthquakes/eventp...</td>\n",
       "      <td>Puerto Rico</td>\n",
       "      <td>False</td>\n",
       "      <td>False</td>\n",
       "      <td>False</td>\n",
       "    </tr>\n",
       "    <tr>\n",
       "      <th>9330</th>\n",
       "      <td>NaN</td>\n",
       "      <td>NaN</td>\n",
       "      <td>38063959</td>\n",
       "      <td>https://earthquake.usgs.gov/fdsnws/event/1/que...</td>\n",
       "      <td>0.018650</td>\n",
       "      <td>NaN</td>\n",
       "      <td>61.0</td>\n",
       "      <td>,ci38063959,</td>\n",
       "      <td>1.10</td>\n",
       "      <td>ml</td>\n",
       "      <td>...</td>\n",
       "      <td>0</td>\n",
       "      <td>earthquake</td>\n",
       "      <td>,focal-mechanism,geoserve,nearby-cities,origin...</td>\n",
       "      <td>-480.0</td>\n",
       "      <td>1537230211640</td>\n",
       "      <td>https://earthquake.usgs.gov/earthquakes/eventp...</td>\n",
       "      <td>California</td>\n",
       "      <td>True</td>\n",
       "      <td>True</td>\n",
       "      <td>True</td>\n",
       "    </tr>\n",
       "    <tr>\n",
       "      <th>9331</th>\n",
       "      <td>NaN</td>\n",
       "      <td>NaN</td>\n",
       "      <td>38063935</td>\n",
       "      <td>https://earthquake.usgs.gov/fdsnws/event/1/que...</td>\n",
       "      <td>0.016980</td>\n",
       "      <td>NaN</td>\n",
       "      <td>39.0</td>\n",
       "      <td>,ci38063935,</td>\n",
       "      <td>0.66</td>\n",
       "      <td>ml</td>\n",
       "      <td>...</td>\n",
       "      <td>0</td>\n",
       "      <td>earthquake</td>\n",
       "      <td>,focal-mechanism,geoserve,nearby-cities,origin...</td>\n",
       "      <td>-480.0</td>\n",
       "      <td>1537305830770</td>\n",
       "      <td>https://earthquake.usgs.gov/earthquakes/eventp...</td>\n",
       "      <td>California</td>\n",
       "      <td>True</td>\n",
       "      <td>True</td>\n",
       "      <td>True</td>\n",
       "    </tr>\n",
       "  </tbody>\n",
       "</table>\n",
       "<p>9332 rows × 30 columns</p>\n",
       "</div>"
      ],
      "text/plain": [
       "     alert  cdi        code  \\\n",
       "0      NaN  NaN    37389218   \n",
       "1      NaN  NaN    37389202   \n",
       "2      NaN  4.4    37389194   \n",
       "3      NaN  NaN    37389186   \n",
       "4      NaN  NaN    73096941   \n",
       "...    ...  ...         ...   \n",
       "9327   NaN  NaN    73086771   \n",
       "9328   NaN  NaN    38063967   \n",
       "9329   NaN  NaN  2018261000   \n",
       "9330   NaN  NaN    38063959   \n",
       "9331   NaN  NaN    38063935   \n",
       "\n",
       "                                                 detail      dmin  felt  \\\n",
       "0     https://earthquake.usgs.gov/fdsnws/event/1/que...  0.008693   NaN   \n",
       "1     https://earthquake.usgs.gov/fdsnws/event/1/que...  0.020030   NaN   \n",
       "2     https://earthquake.usgs.gov/fdsnws/event/1/que...  0.021370  28.0   \n",
       "3     https://earthquake.usgs.gov/fdsnws/event/1/que...  0.026180   NaN   \n",
       "4     https://earthquake.usgs.gov/fdsnws/event/1/que...  0.077990   NaN   \n",
       "...                                                 ...       ...   ...   \n",
       "9327  https://earthquake.usgs.gov/fdsnws/event/1/que...  0.018060   NaN   \n",
       "9328  https://earthquake.usgs.gov/fdsnws/event/1/que...  0.030410   NaN   \n",
       "9329  https://earthquake.usgs.gov/fdsnws/event/1/que...  0.452600   NaN   \n",
       "9330  https://earthquake.usgs.gov/fdsnws/event/1/que...  0.018650   NaN   \n",
       "9331  https://earthquake.usgs.gov/fdsnws/event/1/que...  0.016980   NaN   \n",
       "\n",
       "        gap             ids   mag magType  ...  tsunami        type  \\\n",
       "0      85.0    ,ci37389218,  1.35      ml  ...        0  earthquake   \n",
       "1      79.0    ,ci37389202,  1.29      ml  ...        0  earthquake   \n",
       "2      21.0    ,ci37389194,  3.42      ml  ...        0  earthquake   \n",
       "3      39.0    ,ci37389186,  0.44      ml  ...        0  earthquake   \n",
       "4     192.0    ,nc73096941,  2.16      md  ...        0  earthquake   \n",
       "...     ...             ...   ...     ...  ...      ...         ...   \n",
       "9327  185.0    ,nc73086771,  0.62      md  ...        0  earthquake   \n",
       "9328   50.0    ,ci38063967,  1.00      ml  ...        0  earthquake   \n",
       "9329  276.0  ,pr2018261000,  2.40      md  ...        0  earthquake   \n",
       "9330   61.0    ,ci38063959,  1.10      ml  ...        0  earthquake   \n",
       "9331   39.0    ,ci38063935,  0.66      ml  ...        0  earthquake   \n",
       "\n",
       "                                                  types     tz        updated  \\\n",
       "0            ,geoserve,nearby-cities,origin,phase-data, -480.0  1539475395144   \n",
       "1            ,geoserve,nearby-cities,origin,phase-data, -480.0  1539475253925   \n",
       "2     ,dyfi,focal-mechanism,geoserve,nearby-cities,o... -480.0  1539536756176   \n",
       "3            ,geoserve,nearby-cities,origin,phase-data, -480.0  1539475196167   \n",
       "4     ,geoserve,nearby-cities,origin,phase-data,scit... -480.0  1539477547926   \n",
       "...                                                 ...    ...            ...   \n",
       "9327         ,geoserve,nearby-cities,origin,phase-data, -480.0  1537285598315   \n",
       "9328  ,geoserve,nearby-cities,origin,phase-data,scit... -480.0  1537276800970   \n",
       "9329                       ,geoserve,origin,phase-data, -240.0  1537243777410   \n",
       "9330  ,focal-mechanism,geoserve,nearby-cities,origin... -480.0  1537230211640   \n",
       "9331  ,focal-mechanism,geoserve,nearby-cities,origin... -480.0  1537305830770   \n",
       "\n",
       "                                                    url parsed_place  \\\n",
       "0     https://earthquake.usgs.gov/earthquakes/eventp...   California   \n",
       "1     https://earthquake.usgs.gov/earthquakes/eventp...   California   \n",
       "2     https://earthquake.usgs.gov/earthquakes/eventp...   California   \n",
       "3     https://earthquake.usgs.gov/earthquakes/eventp...   California   \n",
       "4     https://earthquake.usgs.gov/earthquakes/eventp...   California   \n",
       "...                                                 ...          ...   \n",
       "9327  https://earthquake.usgs.gov/earthquakes/eventp...   California   \n",
       "9328  https://earthquake.usgs.gov/earthquakes/eventp...   California   \n",
       "9329  https://earthquake.usgs.gov/earthquakes/eventp...  Puerto Rico   \n",
       "9330  https://earthquake.usgs.gov/earthquakes/eventp...   California   \n",
       "9331  https://earthquake.usgs.gov/earthquakes/eventp...   California   \n",
       "\n",
       "     Cinturon_Fuego  Cinturon_Fuego_2 Cinturon_Fuego_3  \n",
       "0              True              True             True  \n",
       "1              True              True             True  \n",
       "2              True              True             True  \n",
       "3              True              True             True  \n",
       "4              True              True             True  \n",
       "...             ...               ...              ...  \n",
       "9327           True              True             True  \n",
       "9328           True              True             True  \n",
       "9329          False             False            False  \n",
       "9330           True              True             True  \n",
       "9331           True              True             True  \n",
       "\n",
       "[9332 rows x 30 columns]"
      ]
     },
     "execution_count": 48,
     "metadata": {},
     "output_type": "execute_result"
    }
   ],
   "source": [
    "quakes"
   ]
  },
  {
   "cell_type": "code",
   "execution_count": 39,
   "metadata": {},
   "outputs": [
    {
     "data": {
      "text/plain": [
       "0"
      ]
     },
     "execution_count": 39,
     "metadata": {},
     "output_type": "execute_result"
    }
   ],
   "source": [
    "sum(quakes[\"Cinturon_Fuego_2\"] != quakes[\"Cinturon_Fuego\"])"
   ]
  },
  {
   "cell_type": "code",
   "execution_count": 46,
   "metadata": {},
   "outputs": [
    {
     "data": {
      "text/plain": [
       "0"
      ]
     },
     "execution_count": 46,
     "metadata": {},
     "output_type": "execute_result"
    }
   ],
   "source": [
    "sum(quakes[\"Cinturon_Fuego_3\"] != quakes[\"Cinturon_Fuego\"])"
   ]
  },
  {
   "cell_type": "code",
   "execution_count": 50,
   "metadata": {},
   "outputs": [
    {
     "data": {
      "text/plain": [
       "0        True\n",
       "1        True\n",
       "2        True\n",
       "3        True\n",
       "4        True\n",
       "        ...  \n",
       "9327     True\n",
       "9328     True\n",
       "9329    False\n",
       "9330     True\n",
       "9331     True\n",
       "Name: Cinturon_Fuego, Length: 9332, dtype: bool"
      ]
     },
     "execution_count": 50,
     "metadata": {},
     "output_type": "execute_result"
    }
   ],
   "source": [
    "quakes[\"Cinturon_Fuego\"] "
   ]
  },
  {
   "cell_type": "markdown",
   "metadata": {},
   "source": [
    "5. Calcula el número de terremotos en los lugares del Cinturón de Fuego y el número fuera de ellos.\n"
   ]
  },
  {
   "cell_type": "code",
   "execution_count": 57,
   "metadata": {},
   "outputs": [
    {
     "data": {
      "text/plain": [
       "Cinturon_Fuego\n",
       "False    2171\n",
       "True     7161\n",
       "Name: Cinturon_Fuego, dtype: int64"
      ]
     },
     "execution_count": 57,
     "metadata": {},
     "output_type": "execute_result"
    }
   ],
   "source": [
    "quakes.groupby([\"Cinturon_Fuego\"])[\"Cinturon_Fuego\"].count()"
   ]
  },
  {
   "cell_type": "code",
   "execution_count": 58,
   "metadata": {},
   "outputs": [
    {
     "data": {
      "text/plain": [
       "7161"
      ]
     },
     "execution_count": 58,
     "metadata": {},
     "output_type": "execute_result"
    }
   ],
   "source": [
    "quakes[\"Cinturon_Fuego\"].sum()"
   ]
  },
  {
   "cell_type": "code",
   "execution_count": 59,
   "metadata": {},
   "outputs": [
    {
     "data": {
      "text/plain": [
       "7161"
      ]
     },
     "execution_count": 59,
     "metadata": {},
     "output_type": "execute_result"
    }
   ],
   "source": [
    "sum(quakes[\"Cinturon_Fuego\"])"
   ]
  },
  {
   "cell_type": "code",
   "execution_count": 60,
   "metadata": {},
   "outputs": [
    {
     "data": {
      "text/plain": [
       "Cinturon_Fuego\n",
       "True     7161\n",
       "False    2171\n",
       "Name: count, dtype: int64"
      ]
     },
     "execution_count": 60,
     "metadata": {},
     "output_type": "execute_result"
    }
   ],
   "source": [
    "quakes[\"Cinturon_Fuego\"].value_counts()"
   ]
  },
  {
   "cell_type": "code",
   "execution_count": 63,
   "metadata": {},
   "outputs": [
    {
     "data": {
      "text/plain": [
       "7161"
      ]
     },
     "execution_count": 63,
     "metadata": {},
     "output_type": "execute_result"
    }
   ],
   "source": [
    "len(quakes[quakes[\"Cinturon_Fuego\"]])"
   ]
  },
  {
   "cell_type": "code",
   "execution_count": 64,
   "metadata": {},
   "outputs": [
    {
     "data": {
      "text/plain": [
       "7161"
      ]
     },
     "execution_count": 64,
     "metadata": {},
     "output_type": "execute_result"
    }
   ],
   "source": [
    "len(quakes[quakes[\"Cinturon_Fuego\"]]==True)"
   ]
  },
  {
   "cell_type": "code",
   "execution_count": 62,
   "metadata": {},
   "outputs": [
    {
     "data": {
      "text/plain": [
       "0.7673596228032576"
      ]
     },
     "execution_count": 62,
     "metadata": {},
     "output_type": "execute_result"
    }
   ],
   "source": [
    "quakes[\"Cinturon_Fuego\"].mean()"
   ]
  },
  {
   "cell_type": "markdown",
   "metadata": {},
   "source": [
    "6. Calcula el número de tsunamis a lo largo del Cinturón de Fuego."
   ]
  },
  {
   "cell_type": "code",
   "execution_count": 68,
   "metadata": {},
   "outputs": [
    {
     "data": {
      "text/plain": [
       "44"
      ]
     },
     "execution_count": 68,
     "metadata": {},
     "output_type": "execute_result"
    }
   ],
   "source": [
    "quakes[quakes[\"tsunami\"]==1][\"Cinturon_Fuego\"].sum()"
   ]
  },
  {
   "cell_type": "code",
   "execution_count": 69,
   "metadata": {},
   "outputs": [
    {
     "data": {
      "text/plain": [
       "44"
      ]
     },
     "execution_count": 69,
     "metadata": {},
     "output_type": "execute_result"
    }
   ],
   "source": [
    "quakes[quakes[\"tsunami\"]==True][\"Cinturon_Fuego\"].sum()"
   ]
  },
  {
   "cell_type": "code",
   "execution_count": 71,
   "metadata": {},
   "outputs": [
    {
     "data": {
      "text/plain": [
       "44"
      ]
     },
     "execution_count": 71,
     "metadata": {},
     "output_type": "execute_result"
    }
   ],
   "source": [
    "quakes[quakes[\"Cinturon_Fuego\"]][\"tsunami\"].sum()"
   ]
  },
  {
   "cell_type": "code",
   "execution_count": 72,
   "metadata": {},
   "outputs": [
    {
     "data": {
      "text/plain": [
       "44"
      ]
     },
     "execution_count": 72,
     "metadata": {},
     "output_type": "execute_result"
    }
   ],
   "source": [
    "(quakes[\"Cinturon_Fuego\"]*quakes[\"tsunami\"]).sum()"
   ]
  },
  {
   "cell_type": "markdown",
   "metadata": {},
   "source": [
    "7. Guardar en un JSON todos los terremotos de Japón con su magnitud y su tipo de magnitud"
   ]
  },
  {
   "cell_type": "code",
   "execution_count": 84,
   "metadata": {},
   "outputs": [
    {
     "data": {
      "text/html": [
       "<div>\n",
       "<style scoped>\n",
       "    .dataframe tbody tr th:only-of-type {\n",
       "        vertical-align: middle;\n",
       "    }\n",
       "\n",
       "    .dataframe tbody tr th {\n",
       "        vertical-align: top;\n",
       "    }\n",
       "\n",
       "    .dataframe thead th {\n",
       "        text-align: right;\n",
       "    }\n",
       "</style>\n",
       "<table border=\"1\" class=\"dataframe\">\n",
       "  <thead>\n",
       "    <tr style=\"text-align: right;\">\n",
       "      <th></th>\n",
       "      <th>parsed_place</th>\n",
       "      <th>mag</th>\n",
       "      <th>magType</th>\n",
       "    </tr>\n",
       "  </thead>\n",
       "  <tbody>\n",
       "    <tr>\n",
       "      <th>67</th>\n",
       "      <td>Japan</td>\n",
       "      <td>4.6</td>\n",
       "      <td>mb</td>\n",
       "    </tr>\n",
       "    <tr>\n",
       "      <th>476</th>\n",
       "      <td>Japan</td>\n",
       "      <td>5.2</td>\n",
       "      <td>mww</td>\n",
       "    </tr>\n",
       "    <tr>\n",
       "      <th>536</th>\n",
       "      <td>Japan</td>\n",
       "      <td>4.5</td>\n",
       "      <td>mwr</td>\n",
       "    </tr>\n",
       "    <tr>\n",
       "      <th>713</th>\n",
       "      <td>Japan</td>\n",
       "      <td>4.7</td>\n",
       "      <td>mb</td>\n",
       "    </tr>\n",
       "    <tr>\n",
       "      <th>1124</th>\n",
       "      <td>Japan</td>\n",
       "      <td>4.6</td>\n",
       "      <td>mb</td>\n",
       "    </tr>\n",
       "  </tbody>\n",
       "</table>\n",
       "</div>"
      ],
      "text/plain": [
       "     parsed_place  mag magType\n",
       "67          Japan  4.6      mb\n",
       "476         Japan  5.2     mww\n",
       "536         Japan  4.5     mwr\n",
       "713         Japan  4.7      mb\n",
       "1124        Japan  4.6      mb"
      ]
     },
     "execution_count": 84,
     "metadata": {},
     "output_type": "execute_result"
    }
   ],
   "source": [
    "quakes[quakes[\"parsed_place\"]==\"Japan\"][[\"parsed_place\", \"mag\", \"magType\"]].head()"
   ]
  },
  {
   "cell_type": "code",
   "execution_count": 87,
   "metadata": {},
   "outputs": [],
   "source": [
    "quakes1 = quakes.loc[quakes[\"parsed_place\"]==\"Japan\",[\"parsed_place\", \"mag\", \"magType\"]]"
   ]
  },
  {
   "cell_type": "code",
   "execution_count": 91,
   "metadata": {},
   "outputs": [],
   "source": [
    "quakes2 = quakes[quakes[\"parsed_place\"]==\"Japan\"].loc[:,[\"parsed_place\", \"mag\", \"magType\"]]"
   ]
  },
  {
   "cell_type": "code",
   "execution_count": 95,
   "metadata": {},
   "outputs": [
    {
     "data": {
      "text/html": [
       "<div>\n",
       "<style scoped>\n",
       "    .dataframe tbody tr th:only-of-type {\n",
       "        vertical-align: middle;\n",
       "    }\n",
       "\n",
       "    .dataframe tbody tr th {\n",
       "        vertical-align: top;\n",
       "    }\n",
       "\n",
       "    .dataframe thead th {\n",
       "        text-align: right;\n",
       "    }\n",
       "</style>\n",
       "<table border=\"1\" class=\"dataframe\">\n",
       "  <thead>\n",
       "    <tr style=\"text-align: right;\">\n",
       "      <th></th>\n",
       "      <th>parsed_place</th>\n",
       "      <th>mag</th>\n",
       "      <th>magType</th>\n",
       "    </tr>\n",
       "  </thead>\n",
       "  <tbody>\n",
       "    <tr>\n",
       "      <th>67</th>\n",
       "      <td>Japan</td>\n",
       "      <td>4.6</td>\n",
       "      <td>mb</td>\n",
       "    </tr>\n",
       "    <tr>\n",
       "      <th>476</th>\n",
       "      <td>Japan</td>\n",
       "      <td>5.2</td>\n",
       "      <td>mww</td>\n",
       "    </tr>\n",
       "    <tr>\n",
       "      <th>536</th>\n",
       "      <td>Japan</td>\n",
       "      <td>4.5</td>\n",
       "      <td>mwr</td>\n",
       "    </tr>\n",
       "    <tr>\n",
       "      <th>713</th>\n",
       "      <td>Japan</td>\n",
       "      <td>4.7</td>\n",
       "      <td>mb</td>\n",
       "    </tr>\n",
       "    <tr>\n",
       "      <th>1124</th>\n",
       "      <td>Japan</td>\n",
       "      <td>4.6</td>\n",
       "      <td>mb</td>\n",
       "    </tr>\n",
       "  </tbody>\n",
       "</table>\n",
       "</div>"
      ],
      "text/plain": [
       "     parsed_place  mag magType\n",
       "67          Japan  4.6      mb\n",
       "476         Japan  5.2     mww\n",
       "536         Japan  4.5     mwr\n",
       "713         Japan  4.7      mb\n",
       "1124        Japan  4.6      mb"
      ]
     },
     "execution_count": 95,
     "metadata": {},
     "output_type": "execute_result"
    }
   ],
   "source": [
    "quakes1.head()"
   ]
  },
  {
   "cell_type": "code",
   "execution_count": 92,
   "metadata": {},
   "outputs": [
    {
     "data": {
      "text/plain": [
       "True"
      ]
     },
     "execution_count": 92,
     "metadata": {},
     "output_type": "execute_result"
    }
   ],
   "source": [
    "quakes1.equals(quakes2)"
   ]
  },
  {
   "cell_type": "code",
   "execution_count": 105,
   "metadata": {},
   "outputs": [],
   "source": [
    "import json\n",
    "file = open(\"jason1.json\", \"w\")\n",
    "json.dump(quakes1.to_dict(),file)\n",
    "file.close()\n"
   ]
  },
  {
   "cell_type": "code",
   "execution_count": 106,
   "metadata": {},
   "outputs": [],
   "source": [
    "file = open(\"jason2.json\", \"w\")\n",
    "json.dump(quakes1.to_json(),file)\n",
    "file.close()"
   ]
  },
  {
   "cell_type": "code",
   "execution_count": 107,
   "metadata": {},
   "outputs": [
    {
     "name": "stdout",
     "output_type": "stream",
     "text": [
      "{\"parsed_place\":{\"67\":\"Japan\",\"476\":\"Japan\",\"536\":\"Japan\",\"713\":\"Japan\",\"1124\":\"Japan\",\"1309\":\"Japan\",\"1398\":\"Japan\",\"1422\":\"Japan\",\"1435\":\"Japan\",\"1492\":\"Japan\",\"1563\":\"Japan\",\"1732\":\"Japan\",\"1875\":\"Japan\",\"1898\":\"Japan\",\"2053\":\"Japan\",\"2191\":\"Japan\",\"2564\":\"Japan\",\"2576\":\"Japan\",\"2591\":\"Japan\",\"2688\":\"Japan\",\"2824\":\"Japan\",\"3072\":\"Japan\",\"3632\":\"Japan\",\"3771\":\"Japan\",\"3851\":\"Japan\",\"4082\":\"Japan\",\"4192\":\"Japan\",\"4257\":\"Japan\",\"4409\":\"Japan\",\"4846\":\"Japan\",\"5655\":\"Japan\",\"5915\":\"Japan\",\"6769\":\"Japan\",\"6961\":\"Japan\",\"7001\":\"Japan\",\"7066\":\"Japan\",\"7145\":\"Japan\",\"7261\":\"Japan\",\"7381\":\"Japan\",\"7408\":\"Japan\",\"7652\":\"Japan\",\"7696\":\"Japan\",\"7807\":\"Japan\",\"7832\":\"Japan\",\"8071\":\"Japan\",\"8311\":\"Japan\",\"8324\":\"Japan\",\"8327\":\"Japan\",\"8376\":\"Japan\",\"8431\":\"Japan\",\"8550\":\"Japan\",\"8555\":\"Japan\",\"8687\":\"Japan\",\"8965\":\"Japan\",\"9070\":\"Japan\",\"9083\":\"Japan\",\"9198\":\"Japan\"},\"mag\":{\"67\":4.6,\"476\":5.2,\"536\":4.5,\"713\":4.7,\"1124\":4.6,\"1309\":4.5,\"1398\":4.4,\"1422\":4.7,\"1435\":4.4,\"1492\":4.6,\"1563\":4.9,\"1732\":4.1,\"1875\":4.7,\"1898\":4.8,\"2053\":4.8,\"2191\":4.6,\"2564\":4.6,\"2576\":5.4,\"2591\":5.0,\"2688\":4.0,\"2824\":4.4,\"3072\":4.9,\"3632\":4.9,\"3771\":4.5,\"3851\":4.7,\"4082\":4.8,\"4192\":4.3,\"4257\":4.6,\"4409\":5.0,\"4846\":4.5,\"5655\":4.6,\"5915\":4.4,\"6769\":4.8,\"6961\":4.7,\"7001\":4.3,\"7066\":4.4,\"7145\":4.1,\"7261\":4.1,\"7381\":4.6,\"7408\":4.8,\"7652\":4.2,\"7696\":4.0,\"7807\":4.4,\"7832\":5.3,\"8071\":4.4,\"8311\":4.4,\"8324\":4.6,\"8327\":4.2,\"8376\":4.4,\"8431\":4.6,\"8550\":4.4,\"8555\":4.6,\"8687\":4.2,\"8965\":3.9,\"9070\":4.7,\"9083\":5.1,\"9198\":4.6},\"magType\":{\"67\":\"mb\",\"476\":\"mww\",\"536\":\"mwr\",\"713\":\"mb\",\"1124\":\"mb\",\"1309\":\"mb\",\"1398\":\"mb\",\"1422\":\"mb\",\"1435\":\"mb\",\"1492\":\"mb\",\"1563\":\"mb\",\"1732\":\"mb\",\"1875\":\"mb\",\"1898\":\"mb\",\"2053\":\"mb\",\"2191\":\"mb\",\"2564\":\"mb\",\"2576\":\"mb\",\"2591\":\"mww\",\"2688\":\"mb\",\"2824\":\"mb\",\"3072\":\"mb\",\"3632\":\"mb\",\"3771\":\"mb\",\"3851\":\"mb\",\"4082\":\"mb\",\"4192\":\"mb\",\"4257\":\"mb\",\"4409\":\"mww\",\"4846\":\"mb\",\"5655\":\"mb\",\"5915\":\"mb\",\"6769\":\"mb\",\"6961\":\"mb\",\"7001\":\"mb\",\"7066\":\"mb\",\"7145\":\"mb\",\"7261\":\"mb\",\"7381\":\"mb\",\"7408\":\"mb\",\"7652\":\"mb\",\"7696\":\"mb\",\"7807\":\"mb\",\"7832\":\"mww\",\"8071\":\"mb\",\"8311\":\"mb\",\"8324\":\"mb\",\"8327\":\"mb\",\"8376\":\"mb\",\"8431\":\"mb\",\"8550\":\"mb\",\"8555\":\"mb\",\"8687\":\"mb\",\"8965\":\"mwr\",\"9070\":\"mb\",\"9083\":\"mww\",\"9198\":\"mb\"}}\n"
     ]
    }
   ],
   "source": [
    "print(quakes1.to_json())"
   ]
  },
  {
   "cell_type": "code",
   "execution_count": 111,
   "metadata": {},
   "outputs": [],
   "source": [
    "varJson = {\"a\": [\"texto\", 2, 3.4], \"b\": \"soloTexto\"}"
   ]
  },
  {
   "cell_type": "code",
   "execution_count": 112,
   "metadata": {},
   "outputs": [
    {
     "data": {
      "text/plain": [
       "{'a': ['texto', 2, 3.4], 'b': 'soloTexto'}"
      ]
     },
     "execution_count": 112,
     "metadata": {},
     "output_type": "execute_result"
    }
   ],
   "source": [
    "varJson"
   ]
  },
  {
   "cell_type": "code",
   "execution_count": 113,
   "metadata": {},
   "outputs": [],
   "source": [
    "file = open(\"jason3.json\", \"w\")\n",
    "json.dump(varJson,file)\n",
    "file.close()"
   ]
  },
  {
   "cell_type": "code",
   "execution_count": 115,
   "metadata": {},
   "outputs": [],
   "source": [
    "file = open(\"jason3.json\", \"r\")\n",
    "varJason2 = json.load(file)\n",
    "file.close()"
   ]
  },
  {
   "cell_type": "code",
   "execution_count": 117,
   "metadata": {},
   "outputs": [],
   "source": [
    "file = open(\"myfile.json\", \"r\")\n",
    "data = json.load(file)\n",
    "file.close()"
   ]
  },
  {
   "cell_type": "code",
   "execution_count": 126,
   "metadata": {},
   "outputs": [
    {
     "data": {
      "text/plain": [
       "<matplotlib.image.AxesImage at 0x21a545142f0>"
      ]
     },
     "execution_count": 126,
     "metadata": {},
     "output_type": "execute_result"
    },
    {
     "data": {
      "image/png": "[encoded data removed]",
      "text/plain": [
       "<Figure size 640x480 with 1 Axes>"
      ]
     },
     "metadata": {},
     "output_type": "display_data"
    }
   ],
   "source": [
    "import matplotlib.pyplot as plt\n",
    "plt.imshow(data[\"ditto\"])\n"
   ]
  }
 ],
 "metadata": {
  "kernelspec": {
   "display_name": "Python 3",
   "language": "python",
   "name": "python3"
  },
  "language_info": {
   "codemirror_mode": {
    "name": "ipython",
    "version": 3
   },
   "file_extension": ".py",
   "mimetype": "text/x-python",
   "name": "python",
   "nbconvert_exporter": "python",
   "pygments_lexer": "ipython3",
   "version": "3.12.1"
  }
 },
 "nbformat": 4,
 "nbformat_minor": 2
}
