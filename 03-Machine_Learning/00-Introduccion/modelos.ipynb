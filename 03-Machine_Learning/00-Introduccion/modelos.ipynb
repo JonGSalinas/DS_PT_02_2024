{
 "cells": [
  {
   "cell_type": "markdown",
   "metadata": {},
   "source": [
    "Machine Learning es la ciencia (y el arte) de programar computadores para que aprendan de los datos -- Aurélien Géron en Hands-ON Machine Learning with Scikit-Learn, Keras & TensorFlow\n"
   ]
  },
  {
   "cell_type": "markdown",
   "metadata": {},
   "source": [
    "Podemos decir que un programa de computador aprende de los datos si a medida que introducimos nuevos datos realiza una determinada tarea cada vez mejor, según una determinada medida de rendimiento -- Tom Michell, 1997. Traducción aproximada"
   ]
  },
  {
   "cell_type": "markdown",
   "metadata": {},
   "source": [
    "Necesitamos tres elementos:\n",
    "\n",
    "1. Tarea a realizar por nuestro programa\n",
    "2. Datos \n",
    "3. Medida de rendimiento (o error)\n",
    "\n",
    "Resultado: Mejora del rendimiento (3) al realizar la tarea (1) cuando introducimos nuevos datos (2) "
   ]
  },
  {
   "cell_type": "markdown",
   "metadata": {},
   "source": [
    "Todos los modelos son erróneos, pero algunos son útiles -- George Edward Pelham Box"
   ]
  },
  {
   "cell_type": "code",
   "execution_count": 92,
   "metadata": {},
   "outputs": [],
   "source": [
    "dt_small = pd.DataFrame([279, 280, 277, 279, 282, 277, 283, 279, 280, 270, 281, 278, 272, 276, 288, 268, 266, 278, 278, 279, 277])\n",
    "dt_small.columns = [\"dur_embarazo\"]"
   ]
  },
  {
   "cell_type": "markdown",
   "metadata": {},
   "source": [
    "### Task: acertar la duración del embarazo\n",
    "## Error/Rendimiento\n",
    "* Sumar: 1 si no es exactamente el mismo día, 0 si es el mismo día\n",
    "* Sumar: diferencia absoluta entre lo predicho y lo real\n",
    "* Sumar: diferencia al cuadrado entre lo predicho y lo real\n",
    "* Sumar y hacer raíz cuadrada: diferencia al cuadrado entre lo predicho y lo real\n",
    "## Modelo\n",
    "* Siempre es 276/277/279\n",
    "* Moda/Media/Mediana"
   ]
  },
  {
   "cell_type": "code",
   "execution_count": null,
   "metadata": {},
   "outputs": [],
   "source": []
  },
  {
   "cell_type": "markdown",
   "metadata": {},
   "source": [
    " ### Task: minimizar que la madre no esté preparada"
   ]
  },
  {
   "cell_type": "code",
   "execution_count": 97,
   "metadata": {},
   "outputs": [
    {
     "data": {
      "text/html": [
       "<div>\n",
       "<style scoped>\n",
       "    .dataframe tbody tr th:only-of-type {\n",
       "        vertical-align: middle;\n",
       "    }\n",
       "\n",
       "    .dataframe tbody tr th {\n",
       "        vertical-align: top;\n",
       "    }\n",
       "\n",
       "    .dataframe thead th {\n",
       "        text-align: right;\n",
       "    }\n",
       "</style>\n",
       "<table border=\"1\" class=\"dataframe\">\n",
       "  <thead>\n",
       "    <tr style=\"text-align: right;\">\n",
       "      <th></th>\n",
       "      <th>dur_embarazo</th>\n",
       "    </tr>\n",
       "  </thead>\n",
       "  <tbody>\n",
       "    <tr>\n",
       "      <th>0</th>\n",
       "      <td>279</td>\n",
       "    </tr>\n",
       "  </tbody>\n",
       "</table>\n",
       "</div>"
      ],
      "text/plain": [
       "   dur_embarazo\n",
       "0           279"
      ]
     },
     "execution_count": 97,
     "metadata": {},
     "output_type": "execute_result"
    }
   ],
   "source": []
  },
  {
   "cell_type": "markdown",
   "metadata": {},
   "source": [
    "### ¿Qué es mejorar el rendimiento al introducir más datos?"
   ]
  },
  {
   "cell_type": "code",
   "execution_count": null,
   "metadata": {},
   "outputs": [],
   "source": [
    "import pandas as pd\n",
    "dt_emb = pd.read_csv(\"dur_emb.csv\")"
   ]
  }
 ],
 "metadata": {
  "kernelspec": {
   "display_name": "Python 3",
   "language": "python",
   "name": "python3"
  },
  "language_info": {
   "codemirror_mode": {
    "name": "ipython",
    "version": 3
   },
   "file_extension": ".py",
   "mimetype": "text/x-python",
   "name": "python",
   "nbconvert_exporter": "python",
   "pygments_lexer": "ipython3",
   "version": "3.12.1"
  }
 },
 "nbformat": 4,
 "nbformat_minor": 2
}
