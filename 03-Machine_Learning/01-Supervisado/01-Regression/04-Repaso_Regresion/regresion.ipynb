{
 "cells": [
  {
   "cell_type": "code",
   "execution_count": 19,
   "metadata": {},
   "outputs": [],
   "source": [
    "import zipfile\n",
    "import pandas as pd\n",
    "from sklearn.linear_model import LinearRegression, Lasso, ElasticNet, Ridge\n",
    "import numpy as np\n",
    "from sklearn import linear_model, metrics, model_selection\n",
    "import matplotlib.pyplot as plt\n",
    "import seaborn as sns\n",
    "from sklearn.model_selection import train_test_split\n",
    "\n"
   ]
  },
  {
   "cell_type": "code",
   "execution_count": 20,
   "metadata": {},
   "outputs": [],
   "source": [
    "zip = zipfile.ZipFile(\"data/houses.zip\")\n",
    "zip.extractall(\"data\")\n",
    "zip.close()"
   ]
  },
  {
   "cell_type": "code",
   "execution_count": 21,
   "metadata": {},
   "outputs": [],
   "source": [
    "houses = pd.read_csv(\"data/houses.csv\")"
   ]
  },
  {
   "cell_type": "code",
   "execution_count": 17,
   "metadata": {},
   "outputs": [],
   "source": [
    "# Esta vez, nuestro modelo serán el 80% de los datos y el test el 20% de los datos\n",
    "X_train, X_test, y_train, y_test = train_test_split(X, y, test_size = , random_state = )"
   ]
  },
  {
   "cell_type": "code",
   "execution_count": null,
   "metadata": {},
   "outputs": [],
   "source": [
    "from sklearn.model_selection import StratifiedShuffleSplit\n",
    "split = StratifiedShuffleSplit(n_splits=1, test_size=, random_state=)\n",
    "for train_index, test_index in split.split():\n",
    "    X_train = .iloc[train_index]\n",
    "    X_test = .iloc[test_index]"
   ]
  },
  {
   "cell_type": "code",
   "execution_count": null,
   "metadata": {},
   "outputs": [],
   "source": [
    "# Crea una nueva regresión lineal (no uses el mismo nombre que la anterior!!!) usando X_train e y_train\n",
    "# Realiza la regresión lineal\n",
    "\n",
    "# Creación del modelo utilizando matrices como en scikitlearn\n",
    "# ==============================================================================\n",
    "# A la matriz de predictores se le tiene que añadir una columna de 1s para el intercept del modelo\n",
    "\n",
    "# La convenciones determinan que las features se llamen X \n",
    "# Además, tendremos habitualmente un conjunto de train y otro de test (con un split del 80/20, habitualmente)\n",
    "# Por lo tanto, X_train contiene las features del train\n",
    "# Este caso es tan sencillo y con pocos datos que no tenemos X_test, pero aparecerá\n",
    "#X_train = USA_Housing[[\"Avg. Area Income\",\t\"Avg. Area House Age\",\t\"Avg. Area Number of Rooms\", \t\"Avg. Area Number of Bedrooms\",\t\"Area Population\"]]\n",
    "\n",
    "# Añadimos una columna de 1 porque necesitamos una constante que determine el intercept o B0, el punto donde corta la recta con el eje Y\n",
    "# Por eso añadimos una columna constante de 0s\n",
    "# Veremos que estoy aparece en muchos otros modelos (en redes neuronales se llama bias)\n",
    "X_train = sm.add_constant(X_train, prepend=True)\n",
    "# OLS: creamos el modelo del tipo Ordinary Least Squares (por alguna razón creo que una vez dije Optimal pero es Ordinary)\n",
    "modelo_ = sm.OLS(endog=y_train, exog=X_train)\n",
    "# Ajustamos el modelo, es decir, hacemos el calculo de la mejor recta posible según los criterios del OLS\n",
    "modelo_ = modelo_.fit()\n",
    "print(modelo_.summary())"
   ]
  },
  {
   "cell_type": "code",
   "execution_count": null,
   "metadata": {},
   "outputs": [],
   "source": [
    "model = LinearRegression()\n",
    "model.fit(X, y)"
   ]
  },
  {
   "cell_type": "code",
   "execution_count": null,
   "metadata": {},
   "outputs": [],
   "source": [
    "model_r = Ridge()\n",
    "model_r.fit(X, y)"
   ]
  },
  {
   "cell_type": "code",
   "execution_count": null,
   "metadata": {},
   "outputs": [],
   "source": [
    "model_l = Lasso()\n",
    "model.l.fit(X, y)"
   ]
  },
  {
   "cell_type": "code",
   "execution_count": null,
   "metadata": {},
   "outputs": [],
   "source": [
    "model_e = ElasticNet(alpha=0.1, l1_ratio=1)\n",
    "model_e.fit(X, y)"
   ]
  }
 ],
 "metadata": {
  "kernelspec": {
   "display_name": "Python 3",
   "language": "python",
   "name": "python3"
  },
  "language_info": {
   "codemirror_mode": {
    "name": "ipython",
    "version": 3
   },
   "file_extension": ".py",
   "mimetype": "text/x-python",
   "name": "python",
   "nbconvert_exporter": "python",
   "pygments_lexer": "ipython3",
   "version": "3.12.1"
  }
 },
 "nbformat": 4,
 "nbformat_minor": 2
}
