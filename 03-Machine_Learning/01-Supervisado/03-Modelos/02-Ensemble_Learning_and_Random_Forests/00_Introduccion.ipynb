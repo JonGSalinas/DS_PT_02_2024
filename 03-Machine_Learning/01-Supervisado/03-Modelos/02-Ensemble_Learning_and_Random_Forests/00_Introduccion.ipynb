{
 "cells": [
  {
   "cell_type": "markdown",
   "metadata": {},
   "source": [
    "# Introducción al ensamblado de modelos"
   ]
  },
  {
   "cell_type": "code",
   "execution_count": null,
   "metadata": {},
   "outputs": [],
   "source": [
    "# vamos a repasar Programación Orientada a Objetos\n",
    "# Crear la clase Modelo que se inicializa con se inicializa con un atributo\n",
    "# Tiene la función es_leche que recibe un parámetro\n",
    "# Devuelve True si ese parámetro coincide con el atributo inicial\n",
    "# Devuelve False en caso contrario\n",
    "# Ejemplo:\n",
    "# modelo = Modelo(\"lactosa\")\n",
    "# modelo.es_leche(\"lactosa\") <-- True\n",
    "# modelo.es_leche(\"fructosa\") <-- False\n",
    "#class Modelo"
   ]
  },
  {
   "cell_type": "code",
   "execution_count": null,
   "metadata": {},
   "outputs": [],
   "source": [
    "# Todo lo que es blanco, es leche\n",
    "modelo_1 = Modelo(\"blanco\")\n",
    "# Todo lo que es líquido, es leche\n",
    "modelo_2 = Modelo(\"líquido\")\n",
    "# Todo lo que es de origen animal, es leche\n",
    "modelo_3 = Modelo(\"animal\")"
   ]
  },
  {
   "cell_type": "code",
   "execution_count": null,
   "metadata": {},
   "outputs": [],
   "source": [
    "# predecir para zumo de naranja, azúcar, chorizo y leche\n",
    "# Lista de atributos: \n",
    "# 0: color\n",
    "# 1: estado\n",
    "# 2: origen\n",
    "zumo_naranja = [\"naranja\", \"líquido\", \"vegetal\"]\n",
    "azucar = [\"blanco\", \"sólido\", \"vegetal\"]\n",
    "chorizo = [\"rojo\", \"solido\", \"animal\"]\n",
    "leche = [\"blanco\", \"líquido\", \"animal\"]\n"
   ]
  },
  {
   "cell_type": "code",
   "execution_count": null,
   "metadata": {},
   "outputs": [],
   "source": [
    "# Calcular accuracy y matriz de confusión\n",
    "print(modelo_1.es_leche(zumo_naranja[0]))\n",
    "print(modelo_1.es_leche(azucar[0]))\n",
    "print(modelo_1.es_leche(chorizo[0]))\n",
    "print(modelo_1.es_leche(leche[0]))"
   ]
  },
  {
   "cell_type": "code",
   "execution_count": null,
   "metadata": {},
   "outputs": [],
   "source": [
    "# Similar para modelo_2\n",
    "# Calcular accuracy y matriz de confusión"
   ]
  },
  {
   "cell_type": "code",
   "execution_count": null,
   "metadata": {},
   "outputs": [],
   "source": [
    "# Similar para modelo_3\n",
    "# Calcular accuracy y matriz de confusión"
   ]
  },
  {
   "cell_type": "markdown",
   "metadata": {},
   "source": [
    "Los tres modelos son bastante malos... por separado.\n",
    "\n",
    "¿Qué sucedería si damos un voto a cada modelo y solo si el objeto (zumo, azucar, chorizo, leche) obtiene la mayoría de votos decimos que pertenece a la categoría leche?"
   ]
  },
  {
   "cell_type": "code",
   "execution_count": null,
   "metadata": {},
   "outputs": [],
   "source": [
    "# Repetir para azucar, chorizo y leche\n",
    "votos_zumo = modelo_1.es_leche(zumo_naranja[0]) + modelo_2.es_leche(zumo_naranja[1]) + modelo_3.es_leche(zumo_naranja[2])"
   ]
  },
  {
   "cell_type": "markdown",
   "metadata": {},
   "source": [
    "# Ahora con Árboles de Decisión"
   ]
  },
  {
   "cell_type": "code",
   "execution_count": null,
   "metadata": {},
   "outputs": [],
   "source": [
    "import pandas as pd\n",
    "data = pd.read_csv(\"data/train.csv\")"
   ]
  },
  {
   "cell_type": "code",
   "execution_count": null,
   "metadata": {},
   "outputs": [],
   "source": [
    "# Info y describe dataset"
   ]
  },
  {
   "cell_type": "code",
   "execution_count": null,
   "metadata": {},
   "outputs": [],
   "source": [
    "# Transformaciones necesarias"
   ]
  },
  {
   "cell_type": "code",
   "execution_count": null,
   "metadata": {},
   "outputs": [],
   "source": [
    "X = \n",
    "y = \n",
    "\n"
   ]
  },
  {
   "cell_type": "code",
   "execution_count": null,
   "metadata": {},
   "outputs": [],
   "source": [
    "# Hacer una función con todo y probar diversos arboles StratifiedShuffleSplit\n",
    "from sklearn.model_selection import StratifiedShuffleSplit\n",
    "\n",
    "split = StratifiedShuffleSplit(n_splits=1, test_size=0.2, random_state=1453)"
   ]
  },
  {
   "cell_type": "code",
   "execution_count": null,
   "metadata": {},
   "outputs": [],
   "source": [
    "# Creamos y entrenamos el modelo\n",
    "from sklearn.tree import DecisionTreeClassifier\n",
    "tree_1 = DecisionTreeClassifier(max_depth=3, min_samples_leaf=18, random_state=42, splitter=\"random\")\n",
    "tree_1.fit(strat_train_set, strat_train_y_set)\n",
    "\n",
    "tree_2 = DecisionTreeClassifier(max_depth=4, min_samples_leaf=15, random_state=9, splitter=\"random\")\n",
    "tree_2.fit(strat_train_set, strat_train_y_set)\n",
    "\n",
    "tree_3 = DecisionTreeClassifier(max_depth=7, min_samples_leaf=10, random_state=77, splitter=\"random\")\n",
    "tree_3.fit(strat_train_set, strat_train_y_set)\n",
    "\n",
    "tree_3 = DecisionTreeClassifier(max_depth=12, min_samples_leaf=23, random_state=12, splitter=\"random\")\n",
    "tree_3.fit(strat_train_set, strat_train_y_set)\n",
    "\n",
    "tree_4 = DecisionTreeClassifier(max_depth=9, min_samples_leaf=11, random_state=7, splitter=\"random\")\n",
    "tree_4.fit(strat_train_set, strat_train_y_set)\n",
    "\n",
    "tree_5 = DecisionTreeClassifier(max_depth=4, min_samples_leaf=10, random_state=0, splitter=\"random\")\n",
    "tree_5.fit(strat_train_set, strat_train_y_set)\n",
    "\n",
    "tree_6 = DecisionTreeClassifier(max_depth=5, min_samples_leaf=20, random_state=9, splitter=\"random\")\n",
    "tree_6.fit(strat_train_set, strat_train_y_set)\n",
    "\n",
    "tree_7 = DecisionTreeClassifier(max_depth=9, min_samples_leaf=20, random_state=770, splitter=\"random\")\n",
    "tree_7.fit(strat_train_set, strat_train_y_set)\n",
    "\n",
    "tree_8 = DecisionTreeClassifier(max_depth=6, min_samples_leaf=15, random_state=27, splitter=\"random\")\n",
    "tree_8.fit(strat_train_set, strat_train_y_set)\n",
    "\n",
    "tree_9 = DecisionTreeClassifier(max_depth=5, min_samples_leaf=13, random_state=177, splitter=\"random\")\n",
    "tree_9.fit(strat_train_set, strat_train_y_set)\n",
    "\n",
    "tree_10 = DecisionTreeClassifier(max_depth=2, min_samples_leaf=24, random_state=377, splitter=\"random\")\n",
    "tree_10.fit(strat_train_set, strat_train_y_set)\n",
    "\n",
    "tree_11 = DecisionTreeClassifier(max_depth=6, min_samples_leaf=30, random_state=99, splitter=\"random\")\n",
    "tree_11.fit(strat_train_set, strat_train_y_set)\n",
    "\n",
    "tree_12 = DecisionTreeClassifier(max_depth=4, min_samples_leaf=20, random_state=42, splitter=\"random\")\n",
    "tree_12.fit(strat_train_set, strat_train_y_set)\n",
    "\n",
    "tree_13 = DecisionTreeClassifier(max_depth=9, min_samples_leaf=9, random_state=99, splitter=\"random\")\n",
    "tree_13.fit(strat_train_set, strat_train_y_set)"
   ]
  },
  {
   "cell_type": "code",
   "execution_count": null,
   "metadata": {},
   "outputs": [],
   "source": [
    "from sklearn.metrics import accuracy_score\n",
    "accuracy_score(strat_test_y_set, tree_1.predict(strat_test_set))"
   ]
  },
  {
   "cell_type": "code",
   "execution_count": null,
   "metadata": {},
   "outputs": [],
   "source": [
    "accuracy_score(strat_test_y_set, tree_2.predict(strat_test_set))"
   ]
  },
  {
   "cell_type": "code",
   "execution_count": null,
   "metadata": {},
   "outputs": [],
   "source": [
    "accuracy_score(strat_test_y_set, tree_3.predict(strat_test_set))"
   ]
  },
  {
   "cell_type": "code",
   "execution_count": null,
   "metadata": {},
   "outputs": [],
   "source": [
    "accuracy_score(strat_test_y_set, tree_4.predict(strat_test_set))"
   ]
  },
  {
   "cell_type": "code",
   "execution_count": null,
   "metadata": {},
   "outputs": [],
   "source": [
    "accuracy_score(strat_test_y_set, tree_5.predict(strat_test_set))"
   ]
  },
  {
   "cell_type": "code",
   "execution_count": null,
   "metadata": {},
   "outputs": [],
   "source": [
    "accuracy_score(strat_test_y_set, tree_6.predict(strat_test_set))"
   ]
  },
  {
   "cell_type": "code",
   "execution_count": null,
   "metadata": {},
   "outputs": [],
   "source": [
    "accuracy_score(strat_test_y_set, tree_7.predict(strat_test_set))"
   ]
  },
  {
   "cell_type": "code",
   "execution_count": null,
   "metadata": {},
   "outputs": [],
   "source": [
    "accuracy_score(strat_test_y_set, tree_8.predict(strat_test_set))"
   ]
  },
  {
   "cell_type": "code",
   "execution_count": null,
   "metadata": {},
   "outputs": [],
   "source": [
    "accuracy_score(strat_test_y_set, tree_9.predict(strat_test_set))"
   ]
  },
  {
   "cell_type": "code",
   "execution_count": null,
   "metadata": {},
   "outputs": [],
   "source": [
    "accuracy_score(strat_test_y_set, tree_10.predict(strat_test_set))"
   ]
  },
  {
   "cell_type": "code",
   "execution_count": null,
   "metadata": {},
   "outputs": [],
   "source": [
    "accuracy_score(strat_test_y_set, tree_11.predict(strat_test_set))"
   ]
  },
  {
   "cell_type": "code",
   "execution_count": null,
   "metadata": {},
   "outputs": [],
   "source": [
    "accuracy_score(strat_test_y_set, tree_12.predict(strat_test_set))"
   ]
  },
  {
   "cell_type": "code",
   "execution_count": null,
   "metadata": {},
   "outputs": [],
   "source": [
    "accuracy_score(strat_test_y_set, tree_13.predict(strat_test_set))"
   ]
  },
  {
   "cell_type": "code",
   "execution_count": null,
   "metadata": {},
   "outputs": [],
   "source": [
    "votos = pd.DataFrame()\n",
    "votos[\"tree_1\"] = tree_1.predict(strat_test_set)\n",
    "votos[\"tree_2\"] = tree_2.predict(strat_test_set)\n",
    "votos[\"tree_3\"] = tree_3.predict(strat_test_set)\n",
    "votos[\"tree_4\"] = tree_4.predict(strat_test_set)\n",
    "votos[\"tree_5\"] = tree_5.predict(strat_test_set)\n",
    "votos[\"tree_6\"] = tree_6.predict(strat_test_set)\n",
    "votos[\"tree_7\"] = tree_7.predict(strat_test_set)\n",
    "votos[\"tree_8\"] = tree_8.predict(strat_test_set)\n",
    "votos[\"tree_9\"] = tree_9.predict(strat_test_set)\n",
    "votos[\"tree_10\"] = tree_10.predict(strat_test_set)\n",
    "votos[\"tree_11\"] = tree_11.predict(strat_test_set)\n",
    "votos[\"tree_12\"] = tree_12.predict(strat_test_set)\n",
    "votos[\"tree_13\"] = tree_13.predict(strat_test_set)\n",
    "votos[\"real\"] = strat_test_y_set.values"
   ]
  },
  {
   "cell_type": "code",
   "execution_count": null,
   "metadata": {},
   "outputs": [],
   "source": [
    "t  = [f\"tree_{x}\" for x in range(1,14)]"
   ]
  },
  {
   "cell_type": "code",
   "execution_count": null,
   "metadata": {},
   "outputs": [],
   "source": [
    "t"
   ]
  },
  {
   "cell_type": "code",
   "execution_count": null,
   "metadata": {},
   "outputs": [],
   "source": [
    "votos"
   ]
  },
  {
   "cell_type": "code",
   "execution_count": null,
   "metadata": {},
   "outputs": [],
   "source": [
    "votos[\"moda\"] = votos[t].mode(axis=1)[0]"
   ]
  },
  {
   "cell_type": "code",
   "execution_count": null,
   "metadata": {},
   "outputs": [],
   "source": [
    "accuracy_score(strat_test_y_set, votos[\"moda\"])"
   ]
  },
  {
   "cell_type": "markdown",
   "metadata": {},
   "source": [
    "# Comparar con un árbol solitario"
   ]
  },
  {
   "cell_type": "code",
   "execution_count": null,
   "metadata": {},
   "outputs": [],
   "source": [
    "tree = DecisionTreeClassifier( random_state=42)\n",
    "tree.fit(strat_train_set, strat_train_y_set)"
   ]
  },
  {
   "cell_type": "code",
   "execution_count": null,
   "metadata": {},
   "outputs": [],
   "source": [
    "accuracy_score(strat_test_y_set, tree.predict(strat_test_set))"
   ]
  },
  {
   "cell_type": "markdown",
   "metadata": {},
   "source": [
    "# Comparar con el mejor árbol posible"
   ]
  },
  {
   "cell_type": "code",
   "execution_count": null,
   "metadata": {},
   "outputs": [],
   "source": [
    "from sklearn.model_selection import GridSearchCV\n",
    "tree_rd = DecisionTreeClassifier(random_state=42)\n",
    "\n",
    "param_grid = {\n",
    "    'max_depth': range(2,13),\n",
    "    'min_samples_leaf': range(1,31)\n",
    "}\n",
    "\n",
    "grid_search = GridSearchCV(tree_rd, # El modelo que quiero entrenar\n",
    "                                   param_grid, # El grid de parámetros\n",
    "                                   cv=5, # Folds del cross validation\n",
    "                                   scoring=\"accuracy\", # Métrica que quiero optimizar\n",
    "                                   n_jobs = -1 # Paralelizar\n",
    "                                  )\n",
    "\n",
    "grid_search.fit(strat_train_set, strat_train_y_set)"
   ]
  },
  {
   "cell_type": "code",
   "execution_count": null,
   "metadata": {},
   "outputs": [],
   "source": [
    "grid_search.best_params_"
   ]
  },
  {
   "cell_type": "code",
   "execution_count": null,
   "metadata": {},
   "outputs": [],
   "source": [
    "# Mejor árbol\n",
    "accuracy_score(strat_test_y_set, grid_search.predict(strat_test_set))"
   ]
  },
  {
   "cell_type": "code",
   "execution_count": null,
   "metadata": {},
   "outputs": [],
   "source": [
    "# Bosque\n",
    "accuracy_score(strat_test_y_set, votos[\"moda\"])"
   ]
  },
  {
   "cell_type": "code",
   "execution_count": null,
   "metadata": {},
   "outputs": [],
   "source": [
    "# ¿Merece la pena?\n",
    "# Pensemos en tiempo\n",
    "# Pensemos en aciertos"
   ]
  },
  {
   "cell_type": "markdown",
   "metadata": {},
   "source": [
    "# Refactorizar código"
   ]
  },
  {
   "cell_type": "code",
   "execution_count": null,
   "metadata": {},
   "outputs": [],
   "source": []
  }
 ],
 "metadata": {
  "kernelspec": {
   "display_name": "Python 3",
   "language": "python",
   "name": "python3"
  },
  "language_info": {
   "codemirror_mode": {
    "name": "ipython",
    "version": 3
   },
   "file_extension": ".py",
   "mimetype": "text/x-python",
   "name": "python",
   "nbconvert_exporter": "python",
   "pygments_lexer": "ipython3",
   "version": "3.12.1"
  }
 },
 "nbformat": 4,
 "nbformat_minor": 2
}
