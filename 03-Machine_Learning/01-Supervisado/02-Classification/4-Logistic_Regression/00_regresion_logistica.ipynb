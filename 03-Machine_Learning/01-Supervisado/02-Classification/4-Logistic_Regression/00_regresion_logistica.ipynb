{
 "cells": [
  {
   "cell_type": "markdown",
   "metadata": {},
   "source": [
    "# Regresión logística"
   ]
  },
  {
   "cell_type": "markdown",
   "metadata": {},
   "source": [
    "## Introducción"
   ]
  },
  {
   "cell_type": "markdown",
   "metadata": {},
   "source": [
    "La regresión logística es un método estadístico que trata de modelar la probabilidad de una variable cualitativa binaria (dos posibles valores) en función de una o más variables independientes. La principal aplicación de la regresión logística es la creación de modelos de clasificación binaria.\n",
    "\n",
    "Se llama regresión logística simple cuando solo hay una variable independiente y regresión logística múltiple cuando hay más de una. Dependiendo del contexto, a la variable modelada se le conoce como variable dependiente o variable respuesta, y a las variables independientes como regresores, predictores o features.\n",
    "\n",
    "\n",
    "**Modelos de regresión logística en Python**\n",
    "\n",
    "Dos de las implementaciones de modelos de regresión logística más utilizadas en Python son: scikit-learn y statsmodels. Aunque ambas están muy optimizadas, Scikit-learn está orientada principalmente a la predicción, por lo que no dispone de apenas funcionalidades que muestren las muchas características del modelo que se deben analizar para hacer inferencia. Statsmodels es más completa en este sentido."
   ]
  },
  {
   "cell_type": "markdown",
   "metadata": {},
   "source": [
    "## Definición matemática"
   ]
  },
  {
   "cell_type": "markdown",
   "metadata": {},
   "source": [
    "El modelo de regresión lineal (Legendre, Gauss, Galton y Pearson) considera que, dado un conjunto de observaciones  $\\{y_i,x_{i1},...,x_{np}\\}^n_{i=1}$, la media $μ$ de la variable respuesta $y$\n",
    "se relaciona de forma lineal con la o las variables regresoras $x1 ...  xp$ acorde a la ecuación:\n",
    "\n",
    "$μ_y=β_0+β_1x_1+β_2x_2+...+β_px_p$\n",
    " \n",
    "El resultado de esta ecuación se conoce como la línea de regresión poblacional, y recoge la relación entre los predictores y la media de la variable respuesta.\n",
    "\n",
    "Otra definición que se encuentra con frecuencia en los libros de estadística es:\n",
    "\n",
    "$y_i=β_0+β_1x_{i1}+β_2x_{i2}+...+β_px_{ip}+ϵi$\n",
    " \n",
    "En este caso, se está haciendo referencia al valor de $y$ para una observación $i$ concreta. El valor de una observación puntual nunca va a ser exactamente igual al promedio, de ahí que se añada el término de error $ϵ$.\n",
    "\n",
    "En ambos casos, la interpretación de los elementos del modelo es la misma:\n",
    "\n",
    "- $β_0$ : es la ordenada en el origen, se corresponde con el valor promedio de la variable respuesta  $y$ cuando todos los predictores son cero.\n",
    "\n",
    "- $β_p$: es el efecto promedio que tiene sobre la variable respuesta el incremento en una unidad de la variable predictora $x_p$, manteniéndose constantes el resto de variables. Se conocen como coeficientes parciales de regresión.\n",
    "\n",
    "$e$: es el residuo o error, la diferencia entre el valor observado y el estimado por el modelo. Recoge el efecto de todas aquellas variables que influyen en $y$ pero que no se incluyen en el modelo como predictores.\n",
    "\n",
    "En la gran mayoría de casos, los valores  $β_0$ y $β_p$ poblacionales se desconocen, por lo que, a partir de una muestra, se obtienen sus estimaciones $\\hat{β}_0$ y $\\hat{β}_p$. Ajustar el modelo consiste en estimar, a  partir de los datos disponibles, los valores de los coeficientes de regresión que maximizan la verosimilitud (likelihood), es decir, los que dan lugar al modelo que con mayor probabilidad puede haber generado los datos observados.\n",
    "\n",
    "El método empleado con más frecuencia es el ajuste por mínimos cuadrados ordinarios (OLS), que identifica como mejor modelo la recta (o plano si es regresión múltiple) que minimiza la suma de las desviaciones verticales entre cada dato de entrenamiento y la recta, elevadas al cuadrado.\n",
    "\n",
    "El término \"lineal\" en los modelos de regresión hace referencia al hecho de que los parámetros se incorporan en la ecuación de forma lineal, no a que necesariamente la relación entre cada predictor y la variable respuesta tenga que seguir un patrón de recta."
   ]
  },
  {
   "cell_type": "markdown",
   "metadata": {},
   "source": [
    "**¿Qué ocurre cuando la variable respuesta es binaria, solo dos posibles valores?**\n",
    "\n",
    "Si una variable cualitativa con dos niveles (binaría) se codifica como 0 y 1, matemáticamente es posible ajustar un modelo de regresión lineal por mínimos cuadrados. Sin embargo, esta aproximación tiene dos problemas:\n",
    "\n",
    "- Al generar una recta (hiperplano si hay múltiples variables), se pueden obtener valores predichos distintos de 0 y 1, lo que entra en contradicción con la definición de la variable respuesta binaria.\n",
    "\n",
    "- Si se quiere interpretar las predicciones del modelo como probabilidades de pertenencia a cada clase, no se cumpliría la condición de que toda probabilidad ha de estar dentro del intervalo [0,1], ya que podrían obtenerse valores fuera de este.\n",
    "\n",
    "Para evitar estos problemas, la regresión logística (David Cox 1958) transforma el valor devuelto por la regresión lineal con una función cuyo resultado siempre está comprendido entre 0 y 1. Existen varias funciones que cumplen esta descripción, una de las más utilizadas es la función logística (también conocida como función sigmoide):\n",
    "\n",
    "$$sigmoide=σ(y)=\\frac{1}{1+e^{−y}}$$\n",
    "\n",
    "Para valores de $y$ positivos muy grandes, $e^{−y}$ es aproximadamente 0, por lo que el valor de la función sigmoide es 1. Para valores de $y$ negativos muy grandes, $e^{−y}$ tiende a infinito, por lo que el valor de la función sigmoide es 0.\n",
    "\n",
    "Sustituyendo la $y$ de la ecuación anterior por la función de un modelo lineal $y=β_0+β_1x_1+...+β_px_p$ se obtiene que:\n",
    "\n",
    "$$P(y=1|X=x)=\\frac{e^{β_0+β_1x_1+...+β_px_p}}{1 + e^{β_0+β_1x_1+...+β_px_p}}$$\n",
    "donde  $P(y=1|X=x)$ puede interpretarse como la probabilidad de que la variable respuesta $y$  adquiera el valor 1 (clase de referencia), dado los predictores $x1,...,xp$.\n",
    "\n",
    "El modelo resultante tiene los coeficientes de regresión en los exponentes, por lo que no es un modelo lineal y no puede ajustarse con la estrategia descrita al inicio del documento. ¿Cómo evitar este inconveniente?\n",
    "\n",
    "La expresión obtenida tiene la característica de ser siempre positiva, ya que la función exponencial solo toma valores positivos y, el cociente de valores positivos, es siempre positivo. Esto hace posible aplicarle el logaritmo:\n",
    "\n",
    "$$ln(\\frac{p(y=1|X=x)}{p(y=0|X=x)})=β_0+β_1x_1+...+β_px_p$$\n",
    "\n",
    "Al realizar la transformación, en el lado derecho se obtiene la ecuación de un modelo lineal. El término de la izquierda resulta ser el logaritmo de un cociente de probabilidades, lo que se conoce como razón de probabilidad (log of odds).\n",
    "\n",
    "Como resultado de este proceso se consigue convertir un problema de clasificación no lineal, en un problema de regresión lineal que sí puede ajustarse mediante los métodos convencionales.\n",
    "\n",
    "Una vez obtenidos los coeficientes del modelo $(β_0,β_1,⋯,β_p)$ se puede obtener la probabilidad de que una nueva observación pertenezca a la clase $y=1$ con la ecuación:\n",
    "\n",
    "$$p(y=1|X=x) = \\frac{e^{β_0+β_1x_1+⋯+β_px_p}}{1+e^{β_0+β_1x_1+⋯+β_px_p)}}$$"
   ]
  },
  {
   "attachments": {
    "imagen1.jpg": {
     "image/jpeg": "[encoded data removed]"
    }
   },
   "cell_type": "markdown",
   "metadata": {},
   "source": [
    "![imagen1.jpg](attachment:imagen1.jpg)"
   ]
  },
  {
   "cell_type": "markdown",
   "metadata": {},
   "source": [
    "En el apartado anterior, se han obviado dos demostraciones importantes con el objetivo de facilitar la narrativa. Sin embargo, es importante tenerlas en cuenta para entender bien el funcionamiento de este tipo de modelos.\n",
    "\n",
    "Combinación de la función sigmoide y la ecuación de un modelo lineal para obtener un modelo que relacione los predictores con la probabilidad de que  $y=1$."
   ]
  },
  {
   "cell_type": "markdown",
   "metadata": {},
   "source": [
    "$$sigmoide=σ(y)=\\frac{1}{1+e^{−y}}$$"
   ]
  },
  {
   "cell_type": "code",
   "execution_count": 1,
   "metadata": {},
   "outputs": [],
   "source": [
    "import math\n",
    "import matplotlib.pyplot as plt\n",
    "# implementa la función sigmoid\n",
    "def sigmoid(x):\n",
    "    pass"
   ]
  },
  {
   "cell_type": "code",
   "execution_count": null,
   "metadata": {},
   "outputs": [],
   "source": [
    "# Calcula la sigmoide para -100, -1, -0.5, 0, 0.5, 1, 100"
   ]
  },
  {
   "cell_type": "code",
   "execution_count": 2,
   "metadata": {},
   "outputs": [],
   "source": [
    "# calcula la sigmoide para todos los enteros entre -100 y 100"
   ]
  },
  {
   "cell_type": "code",
   "execution_count": 7,
   "metadata": {},
   "outputs": [
    {
     "data": {
      "text/plain": [
       "[]"
      ]
     },
     "execution_count": 7,
     "metadata": {},
     "output_type": "execute_result"
    },
    {
     "data": {
      "image/png": "[encoded data removed]",
      "text/plain": [
       "<Figure size 640x480 with 1 Axes>"
      ]
     },
     "metadata": {},
     "output_type": "display_data"
    }
   ],
   "source": [
    "# Dibuja la sigmoide anterior\n",
    "plt.plot()"
   ]
  },
  {
   "cell_type": "markdown",
   "metadata": {},
   "source": [
    "## Odds y logaritmo de odds"
   ]
  },
  {
   "cell_type": "markdown",
   "metadata": {},
   "source": [
    "Debido a las transformaciones necesarias, la regresión logística modela la probabilidad de que la variable respuesta pertenezca al grupo de referencia de forma indirecta mediante el uso del logaritmo de odds. Aunque la mayoría de implementaciones convierten el logaritmo de odds a probabilidades al mostrar las predicciones, conviene conocer su significado.\n",
    "\n",
    "Supóngase un evento cuya probabilidad de ser verdadero es de 0.8 ($p=0.8$). Dado que es una variable binaria, la probabilidad ser falso es de  $1−0.8=0.2, (q=0.2)$. Los odds o razón de probabilidad se definen como el ratio entre la probabilidad de evento verdadero y la probabilidad de evento falso $\\frac{p}{q}$. En este caso los odds son $0.8 / 0.2 = 4$, lo que equivale a decir que se esperan 4 eventos verdaderos por cada evento falso.\n",
    "\n",
    "Dado que las probabilidades están acotadas siempre al rango [0,1], los odds están acotados entre [0, ∞]. Al aplicarles el logaritmo, el rango de valores pasa a ser de [- ∞, + ∞]."
   ]
  },
  {
   "cell_type": "markdown",
   "metadata": {},
   "source": [
    "## Interpretación del modelo"
   ]
  },
  {
   "cell_type": "markdown",
   "metadata": {},
   "source": [
    "Los principales elementos que hay que interpretar en un modelo de regresión logística son los coeficientes de los predictores:\n",
    "\n",
    "- $β_0$ es la ordenada en el origen o intercept. Se corresponde con el valor esperado del logaritmo de odds cuando todos los predictores son cero. Puede transformarse a probabilidad con la ecuación  $e^{β0}/(1+e^{β_0})$. Tras la transformación, su valor se corresponde con la probabilidad esperada de pertenecer a la clase 1 cuando todos los predictores son cero.\n",
    "\n",
    "- $β_p$ los coeficientes de regresión parcial de cada predictor indican el cambio promedio del logaritmo de odds al incrementar en una unidad la variable predictora  $x_p$, manteniéndose constantes el resto de variables. Esto equivale a decir que, por cada unidad que se incrementa $x_p$, se multiplican los odds por $e^{βp}$.\n",
    "\n",
    "Dado que la relación entre $p(y=1)$ y $x$ no es lineal, los coeficientes de regresión $β_p$ no se corresponden con el cambio en la probabilidad de $y$ asociada con el incremento en una unidad de $x$. Cuánto se incremente la probabilidad de $y$ por unidad de $x$ depende del valor de $x$, es decir, de la posición en la curva logística en la que se encuentre. **Esta es una diferencia muy importante respecto a la interpretación de los coeficientes de un modelo de regresión lineal.**\n",
    "\n",
    "La magnitud de cada coeficiente parcial de regresión depende de las unidades en las que se mida la variable predictora a la que corresponde, por lo que su magnitud no está asociada con la importancia de cada predictor. Para poder determinar qué impacto tienen en el modelo cada una de las variables, se emplean los coeficientes parciales estandarizados, que se obtienen al estandarizar (sustraer la media y dividir entre la desviación estándar) las variables predictoras previo ajuste del modelo.\n",
    "\n",
    "Si bien los coeficientes de regresión suelen ser el primer objetivo de la interpretación de un modelo lineal, existen muchos otros aspectos (significancia del modelo en su conjunto, significancia de los predictores...). Estos últimos suelen ser tratados con poca detalle cuando el único objetivo del modelo es realizar predicciones, sin embargo, son muy relevantes si se quiere realizar inferencia, es decir, explicar las relaciones entre los predictores y la variable respuesta. A lo largo de este documento se irán introduciendo cada uno de ellos."
   ]
  },
  {
   "cell_type": "code",
   "execution_count": 14,
   "metadata": {},
   "outputs": [
    {
     "data": {
      "text/html": [
       "<div>\n",
       "<style scoped>\n",
       "    .dataframe tbody tr th:only-of-type {\n",
       "        vertical-align: middle;\n",
       "    }\n",
       "\n",
       "    .dataframe tbody tr th {\n",
       "        vertical-align: top;\n",
       "    }\n",
       "\n",
       "    .dataframe thead th {\n",
       "        text-align: right;\n",
       "    }\n",
       "</style>\n",
       "<table border=\"1\" class=\"dataframe\">\n",
       "  <thead>\n",
       "    <tr style=\"text-align: right;\">\n",
       "      <th></th>\n",
       "      <th>matricula</th>\n",
       "      <th>matematicas</th>\n",
       "    </tr>\n",
       "  </thead>\n",
       "  <tbody>\n",
       "    <tr>\n",
       "      <th>0</th>\n",
       "      <td>0</td>\n",
       "      <td>41</td>\n",
       "    </tr>\n",
       "    <tr>\n",
       "      <th>1</th>\n",
       "      <td>0</td>\n",
       "      <td>53</td>\n",
       "    </tr>\n",
       "    <tr>\n",
       "      <th>2</th>\n",
       "      <td>0</td>\n",
       "      <td>54</td>\n",
       "    </tr>\n",
       "  </tbody>\n",
       "</table>\n",
       "</div>"
      ],
      "text/plain": [
       "   matricula  matematicas\n",
       "0          0           41\n",
       "1          0           53\n",
       "2          0           54"
      ]
     },
     "execution_count": 14,
     "metadata": {},
     "output_type": "execute_result"
    }
   ],
   "source": [
    "import pandas as pd\n",
    "datos = pd.read_csv(\"data/mates.csv\")\n",
    "datos.head(3)"
   ]
  },
  {
   "cell_type": "code",
   "execution_count": null,
   "metadata": {},
   "outputs": [],
   "source": [
    "# Calcula la media en matematicas según tengan matrícula o no"
   ]
  },
  {
   "cell_type": "code",
   "execution_count": 31,
   "metadata": {},
   "outputs": [
    {
     "data": {
      "text/plain": [
       "<Axes: xlabel='matematicas', ylabel='matricula'>"
      ]
     },
     "execution_count": 31,
     "metadata": {},
     "output_type": "execute_result"
    },
    {
     "data": {
      "image/png": "[encoded data removed]",
      "text/plain": [
       "<Figure size 640x480 with 1 Axes>"
      ]
     },
     "metadata": {},
     "output_type": "display_data"
    }
   ],
   "source": [
    "# Haz un scatterplot de los datos\n",
    "import seaborn as sns\n",
    "sns.scatterplot()"
   ]
  },
  {
   "cell_type": "code",
   "execution_count": null,
   "metadata": {},
   "outputs": [],
   "source": [
    "from sklearn.model_selection import train_test_split\n",
    "# División de los datos en train y test\n",
    "# ==============================================================================\n",
    "X = datos[['matematicas']]\n",
    "y = datos['matricula']\n",
    "\n",
    "X_train, X_test, y_train, y_test = train_test_split()"
   ]
  },
  {
   "cell_type": "code",
   "execution_count": 61,
   "metadata": {},
   "outputs": [
    {
     "name": "stdout",
     "output_type": "stream",
     "text": [
      "                            OLS Regression Results                            \n",
      "==============================================================================\n",
      "Dep. Variable:              matricula   R-squared:                       0.256\n",
      "Model:                            OLS   Adj. R-squared:                  0.252\n",
      "Method:                 Least Squares   F-statistic:                     67.99\n",
      "Date:                Thu, 16 May 2024   Prob (F-statistic):           2.25e-14\n",
      "Time:                        15:09:48   Log-Likelihood:                -85.516\n",
      "No. Observations:                 200   AIC:                             175.0\n",
      "Df Residuals:                     198   BIC:                             181.6\n",
      "Df Model:                           1                                         \n",
      "Covariance Type:            nonrobust                                         \n",
      "===============================================================================\n",
      "                  coef    std err          t      P>|t|      [0.025      0.975]\n",
      "-------------------------------------------------------------------------------\n",
      "const          -0.9799      0.151     -6.495      0.000      -1.277      -0.682\n",
      "matematicas     0.0233      0.003      8.245      0.000       0.018       0.029\n",
      "==============================================================================\n",
      "Omnibus:                       14.767   Durbin-Watson:                   2.238\n",
      "Prob(Omnibus):                  0.001   Jarque-Bera (JB):               16.594\n",
      "Skew:                           0.695   Prob(JB):                     0.000249\n",
      "Kurtosis:                       2.754   Cond. No.                         306.\n",
      "==============================================================================\n",
      "\n",
      "Notes:\n",
      "[1] Standard Errors assume that the covariance matrix of the errors is correctly specified.\n"
     ]
    }
   ],
   "source": [
    "\n",
    "import statsmodels.api as sm\n",
    "# Calcula la regresión lineal\n",
    "# Crea una nueva regresión lineal (no uses el mismo nombre que la anterior!!!) usando X_train e y_train\n",
    "# Realiza la regresión lineal\n",
    "\n",
    "# Creación del modelo utilizando matrices como en scikitlearn\n",
    "# ==============================================================================\n",
    "# A la matriz de predictores se le tiene que añadir una columna de 1s para el intercept del modelo\n",
    "\n",
    "# La convenciones determinan que las features se llamen X \n",
    "# Además, tendremos habitualmente un conjunto de train y otro de test (con un split del 80/20, habitualmente)\n",
    "# Por lo tanto, X_train contiene las features del train\n",
    "# Este caso es tan sencillo y con pocos datos que no tenemos X_test, pero aparecerá\n",
    "#X_train =\n",
    "# Añadimos una columna de 1 porque necesitamos una constante que determine el intercept o B0, el punto donde corta la recta con el eje Y\n",
    "# Por eso añadimos una columna constante de 0s\n",
    "# Veremos que estoy aparece en muchos otros modelos (en redes neuronales se llama bias)\n",
    "X_train = sm.add_constant(datos[\"matematicas\"], prepend=True)\n",
    "# OLS: creamos el modelo del tipo Ordinary Least Squares (por alguna razón creo que una vez dije Optimal pero es Ordinary)\n",
    "modelo = sm.OLS(endog=datos[\"matricula\"], exog=X_train)\n",
    "# Ajustamos el modelo, es decir, hacemos el calculo de la mejor recta posible según los criterios del OLS\n",
    "modelo = modelo.fit()\n",
    "print(modelo.summary())"
   ]
  },
  {
   "cell_type": "code",
   "execution_count": 63,
   "metadata": {},
   "outputs": [],
   "source": [
    "# Haz las predicciones. \n",
    "# Mira el máximo y mínimo de las predicciones\n",
    "# Comprueba la diferencia entre tener un 52, 53 o 54 en matemáticas"
   ]
  },
  {
   "cell_type": "code",
   "execution_count": 75,
   "metadata": {},
   "outputs": [
    {
     "name": "stdout",
     "output_type": "stream",
     "text": [
      "Optimization terminated successfully.\n",
      "         Current function value: 0.417683\n",
      "         Iterations 7\n",
      "                           Logit Regression Results                           \n",
      "==============================================================================\n",
      "Dep. Variable:              matricula   No. Observations:                  200\n",
      "Model:                          Logit   Df Residuals:                      198\n",
      "Method:                           MLE   Df Model:                            1\n",
      "Date:                Thu, 16 May 2024   Pseudo R-squ.:                  0.2498\n",
      "Time:                        15:15:36   Log-Likelihood:                -83.537\n",
      "converged:                       True   LL-Null:                       -111.36\n",
      "Covariance Type:            nonrobust   LLR p-value:                 8.718e-14\n",
      "===============================================================================\n",
      "                  coef    std err          z      P>|z|      [0.025      0.975]\n",
      "-------------------------------------------------------------------------------\n",
      "const          -9.7939      1.482     -6.610      0.000     -12.698      -6.890\n",
      "matematicas     0.1563      0.026      6.105      0.000       0.106       0.207\n",
      "===============================================================================\n"
     ]
    }
   ],
   "source": [
    "# Creación del modelo utilizando matrices como en scikitlearn\n",
    "# ==============================================================================\n",
    "# A la matriz de predictores se le tiene que añadir una columna de 1s para el intercept del modelo\n",
    "X_train = sm.add_constant(datos[[\"matematicas\"]], prepend=True)\n",
    "modelo = sm.Logit(endog=datos[\"matricula\"], exog=X_train)\n",
    "modelo = modelo.fit()\n",
    "print(modelo.summary())"
   ]
  },
  {
   "cell_type": "code",
   "execution_count": null,
   "metadata": {},
   "outputs": [],
   "source": [
    "# Realiza ahora las predicciones \n",
    "# Calcula máximo y mínimo\n",
    "# Comprueba si hay incremento lineal"
   ]
  },
  {
   "cell_type": "code",
   "execution_count": 76,
   "metadata": {},
   "outputs": [
    {
     "data": {
      "text/plain": [
       "0      0.032800\n",
       "1      0.181250\n",
       "2      0.205615\n",
       "3      0.079736\n",
       "4      0.292651\n",
       "         ...   \n",
       "195    0.159193\n",
       "196    0.020775\n",
       "197    0.292651\n",
       "198    0.326029\n",
       "199    0.591019\n",
       "Length: 200, dtype: float64"
      ]
     },
     "execution_count": 76,
     "metadata": {},
     "output_type": "execute_result"
    }
   ],
   "source": [
    "modelo.predict(X_train)"
   ]
  },
  {
   "cell_type": "code",
   "execution_count": 82,
   "metadata": {},
   "outputs": [],
   "source": [
    "# ¿Cómo calculamos lo bueno que es nuestro modelo?\n",
    "# Accuracy: % de vece que acertamos"
   ]
  },
  {
   "cell_type": "code",
   "execution_count": null,
   "metadata": {},
   "outputs": [],
   "source": [
    "# Comparar con el azar: siempre valoro el más frecuente: No Matricula"
   ]
  },
  {
   "cell_type": "code",
   "execution_count": 83,
   "metadata": {},
   "outputs": [
    {
     "data": {
      "text/plain": [
       "0.245"
      ]
     },
     "execution_count": 83,
     "metadata": {},
     "output_type": "execute_result"
    }
   ],
   "source": [
    "# Matriz de confusión: Positivos, Falsos positivos, Negativos y Falsos negativos"
   ]
  },
  {
   "attachments": {
    "Calculation-of-Precision-Recall-and-Accuracy-in-the-confusion-matrix.png": {
     "image/png": "[encoded data removed]"
    }
   },
   "cell_type": "markdown",
   "metadata": {},
   "source": [
    "![Calculation-of-Precision-Recall-and-Accuracy-in-the-confusion-matrix.png](attachment:Calculation-of-Precision-Recall-and-Accuracy-in-the-confusion-matrix.png)"
   ]
  },
  {
   "cell_type": "markdown",
   "metadata": {},
   "source": [
    "## Significancia del modelo"
   ]
  },
  {
   "cell_type": "markdown",
   "metadata": {},
   "source": [
    "### Likelihood Ratio\n",
    "\n",
    "Uno de los primeros resultados que hay que evaluar al ajustar un modelo de regresión logística es el resultado del test de significancia likelihood ratio (LLR). Este contraste responde a la pregunta de si el modelo en su conjunto es capaz de predecir la variable respuesta mejor de lo esperado por azar, o lo que es equivalente, si al menos uno de los predictores que forman el modelo contribuye de forma significativa. Para realizar este análisis se compara la probabilidad de obtener los valores observados (log likelihood) con el modelo de interés ($m_1$) frente a las de un modelo sin predictores (modelo nulo $m_0$).\n",
    "\n",
    "$LLR=−2log(L(m_0)/L(m_1))=2(logL(m_1)−logL(m_0))$\n",
    " \n",
    "El estadístico LLR tiene una distribución chi-cuadrado con grados de libertad equivalentes a la diferencia de grados de libertad de los dos modelos comparados. Si se compara respecto al modelo nulo, los grados de libertad equivalen al número de predictores.\n",
    "\n",
    "Con frecuencia, la hipótesis nula y alternativa de este test se describen como:\n",
    "\n",
    "$H_0:β_1 = ... =  β_p = 0$\n",
    " \n",
    "$H_a: ∃ β_i ≠ 0$\n",
    " \n",
    "Si el test resulta significativo, implica que el modelo es útil, pero no que sea el mejor. Podría ocurrir que alguno de sus predictores no fuese necesario.\n",
    "\n",
    "\n",
    "### Pseudo R2\n",
    "\n",
    "A diferencia de los modelos de regresión lineal, en los modelos logísticos no existe un equivalente a  $R2$ que determine exactamente la varianza explicada por el modelo. Se han desarrollado diferentes métodos conocidos como  $pseudoR2$ que intentan aproximarse al concepto de $R2$ pero que, aunque su rango oscila entre 0 y 1, no se pueden considerar equivalentes. El más conocido es el propuesto por McFadden’s:\n",
    "\n",
    "$R^2_{McF} = 1 − \\frac{log\\hat{L}(modelo)}{log\\hat{L}(modelo nulo)}$\n",
    " \n",
    "siendo  $\\hat{L}$ el valor de likelihood de cada modelo.\n",
    "\n",
    "$R^2_{McF}$ tiene valor 0 si el modelo candidato no mejora al modelo nulo, y valor de 1 si se ajusta perfectamente a los datos."
   ]
  },
  {
   "cell_type": "markdown",
   "metadata": {},
   "source": [
    "## Significancia de los predictores"
   ]
  },
  {
   "cell_type": "markdown",
   "metadata": {},
   "source": [
    "En la mayoría de casos, aunque el estudio de regresión logística se aplica a una muestra, el objetivo último es obtener un modelo que explique la relación entre las variables en toda la población. Esto significa que, el modelo generado, es una estimación de la relación poblacional a partir de la relación que se observa en la muestra y, por lo tanto, está sujeta a variaciones. Para cada uno de los coeficientes de la ecuación de regresión logística ($β_p$) se puede calcular su significancia (p-value) y su intervalo de confianza. El test estadístico más empleado es el Wald chi-test.\n",
    "\n",
    "El test de significancia para los coeficientes ($β_p$) del modelo logístico considera como hipótesis:\n",
    "\n",
    "$H_0$: el predictor $x_p$ no contribuye al modelo ($β_p = 0$), en presencia del resto de predictores.\n",
    "\n",
    "$H_a$: el predictor $x_p$ sí contribuye al modelo ($β_p ≠ 0$), en presencia del resto de predictores.\n",
    "\n",
    "En los modelos generados con statsmodels se devuelve, junto con el valor de los coeficientes de regresión, el valor del estadístico $z$ obtenido para cada uno, los p-value y los intervalos de confianza correspondientes. Esto permite saber, además de las estimaciones, si son significativamente distintos de 0, es decir, si contribuyen al modelo."
   ]
  },
  {
   "cell_type": "markdown",
   "metadata": {},
   "source": [
    "## Variables categóricas como predictores"
   ]
  },
  {
   "cell_type": "markdown",
   "metadata": {},
   "source": [
    "Cuando se introduce una variable categórica como predictor, un nivel se considera el de referencia (normalmente codificado como 0) y el resto de niveles se comparan con él. En el caso de que el predictor categórico tenga más de dos niveles, se generan lo que se conoce como variables dummy o one-hot-encodding, que son variables creadas para cada uno de los niveles del predictor categórico y que pueden tomar el valor de 0 o 1. Cada vez que se emplee el modelo para predecir un valor, solo una variable dummy por predictor adquiere el valor 1 (la que coincida con el valor que adquiere el predictor en ese caso) mientras que el resto se consideran 0. El valor del coeficiente parcial de regresión  $β_p$ de cada variable dummy indica el porcentaje promedio en el que influye dicho nivel sobre el logaritmo de odds de la variable dependiente $y$ en comparación con el nivel de referencia de dicho predictor.\n",
    "\n",
    "La idea de variables dummy se entiende mejor con un ejemplo. Supóngase un modelo en el que la variable respuesta ojos verdes (si/no) se predice en función de nacionalidad del sujeto. La variable nacionalidad es cualitativa con 3 niveles (americana, europea y asiática). A pesar de que el predictor inicial es nacionalidad, se crea una variable nueva por cada nivel, cuyo valor puede ser 0 o 1. De tal forma que la ecuación del modelo completo es:\n",
    "\n",
    "$$p(ojos verdes = si) = \\frac{e^{(β_0 + β_1americana + β_2europea + β_3asiatica)}}{1 + e^{(β_0 + β_1americana + β_2europea+ β_3asiatica)}}$$\n",
    " \n",
    "Si el sujeto es europeo, las variables dummy americana y asiática se consideran 0, de forma que el modelo para este caso se queda en:\n",
    "\n",
    "$$p(ojos verdes = si)=\\frac{e^{(β0+β2europea)}}{1+e^{(β0+β2europea)}}$$\n",
    " "
   ]
  },
  {
   "cell_type": "markdown",
   "metadata": {},
   "source": [
    "## Predicción"
   ]
  },
  {
   "cell_type": "markdown",
   "metadata": {},
   "source": [
    "Una vez generado un modelo válido, es posible predecir la probabilidad de la variable respuesta $y$ para nuevos valores de las variables predictoras $x$. Es importante tener en cuenta que las predicciones deben, a priori, limitarse al rango de valores dentro del que se encuentran las observaciones con las que se ha entrenado el modelo. Esto es importante puesto que, aunque los modelos de regresión logística pueden extrapolarse, solo en esta región se tiene certeza de que se cumplen las condiciones para que el modelo sea válido. Para calcular las predicciones, se emplea la ecuación:\n",
    "\n",
    "$$\\hat{p}(y=1|X) = \\frac{e{(\\hat{β}_0 + \\hat{β}_1x_1 + ⋯ + \\hat{β}_px_p)}}{1 + e{(\\hat{β}_0+\\hat{β}1x_1 + ⋯ + \\hat{β}_px_p)}}$$"
   ]
  },
  {
   "cell_type": "markdown",
   "metadata": {},
   "source": [
    "## Convertir probabilidad en clasificación"
   ]
  },
  {
   "cell_type": "markdown",
   "metadata": {},
   "source": [
    "Una de las principales aplicaciones de un modelo de regresión logística es clasificar la variable cualitativa en función del valor que tomen los predictores. Dado que la salida de un modelo logístico es una probabilidad, para conseguir la clasificación, es necesario establecer un límite (threshold) a partir del cual se considera que la variable pertenece a uno de los niveles. Por ejemplo, se puede asignar una observación al grupo 1 si la probabilidad estimada es mayor de 0.5 y al grupo 0 de lo contrario."
   ]
  },
  {
   "cell_type": "markdown",
   "metadata": {},
   "source": [
    "## Validación del modelo"
   ]
  },
  {
   "cell_type": "markdown",
   "metadata": {},
   "source": [
    "Una vez seleccionado el mejor modelo que se puede crear con los datos disponibles, se tiene que comprobar su capacidad prediciendo nuevas observaciones que no se hayan empleado para entrenarlo, de este modo se verifica si el modelo se puede generalizar. Una estrategia comúnmente empleada es dividir aleatoriamente los datos en dos grupos, ajustar el modelo con el primer grupo y estimar la precisión de las predicciones con el segundo.\n",
    "\n",
    "El tamaño adecuado de las particiones depende en gran medida de la cantidad de datos disponibles y la seguridad que se necesite en la estimación del error, 80% 20% suele dar buenos resultados."
   ]
  },
  {
   "cell_type": "markdown",
   "metadata": {},
   "source": [
    "## Condiciones para la regresión logística"
   ]
  },
  {
   "cell_type": "markdown",
   "metadata": {},
   "source": [
    "Para que un modelo de regresión logística, y las conclusiones derivadas de él, sean completamente válidas, se deben verificar que se cumplen las asunciones sobre las que se basa su desarrollo matemático. En la práctica, rara vez se cumplen, o se puede demostrar que se cumplen todas, sin embargo esto no significa que el modelo no sea útil. Lo importante es ser consciente de ellas y del impacto que esto tiene en las conclusiones que se extraen del modelo.\n",
    "\n",
    "\n",
    "**No colinealidad o multicolinealidad:**\n",
    "\n",
    "En los modelos de regresión logística múltiple, los predictores deben ser independientes, no debe de haber colinealidad entre ellos. La colinealidad ocurre cuando un predictor está linealmente relacionado con uno o varios de los otros predictores del modelo. Como consecuencia de la colinealidad, no se puede identificar de forma precisa el efecto individual que tiene cada predictor sobre la variable respuesta, lo que se traduce en un incremento de la varianza de los coeficientes de regresión estimados hasta el punto de que resulta imposible establecer su significancia estadística. Además, pequeños cambios en los datos, provocan grandes cambios en las estimaciones de los coeficientes. Si bien la colinealidad propiamente dicha existe solo si el coeficiente de correlación simple o múltiple entre predictores es 1, cosa que raramente ocurre en la realidad, es frecuente encontrar la llamada casi-colinealidad o multicolinealidad no perfecta.\n",
    "\n",
    "En caso de encontrar colinealidad entre predictores, hay dos posibles soluciones. La primera es excluir uno de los predictores problemáticos intentando conservar el que, a juicio del investigador, está influyendo realmente en la variable respuesta. Esta medida no suele tener mucho impacto en el modelo en cuanto a su capacidad predictiva ya que, al existir colinealidad, la información que aporta uno de los predictores es redundante en presencia del otro. La segunda opción consiste en combinar las variables colineales en un único predictor, aunque con el riesgo de perder su interpretación.\n",
    "\n",
    "Cuando se intenta establecer relaciones causa-efecto, la colinealidad puede llevar a conclusiones muy erróneas, haciendo creer que una variable es la causa cuando, en realidad, es otra la que está influenciando sobre ese predictor.\n",
    "\n",
    "\n",
    "**Relación lineal entre los predictores numéricos y el logaritmo de odds de la variable respuesta**\n",
    "\n",
    "Cada predictor numérico tiene que estar linealmente relacionado con el logaritmo de odds de la variable respuesta  y\n",
    "  mientras los demás predictores se mantienen constantes, de lo contrario no se deben introducir en el modelo.\n",
    "\n",
    "\n",
    "**No autocorrelación (Independencia)**\n",
    "\n",
    "Los valores de cada observación son independientes de los otros. Esto es especialmente importante de comprobar cuando se trabaja con mediciones temporales. Se recomienda representar los residuos ordenados acorde al tiempo de registro de las observaciones, si existe un cierto patrón hay indicios de autocorrelación. También se puede emplear el test de hipótesis de Durbin-Watson.\n",
    "\n",
    "\n",
    "**Valores atípicos, con alto leverage o influyentes**\n",
    "\n",
    "Es importante identificar observaciones que sean atípicas o que puedan estar influenciando al modelo. La forma más fácil de detectarlas es a través de los residuos.\n",
    "\n",
    "\n",
    "**Tamaño de la muestra**\n",
    "\n",
    "No se trata de una condición de por sí pero, si no se dispone de suficientes observaciones, predictores que no son realmente influyentes podrían parecerlo. Un recomendación frecuente es que el número de observaciones sea como mínimo entre 10 y 20 veces el número de predictores del modelo.\n",
    "\n",
    "\n",
    "**Parsimonia**\n",
    "\n",
    "Este término hace referencia a que, el mejor modelo, es aquel capaz de explicar con mayor precisión la variabilidad observada en la variable respuesta empleando el menor número de predictores, por lo tanto, con menos asunciones.\n",
    "\n",
    "\n",
    "La gran mayoría de condiciones se verifican utilizando los residuos, por lo tanto, se suele generar primero el modelo y posteriormente validar las condiciones. De hecho, el ajuste de un modelo debe verse como un proceso iterativo en el que se ajusta el modelo, se evalúan sus residuos y se mejora. Así hasta llegar a un modelo óptimo.\n"
   ]
  },
  {
   "cell_type": "markdown",
   "metadata": {},
   "source": [
    "## Ejemplo regresión logística simple\n",
    "\n",
    "\n",
    "Un estudio quiere establecer un modelo que permita calcular la probabilidad de obtener matrícula de honor al final del bachillerato en función de la nota que se ha obtenido en matemáticas. La variable matrícula está codificada como 0 si no se tiene matrícula y 1 si se tiene.\n",
    "\n"
   ]
  },
  {
   "cell_type": "markdown",
   "metadata": {},
   "source": [
    "### Librerías"
   ]
  },
  {
   "cell_type": "code",
   "execution_count": 9,
   "metadata": {},
   "outputs": [],
   "source": [
    "# Tratamiento de datos\n",
    "# ==============================================================================\n",
    "import pandas as pd\n",
    "import numpy as np\n",
    "\n",
    "# Gráficos\n",
    "# ==============================================================================\n",
    "import matplotlib.pyplot as plt\n",
    "from matplotlib import style\n",
    "import seaborn as sns\n",
    "\n",
    "# Preprocesado y modelado\n",
    "# ==============================================================================\n",
    "from sklearn.linear_model import LogisticRegression\n",
    "from sklearn.model_selection import train_test_split\n",
    "from sklearn.metrics import accuracy_score\n",
    "import statsmodels.api as sm\n",
    "import statsmodels.formula.api as smf\n",
    "from statsmodels.stats.weightstats import ttest_ind\n",
    "\n",
    "# Configuración matplotlib\n",
    "# ==============================================================================\n",
    "plt.rcParams['image.cmap'] = \"bwr\"\n",
    "#plt.rcParams['figure.dpi'] = \"100\"\n",
    "plt.rcParams['savefig.bbox'] = \"tight\"\n",
    "style.use('ggplot') or plt.style.use('ggplot')\n",
    "\n",
    "# Configuración warnings\n",
    "# ==============================================================================\n",
    "import warnings\n",
    "warnings.filterwarnings('ignore')"
   ]
  },
  {
   "cell_type": "code",
   "execution_count": 10,
   "metadata": {},
   "outputs": [
    {
     "data": {
      "text/html": [
       "<div>\n",
       "<style scoped>\n",
       "    .dataframe tbody tr th:only-of-type {\n",
       "        vertical-align: middle;\n",
       "    }\n",
       "\n",
       "    .dataframe tbody tr th {\n",
       "        vertical-align: top;\n",
       "    }\n",
       "\n",
       "    .dataframe thead th {\n",
       "        text-align: right;\n",
       "    }\n",
       "</style>\n",
       "<table border=\"1\" class=\"dataframe\">\n",
       "  <thead>\n",
       "    <tr style=\"text-align: right;\">\n",
       "      <th></th>\n",
       "      <th>matricula</th>\n",
       "      <th>matematicas</th>\n",
       "    </tr>\n",
       "  </thead>\n",
       "  <tbody>\n",
       "    <tr>\n",
       "      <th>0</th>\n",
       "      <td>0</td>\n",
       "      <td>41</td>\n",
       "    </tr>\n",
       "    <tr>\n",
       "      <th>1</th>\n",
       "      <td>0</td>\n",
       "      <td>53</td>\n",
       "    </tr>\n",
       "    <tr>\n",
       "      <th>2</th>\n",
       "      <td>0</td>\n",
       "      <td>54</td>\n",
       "    </tr>\n",
       "  </tbody>\n",
       "</table>\n",
       "</div>"
      ],
      "text/plain": [
       "   matricula  matematicas\n",
       "0          0           41\n",
       "1          0           53\n",
       "2          0           54"
      ]
     },
     "execution_count": 10,
     "metadata": {},
     "output_type": "execute_result"
    }
   ],
   "source": [
    "\n"
   ]
  },
  {
   "cell_type": "code",
   "execution_count": 13,
   "metadata": {},
   "outputs": [],
   "source": [
    "datos.to_csv(\"mates.csv\", index=False)"
   ]
  },
  {
   "cell_type": "markdown",
   "metadata": {},
   "source": [
    "### Exploración gráfica\n",
    "\n",
    "\n",
    "El primer paso antes de generar un modelo de regresión logística simple es representar los datos para poder intuir si existe una relación entre la variable independiente y la variable respuesta."
   ]
  },
  {
   "cell_type": "code",
   "execution_count": null,
   "metadata": {},
   "outputs": [],
   "source": [
    "# Número de obsercaciones por clase\n",
    "# ==============================================================================\n",
    "datos.matricula.value_counts().sort_index()\n",
    "0    151\n",
    "1     49\n",
    "Name: matricula, dtype: int64\n",
    "# Gráfico\n",
    "# ==============================================================================\n",
    "fig, ax = plt.subplots(figsize=(6, 3.84))\n",
    "\n",
    "sns.violinplot(\n",
    "        x     = 'matricula',\n",
    "        y     = 'matematicas',\n",
    "        data  = datos,\n",
    "        #color = \"white\",\n",
    "        ax    = ax\n",
    "    )\n",
    "\n",
    "ax.set_title('Distribución notas de matemáticas por clase');"
   ]
  },
  {
   "cell_type": "code",
   "execution_count": 16,
   "metadata": {},
   "outputs": [
    {
     "name": "stdout",
     "output_type": "stream",
     "text": [
      "t=-8.245421127756739, p-value=2.248243794123437e-14\n"
     ]
    }
   ],
   "source": [
    "# T-test entre clases\n",
    "# ==============================================================================\n",
    "res_ttest = ttest_ind(\n",
    "                x1 = matematicas[matricula == 0],\n",
    "                x2 = matematicas[matricula == 1],\n",
    "                alternative='two-sided'\n",
    "            )\n",
    "print(f\"t={res_ttest[0]}, p-value={res_ttest[1]}\")"
   ]
  },
  {
   "cell_type": "markdown",
   "metadata": {},
   "source": [
    "Tanto el gráfico como el t-test muestran evidencias de que existe una diferencia entre la nota de las personas con matrícula y sin matrícula. Esta información es útil para considerar la nota de matemáticas como un buen predictor para el modelo."
   ]
  },
  {
   "cell_type": "markdown",
   "metadata": {},
   "source": [
    "### Ajuste del modelo\n",
    "\n",
    "\n",
    "Se ajusta un modelo empleando como variable respuesta matricula y como predictor matematicas. Como en todo estudio predictivo, no solo es importante ajustar el modelo, sino también cuantificar su capacidad para predecir nuevas observaciones. Para poder hacer esta evaluación, se dividen los datos en dos grupos, uno de entrenamiento y otro de test."
   ]
  },
  {
   "cell_type": "markdown",
   "metadata": {},
   "source": [
    "### Scikit-learn"
   ]
  },
  {
   "cell_type": "code",
   "execution_count": 79,
   "metadata": {},
   "outputs": [
    {
     "name": "stdout",
     "output_type": "stream",
     "text": [
      "Intercept: [-9.79394248]\n",
      "Coeficiente: [('matematicas', 0.15634036199715154)]\n",
      "Accuracy de entrenamiento: 0.81\n"
     ]
    }
   ],
   "source": [
    "# División de los datos en train y test\n",
    "# ==============================================================================\n",
    "X = datos[['matematicas']]\n",
    "y = datos['matricula']\n",
    "\n",
    "X_train, X_test, y_train, y_test = train_test_split(\n",
    "                                        X.values.reshape(-1,1),\n",
    "                                        y.values.reshape(-1,1),\n",
    "                                        train_size   = 0.8,\n",
    "                                        random_state = 1234,\n",
    "                                        shuffle      = True\n",
    "                                    )\n",
    "\n",
    "# Creación del modelo\n",
    "# ==============================================================================\n",
    "# Para no incluir ningún tipo de regularización en el modelo se indica\n",
    "# penalty='none'\n",
    "modelo = LogisticRegression(penalty=None)\n",
    "modelo.fit(X = datos[['matematicas']], y = datos['matricula'])\n",
    "LogisticRegression(penalty='none')\n",
    "# Información del modelo\n",
    "# ==============================================================================\n",
    "print(\"Intercept:\", modelo.intercept_)\n",
    "print(\"Coeficiente:\", list(zip(X.columns, modelo.coef_.flatten(), )))\n",
    "print(\"Accuracy de entrenamiento:\", modelo.score(X, y))"
   ]
  },
  {
   "cell_type": "code",
   "execution_count": 80,
   "metadata": {},
   "outputs": [
    {
     "data": {
      "text/html": [
       "<div>\n",
       "<style scoped>\n",
       "    .dataframe tbody tr th:only-of-type {\n",
       "        vertical-align: middle;\n",
       "    }\n",
       "\n",
       "    .dataframe tbody tr th {\n",
       "        vertical-align: top;\n",
       "    }\n",
       "\n",
       "    .dataframe thead th {\n",
       "        text-align: right;\n",
       "    }\n",
       "</style>\n",
       "<table border=\"1\" class=\"dataframe\">\n",
       "  <thead>\n",
       "    <tr style=\"text-align: right;\">\n",
       "      <th></th>\n",
       "      <th>0</th>\n",
       "      <th>1</th>\n",
       "    </tr>\n",
       "  </thead>\n",
       "  <tbody>\n",
       "    <tr>\n",
       "      <th>0</th>\n",
       "      <td>0.967200</td>\n",
       "      <td>0.032800</td>\n",
       "    </tr>\n",
       "    <tr>\n",
       "      <th>1</th>\n",
       "      <td>0.818750</td>\n",
       "      <td>0.181250</td>\n",
       "    </tr>\n",
       "    <tr>\n",
       "      <th>2</th>\n",
       "      <td>0.794385</td>\n",
       "      <td>0.205615</td>\n",
       "    </tr>\n",
       "  </tbody>\n",
       "</table>\n",
       "</div>"
      ],
      "text/plain": [
       "          0         1\n",
       "0  0.967200  0.032800\n",
       "1  0.818750  0.181250\n",
       "2  0.794385  0.205615"
      ]
     },
     "execution_count": 80,
     "metadata": {},
     "output_type": "execute_result"
    }
   ],
   "source": [
    "# Predicciones probabilísticas\n",
    "# ==============================================================================\n",
    "# Con .predict_proba() se obtiene, para cada observación, la probabilidad predicha\n",
    "# de pertenecer a cada una de las dos clases.\n",
    "predicciones = modelo.predict_proba(X = datos[[\"matematicas\"]])\n",
    "predicciones = pd.DataFrame(predicciones, columns = modelo.classes_)\n",
    "predicciones.head(3)"
   ]
  },
  {
   "cell_type": "code",
   "execution_count": 71,
   "metadata": {},
   "outputs": [
    {
     "data": {
      "text/plain": [
       "array([0, 0, 1, 1, 0, 0, 0, 0, 0, 0, 0, 1, 0, 1, 0, 0, 0, 0, 0, 0, 0, 0,\n",
       "       0, 0, 1, 0, 0, 0, 0, 0, 0, 0, 0, 0, 0, 0, 0, 0, 0, 0], dtype=int64)"
      ]
     },
     "execution_count": 71,
     "metadata": {},
     "output_type": "execute_result"
    }
   ],
   "source": [
    "# Predicciones con clasificación final\n",
    "# ==============================================================================\n",
    "# Con .predict() se obtiene, para cada observación, la clasificación predicha por\n",
    "# el modelo. Esta clasificación se corresponde con la clase con mayor probabilidad.\n",
    "predicciones = modelo.predict(X = X_test)\n",
    "predicciones"
   ]
  },
  {
   "cell_type": "markdown",
   "metadata": {},
   "source": [
    "### Statsmodels\n",
    "\n",
    "La implementación de regresión logística de Statsmodels, es más completa que la de Scikitlearn ya que, además de ajustar el modelo, permite calcular los test estadísticos y análisis necesarios para verificar que se cumplen las condiciones sobre las que se basa este tipo de modelos. Statsmodels tiene dos formas de entrenar el modelo:\n",
    "\n",
    "- Indicando la fórmula del modelo y pasando los datos de entrenamiento como un dataframe que incluye la variable respuesta y los predictores. Esta forma es similar a la utilizada en $R$.\n",
    "\n",
    "- Pasar dos matrices, una con los predictores y otra con la variable respuesta. Esta es igual a la empleada por Scikitlearn con la diferencia de que a la matriz de predictores hay que añadirle una primera columna de 1s."
   ]
  },
  {
   "cell_type": "code",
   "execution_count": 11,
   "metadata": {},
   "outputs": [],
   "source": [
    "# División de los datos en train y test\n",
    "# ==============================================================================\n",
    "X = datos[['matematicas']]\n",
    "y = datos['matricula']\n",
    "\n",
    "X_train, X_test, y_train, y_test = train_test_split(\n",
    "                                        X.values.reshape(-1,1),\n",
    "                                        y.values.reshape(-1,1),\n",
    "                                        train_size   = 0.8,\n",
    "                                        random_state = 1234,\n",
    "                                        shuffle      = True\n",
    "                                    )"
   ]
  },
  {
   "cell_type": "code",
   "execution_count": null,
   "metadata": {},
   "outputs": [],
   "source": [
    "# Creación del modelo utilizando el modo fórmula (similar a R)\n",
    "# ==============================================================================\n",
    "# datos_train = pd.DataFrame(np.hstack((X_train, y_train)),\n",
    "#                            columns=['matematicas', 'matricula'])\n",
    "# modelo = smf.logit(formula = 'matricula ~matematicas', data = datos_train)\n",
    "# modelo = modelo.fit()\n",
    "# print(modelo.summary())"
   ]
  },
  {
   "cell_type": "code",
   "execution_count": 12,
   "metadata": {},
   "outputs": [
    {
     "name": "stdout",
     "output_type": "stream",
     "text": [
      "Optimization terminated successfully.\n",
      "         Current function value: 0.451215\n",
      "         Iterations 6\n",
      "                           Logit Regression Results                           \n",
      "==============================================================================\n",
      "Dep. Variable:                      y   No. Observations:                  160\n",
      "Model:                          Logit   Df Residuals:                      158\n",
      "Method:                           MLE   Df Model:                            1\n",
      "Date:                Thu, 16 May 2024   Pseudo R-squ.:                  0.2247\n",
      "Time:                        14:40:07   Log-Likelihood:                -72.194\n",
      "converged:                       True   LL-Null:                       -93.122\n",
      "Covariance Type:            nonrobust   LLR p-value:                 9.831e-11\n",
      "==============================================================================\n",
      "                 coef    std err          z      P>|z|      [0.025      0.975]\n",
      "------------------------------------------------------------------------------\n",
      "const         -8.9848      1.543     -5.821      0.000     -12.010      -5.960\n",
      "x1             0.1439      0.027      5.387      0.000       0.092       0.196\n",
      "==============================================================================\n"
     ]
    }
   ],
   "source": []
  },
  {
   "cell_type": "markdown",
   "metadata": {},
   "source": [
    "El coeficiente estimado para la intersección (Intercept o const) es el valor esperado del logaritmo de odds de que un estudiante obtenga matrícula teniendo un 0 en matemáticas. Como cabría imaginar, los odds son muy bajos $e−8.9848 = 0.0001254$, lo que se corresponde con una probabilidad de obtener matrícula de $p = \\frac{e^{0.0001254}}{1 + e^{0.0001254}} = 0.000125$.\n",
    "\n",
    "Acorde al modelo, el logaritmo de odds de que un estudiante tenga matrícula está positivamente relacionado con la puntuación obtenida en matemáticas (coeficiente de regresión = 0.1439). Esto significa que, por cada unidad que se incrementa la variable matemáticas, se espera que el logaritmo de odds de la variable matrícula se incremente en promedio 0.1439 unidades. Aplicando la inversa del logaritmo natural ( $e^{0.1439}=1.155$) se obtiene que, por cada unidad que se incrementa la variable matemáticas, los odds de obtener matrícula se incremente en promedio 1.169 unidades. No hay que confundir esto último con que la probabilidad de matrícula se incremente un 1.169 %.\n",
    "\n",
    "A diferencia de la regresión lineal en la que  $β_1$ se corresponde con el cambio promedio en la variable dependiente $y$ debido al incremento en una unidad del predictor $x_1$, en regresión logística, $β_1$ indica el cambio en el logaritmo de odds debido al incremento en una unidad de $x_1$, o lo que es lo mismo, multiplica los odds por $e^{β_1}$. Dado que la relación entre  $p(y=1)$ y $x$ no es lineal, los coeficientes de regresión $β_p$ no se corresponden con el cambio en la probabilidad de $y$ asociada con el incremento en una unidad de $x$. Cuánto se incremente la probabilidad de $y$ por unidad de $x$ depende del valor de $x$, es decir, de la posición en la curva logística en la que se encuentre.\n",
    "\n",
    "Además del valor de las estimaciones de los coeficientes parciales de correlación del modelo, es conveniente calcular sus correspondientes intervalos de confianza."
   ]
  },
  {
   "cell_type": "markdown",
   "metadata": {},
   "source": [
    "### Intervalos de confianza de los coeficientes"
   ]
  },
  {
   "cell_type": "code",
   "execution_count": null,
   "metadata": {},
   "outputs": [],
   "source": [
    "# Intervalos de confianza para los coeficientes del modelo\n",
    "# ==============================================================================\n",
    "intervalos_ci = modelo.conf_int(alpha=0.05)\n",
    "intervalos_ci = pd.DataFrame(intervalos_ci)\n",
    "intervalos_ci.columns = ['2.5%', '97.5%']\n",
    "intervalos_ci"
   ]
  },
  {
   "cell_type": "markdown",
   "metadata": {},
   "source": [
    "### Predicciones\n",
    "\n",
    "\n",
    "Una vez entrenado el modelo, se pueden obtener predicciones para nuevos datos. Los modelos de regresión logística de statsmodels devuelven la probabilidad de pertenecer a la clase de referencia."
   ]
  },
  {
   "cell_type": "code",
   "execution_count": null,
   "metadata": {},
   "outputs": [],
   "source": [
    "# Predicción de probabilidades\n",
    "# ==============================================================================\n",
    "predicciones = modelo.predict(exog = X_train)\n",
    "predicciones[:4]"
   ]
  },
  {
   "cell_type": "markdown",
   "metadata": {},
   "source": [
    "Para obtener la clasificación final, se convierten los valores de probabilidad mayores de 0.5 a 1 y los mejores a 0."
   ]
  },
  {
   "cell_type": "code",
   "execution_count": null,
   "metadata": {},
   "outputs": [],
   "source": [
    "# Clasificación predicha\n",
    "# ==============================================================================\n",
    "clasificacion = np.where(predicciones<0.5, 0, 1)\n",
    "clasificacion"
   ]
  },
  {
   "cell_type": "markdown",
   "metadata": {},
   "source": [
    "### Representación gráfica del modelo\n",
    "\n",
    "\n",
    "Además de la línea de mínimos cuadrados, es recomendable incluir los límites superior e inferior del intervalo de confianza. Esto permite identificar la región en la que, según el modelo generado y para un determinado nivel de confianza, se encuentra el valor promedio de la variable respuesta."
   ]
  },
  {
   "cell_type": "code",
   "execution_count": null,
   "metadata": {},
   "outputs": [],
   "source": [
    "# Predicciones en todo el rango de X\n",
    "# ==============================================================================\n",
    "# Se crea un vector con nuevos valores interpolados en el rango de observaciones.\n",
    "grid_X = np.linspace(\n",
    "            start = min(datos.matematicas),\n",
    "            stop  = max(datos.matematicas),\n",
    "            num   = 200\n",
    "         ).reshape(-1,1)\n",
    "\n",
    "grid_X = sm.add_constant(grid_X, prepend=True)\n",
    "predicciones = modelo.predict(exog = grid_X)"
   ]
  },
  {
   "cell_type": "code",
   "execution_count": null,
   "metadata": {},
   "outputs": [],
   "source": [
    "# Gráfico del modelo\n",
    "# ==============================================================================\n",
    "fig, ax = plt.subplots(figsize=(6, 3.84))\n",
    "\n",
    "ax.scatter(\n",
    "    X_train[(y_train == 1).flatten(), 1],\n",
    "    y_train[(y_train == 1).flatten()].flatten()\n",
    ")\n",
    "ax.scatter(\n",
    "    X_train[(y_train == 0).flatten(), 1],\n",
    "    y_train[(y_train == 0).flatten()].flatten()\n",
    ")\n",
    "ax.plot(grid_X[:, 1], predicciones, color = \"gray\")\n",
    "ax.set_title(\"Modelo regresión logística\")\n",
    "ax.set_ylabel(\"P(matrícula = 1 | matemáticas)\")\n",
    "ax.set_xlabel(\"Nota matemáticas\");"
   ]
  },
  {
   "cell_type": "markdown",
   "metadata": {},
   "source": [
    "### Accuracy de test\n",
    "\n",
    "\n",
    "Se calcula el porcentaje de aciertos que tiene el modelo al predecir las observaciones de test (accuracy)."
   ]
  },
  {
   "cell_type": "code",
   "execution_count": null,
   "metadata": {},
   "outputs": [],
   "source": [
    "# Accuracy de test del modelo \n",
    "# ==============================================================================\n",
    "X_test = sm.add_constant(X_test, prepend=True)\n",
    "predicciones = modelo.predict(exog = X_test)\n",
    "clasificacion = np.where(predicciones<0.5, 0, 1)\n",
    "accuracy = accuracy_score(\n",
    "            y_true    = y_test,\n",
    "            y_pred    = clasificacion,\n",
    "            normalize = True\n",
    "           )\n",
    "print(\"\")\n",
    "print(f\"El accuracy de test es: {100*accuracy}%\")"
   ]
  },
  {
   "cell_type": "markdown",
   "metadata": {},
   "source": [
    "### Conclusión\n",
    "\n",
    "\n",
    "El modelo logístico creado para predecir la probabilidad de que un alumno obtenga matrícula de honor a partir de la nota de matemáticas es en conjunto significativo (Likelihood ratio p-value = 9.831e-11). El p-value del predictor matemáticas es significativo (p-value = 7.17e-08).\n",
    "\n",
    "$$P(matricula) = \\frac{e^{−8.9848+0.1439∗nota matematicas}}{1 + e^{−8.9848+0.1439∗nota matematicas}}$$\n",
    " \n",
    "Los resultados obtenidos con el conjunto de test indican que el modelo es capaz de clasificar correctamente el 87.5% de las observaciones."
   ]
  },
  {
   "cell_type": "markdown",
   "metadata": {},
   "source": [
    "--------------------"
   ]
  },
  {
   "cell_type": "markdown",
   "metadata": {},
   "source": [
    "### Ejemplo regresión logística múltiple\n",
    "\n",
    "\n",
    "El set de datos spam, obtenido de UCI Repository Of Machine Learning Databases contiene información sobre 4601 correos electrónicos clasificados como spam y no spam.\n",
    "\n",
    "Para cada correo electrónico se dispone de 58 variables: las 48 primeras contienen la frecuencia con la que aparecen en el texto del email determinadas palabras. Las variables 49-54 indican la frecuencia con la que aparecen los caracteres ;’, ‘(’, ‘[’, ‘!’, ‘$’, ‘#’. Las variables 55-57 contienen la media, a longitud máxima y el número total de letras mayúsculas.\n",
    "\n",
    "Se crear un modelo de regresión logística con el objetivo de clasificar si un correo es spam o no."
   ]
  },
  {
   "cell_type": "markdown",
   "metadata": {},
   "source": [
    "### Librerías"
   ]
  },
  {
   "cell_type": "code",
   "execution_count": null,
   "metadata": {},
   "outputs": [],
   "source": [
    "# Tratamiento de datos\n",
    "# ==============================================================================\n",
    "import pandas as pd\n",
    "import numpy as np\n",
    "\n",
    "# Gráficos\n",
    "# ==============================================================================\n",
    "import matplotlib.pyplot as plt\n",
    "from matplotlib import style\n",
    "import seaborn as sns\n",
    "\n",
    "# Preprocesado y modelado\n",
    "# ==============================================================================\n",
    "from sklearn.linear_model import LogisticRegression\n",
    "from sklearn.model_selection import train_test_split\n",
    "from sklearn.metrics import accuracy_score\n",
    "from sklearn.metrics import plot_confusion_matrix\n",
    "import statsmodels.api as sm\n",
    "import statsmodels.formula.api as smf\n",
    "\n",
    "# Configuración matplotlib\n",
    "# ==============================================================================\n",
    "plt.rcParams['image.cmap'] = \"bwr\"\n",
    "#plt.rcParams['figure.dpi'] = \"100\"\n",
    "plt.rcParams['savefig.bbox'] = \"tight\"\n",
    "style.use('ggplot') or plt.style.use('ggplot')\n",
    "\n",
    "# Configuración warnings\n",
    "# ==============================================================================\n",
    "import warnings\n",
    "warnings.filterwarnings('ignore')"
   ]
  },
  {
   "cell_type": "code",
   "execution_count": null,
   "metadata": {},
   "outputs": [],
   "source": [
    "# Datos\n",
    "# ==============================================================================\n",
    "url = 'https://raw.githubusercontent.com/JoaquinAmatRodrigo/' \\\n",
    "       + 'Estadistica-machine-learning-python/master/data/spam.csv'\n",
    "datos = pd.read_csv(url)"
   ]
  },
  {
   "cell_type": "markdown",
   "metadata": {},
   "source": [
    "Se codifica la variable respuesta como 1 si es spam y 0 si no lo es, y se identifica cuantas observaciones hay de cada clase."
   ]
  },
  {
   "cell_type": "code",
   "execution_count": null,
   "metadata": {},
   "outputs": [],
   "source": [
    "datos['type'] = np.where(datos['type'] == 'spam', 1, 0)\n",
    "\n",
    "print(\"Número de observaciones por clase\")\n",
    "print(datos['type'].value_counts())\n",
    "print(\"\")\n",
    "\n",
    "print(\"Porcentaje de observaciones por clase\")\n",
    "print(100 * datos['type'].value_counts(normalize=True))"
   ]
  },
  {
   "cell_type": "markdown",
   "metadata": {},
   "source": [
    "El 66.6% de los correos no son spam y el 39.4% sí lo son. Un modelo de clasificación que sea útil debe de ser capaz de predecir correctamente un porcentaje de observaciones por encima del porcentaje de la clase mayoritaria. En este caso, el umbral de referencia que se tiene que superar es del 66.6%."
   ]
  },
  {
   "cell_type": "markdown",
   "metadata": {},
   "source": [
    "### Ajuste del modelo\n",
    "\n",
    "\n",
    "Se ajusta un modelo de regresión logística múltiple con el objetivo de predecir si un correo es spam en función de todas las variables disponibles."
   ]
  },
  {
   "cell_type": "code",
   "execution_count": null,
   "metadata": {},
   "outputs": [],
   "source": [
    "# División de los datos en train y test\n",
    "# ==============================================================================\n",
    "X = datos.drop(columns = 'type')\n",
    "y = datos['type']\n",
    "\n",
    "X_train, X_test, y_train, y_test = train_test_split(\n",
    "                                        X,\n",
    "                                        y.values.reshape(-1,1),\n",
    "                                        train_size   = 0.8,\n",
    "                                        random_state = 1234,\n",
    "                                        shuffle      = True\n",
    "                                    )"
   ]
  },
  {
   "cell_type": "code",
   "execution_count": null,
   "metadata": {},
   "outputs": [],
   "source": [
    "# Creación del modelo utilizando matrices como en scikitlearn\n",
    "# ==============================================================================\n",
    "# A la matriz de predictores se le tiene que añadir una columna de 1s para el intercept del modelo\n",
    "X_train = sm.add_constant(X_train, prepend=True)\n",
    "modelo = sm.Logit(endog=y_train, exog=X_train,)\n",
    "modelo = modelo.fit()\n",
    "print(modelo.summary())"
   ]
  },
  {
   "cell_type": "markdown",
   "metadata": {},
   "source": [
    "### Predicciones\n",
    "\n",
    "Una vez entrenado el modelo, se pueden obtener predicciones para nuevos datos. Los modelos de statsmodels permiten calcular los intervalos de confianza asociados a cada predicción."
   ]
  },
  {
   "cell_type": "code",
   "execution_count": null,
   "metadata": {},
   "outputs": [],
   "source": [
    "# Predicciones con intervalo de confianza \n",
    "# ==============================================================================\n",
    "predicciones = modelo.predict(exog = X_train)\n",
    "\n",
    "# Clasificación predicha\n",
    "# ==============================================================================\n",
    "clasificacion = np.where(predicciones<0.5, 0, 1)\n",
    "clasificacion"
   ]
  },
  {
   "cell_type": "markdown",
   "metadata": {},
   "source": [
    "### Accuracy de test\n",
    "\n",
    "Se calcula el porcentaje de aciertos que tiene el modelo al predecir las observaciones de test (accuracy)."
   ]
  },
  {
   "cell_type": "code",
   "execution_count": null,
   "metadata": {},
   "outputs": [],
   "source": [
    "# Accuracy de test del modelo \n",
    "# ==============================================================================\n",
    "X_test = sm.add_constant(X_test, prepend=True)\n",
    "predicciones = modelo.predict(exog = X_test)\n",
    "clasificacion = np.where(predicciones<0.5, 0, 1)\n",
    "accuracy = accuracy_score(\n",
    "            y_true    = y_test,\n",
    "            y_pred    = clasificacion,\n",
    "            normalize = True\n",
    "           )\n",
    "print(\"\")\n",
    "print(f\"El accuracy de test es: {100*accuracy}%\")"
   ]
  },
  {
   "cell_type": "code",
   "execution_count": null,
   "metadata": {},
   "outputs": [],
   "source": [
    "# Matriz de confusión de las predicciones de test\n",
    "# ==============================================================================\n",
    "confusion_matrix = pd.crosstab(\n",
    "    y_test.ravel(),\n",
    "    clasificacion,\n",
    "    rownames=['Real'],\n",
    "    colnames=['Predicción']\n",
    ")\n",
    "confusion_matrix"
   ]
  },
  {
   "cell_type": "markdown",
   "metadata": {},
   "source": [
    "### Conclusión\n",
    "\n",
    "El modelo logístico creado para predecir la probabilidad de que un correo sea spam es en conjunto significativo (Likelihood ratio p-value = 0). El porcentaje de clasificación correcta en el conjunto del test es del 92.8%, un valor muy por encima del umbral de 66.6% esperado por azar.\n",
    "\n",
    "Acorde al p-value individual de cada predictor, solo algunos de ellos aportan información al modelo. Es conveniente identificar cuáles son y excluirlos para simplificar el modelo y evitar la introducción de ruido. Una forma de conseguir reducir la influencia de predictores que no aportan a un modelo de regresión logística es incorporar regularización en su ajuste."
   ]
  }
 ],
 "metadata": {
  "kernelspec": {
   "display_name": "Python 3",
   "language": "python",
   "name": "python3"
  },
  "language_info": {
   "codemirror_mode": {
    "name": "ipython",
    "version": 3
   },
   "file_extension": ".py",
   "mimetype": "text/x-python",
   "name": "python",
   "nbconvert_exporter": "python",
   "pygments_lexer": "ipython3",
   "version": "3.12.1"
  }
 },
 "nbformat": 4,
 "nbformat_minor": 2
}
