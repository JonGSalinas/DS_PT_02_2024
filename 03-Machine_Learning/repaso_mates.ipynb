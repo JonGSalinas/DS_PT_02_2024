{
 "cells": [
  {
   "cell_type": "markdown",
   "metadata": {},
   "source": [
    "# Algunas operaciones con trampa"
   ]
  },
  {
   "cell_type": "code",
   "execution_count": 2,
   "metadata": {},
   "outputs": [
    {
     "name": "stdout",
     "output_type": "stream",
     "text": [
      "40\n",
      "40\n"
     ]
    }
   ],
   "source": [
    "# Si bien esto lo podemos hacer (se llama propiedad distributiva):\n",
    "print(4*(3+7)) \n",
    "print(4*3 + 4*7)"
   ]
  },
  {
   "cell_type": "code",
   "execution_count": 3,
   "metadata": {},
   "outputs": [
    {
     "name": "stdout",
     "output_type": "stream",
     "text": [
      "60\n",
      "50\n"
     ]
    }
   ],
   "source": [
    "# Esto no es igual\n",
    "print(2*3*(3+7)) \n",
    "print(2*3 + 2*7 +3*3 + 3*7)"
   ]
  },
  {
   "cell_type": "code",
   "execution_count": 4,
   "metadata": {},
   "outputs": [
    {
     "name": "stdout",
     "output_type": "stream",
     "text": [
      "9.5\n",
      "9.5\n",
      "9.5\n"
     ]
    }
   ],
   "source": [
    "# Esto está bien\n",
    "print(19/2) \n",
    "print(18/2 + 1/2)\n",
    "print(14/2 + 5/2)\n"
   ]
  },
  {
   "cell_type": "code",
   "execution_count": 5,
   "metadata": {},
   "outputs": [
    {
     "name": "stdout",
     "output_type": "stream",
     "text": [
      "3.8\n",
      "15.833333333333332\n",
      "7.166666666666667\n"
     ]
    }
   ],
   "source": [
    "# Esto no está bien\n",
    "print(19/5) \n",
    "print(19/3 + 19/2)\n",
    "print(14/3 + 5/2)"
   ]
  },
  {
   "cell_type": "code",
   "execution_count": 7,
   "metadata": {},
   "outputs": [
    {
     "name": "stdout",
     "output_type": "stream",
     "text": [
      "30.0\n",
      "30.0\n"
     ]
    }
   ],
   "source": [
    "# Esto está bien\n",
    "from math import sqrt\n",
    "print(sqrt(25*36)) \n",
    "print(sqrt(25)*sqrt(36))\n"
   ]
  },
  {
   "cell_type": "code",
   "execution_count": 8,
   "metadata": {},
   "outputs": [
    {
     "name": "stdout",
     "output_type": "stream",
     "text": [
      "7.810249675906654\n",
      "11.0\n"
     ]
    }
   ],
   "source": [
    "# Esto no está bien\n",
    "from math import sqrt\n",
    "print(sqrt(25+36)) \n",
    "print(sqrt(25)+sqrt(36))\n"
   ]
  },
  {
   "cell_type": "code",
   "execution_count": 10,
   "metadata": {},
   "outputs": [
    {
     "name": "stdout",
     "output_type": "stream",
     "text": [
      "810000\n",
      "810000\n"
     ]
    }
   ],
   "source": [
    "# Esto está bien\n",
    "from math import sqrt\n",
    "print((25*36)**2) \n",
    "print(25**2*36**2)"
   ]
  },
  {
   "cell_type": "code",
   "execution_count": 11,
   "metadata": {},
   "outputs": [
    {
     "name": "stdout",
     "output_type": "stream",
     "text": [
      "3721\n",
      "1921\n"
     ]
    }
   ],
   "source": [
    "# Esto no está bien\n",
    "from math import sqrt\n",
    "print((25+36)**2) \n",
    "print(25**2+36**2)"
   ]
  },
  {
   "cell_type": "code",
   "execution_count": 14,
   "metadata": {},
   "outputs": [
    {
     "name": "stdout",
     "output_type": "stream",
     "text": [
      "25.000000000000004\n",
      "25.0\n",
      "25.000000000000007\n"
     ]
    }
   ],
   "source": [
    "# Esto está bien\n",
    "from math import sqrt\n",
    "print(sqrt(5)**4)\n",
    "print(sqrt(5**4))\n",
    "print(sqrt(5)*sqrt(5)*sqrt(5)*sqrt(5))"
   ]
  },
  {
   "cell_type": "code",
   "execution_count": 16,
   "metadata": {},
   "outputs": [
    {
     "name": "stdout",
     "output_type": "stream",
     "text": [
      "5.0\n",
      "11.180339887498949\n"
     ]
    }
   ],
   "source": [
    "# Esto no está bien\n",
    "from math import sqrt\n",
    "print(sqrt(5*5))\n",
    "print(5*sqrt(5))"
   ]
  },
  {
   "cell_type": "code",
   "execution_count": 21,
   "metadata": {},
   "outputs": [
    {
     "name": "stdout",
     "output_type": "stream",
     "text": [
      "11.180339887498949\n",
      "11.18033988749895\n",
      "11.180339887498949\n"
     ]
    }
   ],
   "source": [
    "# Equivalente\n",
    "print(sqrt(5**3))\n",
    "print(sqrt(5)**3)\n",
    "print(5**(3/2))"
   ]
  },
  {
   "cell_type": "code",
   "execution_count": 22,
   "metadata": {},
   "outputs": [
    {
     "name": "stdout",
     "output_type": "stream",
     "text": [
      "11.180339887498949\n",
      "62.5\n"
     ]
    }
   ],
   "source": [
    "# Esto no está bien\n",
    "print(sqrt(5**3))\n",
    "print(5**3/2) # Orden paréntesis"
   ]
  },
  {
   "cell_type": "code",
   "execution_count": 25,
   "metadata": {},
   "outputs": [
    {
     "name": "stdout",
     "output_type": "stream",
     "text": [
      "7.0\n",
      "10.5\n"
     ]
    }
   ],
   "source": [
    "# Sobre la media!\n",
    "print((6+7+8)/3)\n",
    "print((11+10)/2)"
   ]
  },
  {
   "cell_type": "code",
   "execution_count": 27,
   "metadata": {},
   "outputs": [
    {
     "name": "stdout",
     "output_type": "stream",
     "text": [
      "8.75\n",
      "8.4\n"
     ]
    }
   ],
   "source": [
    "# Media de las medias vs media de todo:\n",
    "print((7 + 10.5)/2)\n",
    "print((6+7+8+11+10)/5)"
   ]
  },
  {
   "cell_type": "code",
   "execution_count": 28,
   "metadata": {},
   "outputs": [
    {
     "name": "stdout",
     "output_type": "stream",
     "text": [
      "8.4\n"
     ]
    }
   ],
   "source": [
    "# Es correcto si hacemos la media ponderada\n",
    "print((7*3 + 10.5*2)/(3+2))"
   ]
  },
  {
   "cell_type": "code",
   "execution_count": 32,
   "metadata": {},
   "outputs": [
    {
     "name": "stdout",
     "output_type": "stream",
     "text": [
      "7.0\n",
      "10.5\n"
     ]
    }
   ],
   "source": [
    "# Es correcto si las muestras son del mismo tamaño\n",
    "print((6+8)/2)\n",
    "print((11+10)/2)\n"
   ]
  },
  {
   "cell_type": "code",
   "execution_count": 33,
   "metadata": {},
   "outputs": [
    {
     "name": "stdout",
     "output_type": "stream",
     "text": [
      "8.75\n",
      "8.75\n"
     ]
    }
   ],
   "source": [
    "# Es correcto si las muestras son del mismo tamaño\n",
    "print((6+8+11+10)/4)\n",
    "print((7 + 10.5)/2)"
   ]
  },
  {
   "cell_type": "markdown",
   "metadata": {},
   "source": [
    "# Funciones"
   ]
  },
  {
   "cell_type": "markdown",
   "metadata": {},
   "source": [
    "Dominio: \"la entrada de la función\"\n",
    "\n",
    "Imagen: \"la salida de la función\"\n",
    "\n",
    "Ejemplo: f(x) = x**2 - 1\n",
    "\n",
    "f(2) = 4 - 1 = 3\n",
    "\n",
    "Dominio son los valores que puede tomar x (en este caso 2). En este caso es cualquier número\n",
    "\n",
    "Imagen son los valores que toma la salida y (en este caso 3). En este caso es cualquier número\n",
    "\n"
   ]
  },
  {
   "cell_type": "markdown",
   "metadata": {},
   "source": [
    "Ejemplo: f(x) = abs(x)\n",
    "\n",
    "El dominio son todos los números\n",
    "\n",
    "En este caso la imagen son  son los números positivos y el 0, puesto que el valor absoluto nunca puede ser menor que 0"
   ]
  },
  {
   "cell_type": "markdown",
   "metadata": {},
   "source": [
    "Ejemplo: f(x) = 1/x\n",
    "\n",
    "El dominio son todos los números excepto el 0\n",
    "\n",
    "La imagen es cualquier número"
   ]
  },
  {
   "cell_type": "markdown",
   "metadata": {},
   "source": [
    "Inyectiva, sobreyectiva y biyectiva"
   ]
  },
  {
   "cell_type": "markdown",
   "metadata": {},
   "source": [
    "Una función es inyectiva cuando no hay dos elementos del dominio que tengan la misma imagen\n",
    "\n",
    " f(x) = abs(x) no es inyectiva porque abs(-2) = abs(2)"
   ]
  },
  {
   "cell_type": "markdown",
   "metadata": {},
   "source": [
    "Una función es sobreyectiva, también llamada suprayectiva o exhaustiva, cuando el dominio y la imagen coinciden.\n",
    "\n",
    "f(x) = x**2 - 1 no es sobreyectiva porque el f(-2) existe pero el -2 no está en la imagen"
   ]
  },
  {
   "cell_type": "markdown",
   "metadata": {},
   "source": [
    "Una función es biyectiva, cuando es inyectiva y sobreyectiva al mismo tiempo"
   ]
  }
 ],
 "metadata": {
  "kernelspec": {
   "display_name": "Python 3",
   "language": "python",
   "name": "python3"
  },
  "language_info": {
   "codemirror_mode": {
    "name": "ipython",
    "version": 3
   },
   "file_extension": ".py",
   "mimetype": "text/x-python",
   "name": "python",
   "nbconvert_exporter": "python",
   "pygments_lexer": "ipython3",
   "version": "3.12.1"
  }
 },
 "nbformat": 4,
 "nbformat_minor": 2
}
